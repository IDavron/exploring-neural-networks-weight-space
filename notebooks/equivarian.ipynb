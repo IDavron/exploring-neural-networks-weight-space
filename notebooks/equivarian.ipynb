{
 "cells": [
  {
   "cell_type": "code",
   "execution_count": 1,
   "metadata": {},
   "outputs": [],
   "source": [
    "import torch\n",
    "\n",
    "from src.model.models import DWSModelForClassification\n",
    "from src.data.datasets import ModelDataset\n",
    "\n",
    "from src.model.layers.layers import InvariantLayer"
   ]
  },
  {
   "cell_type": "code",
   "execution_count": 2,
   "metadata": {},
   "outputs": [
    {
     "name": "stdout",
     "output_type": "stream",
     "text": [
      "Weight shapes:  (torch.Size([2, 8]), torch.Size([8, 1]))\n",
      "Bias shapes:  (torch.Size([8]), torch.Size([1]))\n",
      "([tensor([[[[-0.9813],\n",
      "          [ 3.5777],\n",
      "          [ 3.0321],\n",
      "          [ 2.0292],\n",
      "          [ 0.0369],\n",
      "          [-1.2508],\n",
      "          [-0.1338],\n",
      "          [ 1.3963]],\n",
      "\n",
      "         [[-0.4006],\n",
      "          [ 4.3228],\n",
      "          [ 4.6013],\n",
      "          [ 1.1719],\n",
      "          [-2.0653],\n",
      "          [-0.5007],\n",
      "          [-0.2356],\n",
      "          [ 0.9208]]]]), tensor([[[[-1.4186]],\n",
      "\n",
      "         [[ 4.7377]],\n",
      "\n",
      "         [[-4.4280]],\n",
      "\n",
      "         [[ 2.0175]],\n",
      "\n",
      "         [[ 0.7628]],\n",
      "\n",
      "         [[-1.3230]],\n",
      "\n",
      "         [[ 0.2558]],\n",
      "\n",
      "         [[ 1.3703]]]])], [tensor([[[ 1.4347],\n",
      "         [-2.5075],\n",
      "         [ 2.1796],\n",
      "         [ 3.7553],\n",
      "         [ 1.4371],\n",
      "         [ 1.7872],\n",
      "         [-0.5871],\n",
      "         [ 2.6896]]]), tensor([[[1.1505]]])])\n"
     ]
    }
   ],
   "source": [
    "train_dataset = ModelDataset(\"../data/dataset_splits.json\")\n",
    "train_dataloader = torch.utils.data.DataLoader(\n",
    "        dataset=train_dataset,\n",
    "        batch_size=1,\n",
    "        shuffle=True,\n",
    "        num_workers=8,\n",
    "        pin_memory=True,\n",
    "    )\n",
    "\n",
    "point = train_dataset.__getitem__(0)\n",
    "weight_shapes = tuple(w.shape[:2] for w in point.weights)\n",
    "bias_shapes = tuple(b.shape[:1] for b in point.biases)\n",
    "# model = DWSModelForClassification(\n",
    "#             weight_shapes=weight_shapes,\n",
    "#             bias_shapes=bias_shapes,\n",
    "#             input_features=1,\n",
    "#             hidden_dim=32,\n",
    "#             n_hidden=4,\n",
    "#             reduction=\"max\",\n",
    "#             n_fc_layers=1,\n",
    "#             set_layer=\"sab\",\n",
    "#             n_out_fc=16,\n",
    "#             dropout_rate=0.0,\n",
    "#             bn=True,\n",
    "#             diagonal=False,\n",
    "#         )\n",
    "\n",
    "# optimizer = torch.optim.Adam(\n",
    "#             [\n",
    "#                 dict(params=model.parameters(), lr=5e-3),\n",
    "#             ],\n",
    "#             lr=5e-3,\n",
    "#             weight_decay=5e-4,\n",
    "        # )\n",
    "print(\"Weight shapes: \", weight_shapes)\n",
    "print(\"Bias shapes: \", bias_shapes)\n",
    "layer = InvariantLayer(weight_shapes, bias_shapes, 1, 10, True, \"max\", 1)\n",
    "\n",
    "for i, batch in enumerate(train_dataloader):\n",
    "        inputs = (batch.weights, batch.biases)\n",
    "        # out = layer(inputs)\n",
    "        print(inputs)\n",
    "        break"
   ]
  },
  {
   "cell_type": "code",
   "execution_count": 7,
   "metadata": {},
   "outputs": [
    {
     "name": "stdout",
     "output_type": "stream",
     "text": [
      "[tensor([[[ 1.4347],\n",
      "         [-2.5075],\n",
      "         [ 2.1796],\n",
      "         [ 3.7553],\n",
      "         [ 1.4371],\n",
      "         [ 1.7872],\n",
      "         [-0.5871],\n",
      "         [ 2.6896]]]), tensor([[[1.1505]]])]\n"
     ]
    }
   ],
   "source": [
    "print(inputs[1])"
   ]
  }
 ],
 "metadata": {
  "kernelspec": {
   "display_name": "venv",
   "language": "python",
   "name": "python3"
  },
  "language_info": {
   "codemirror_mode": {
    "name": "ipython",
    "version": 3
   },
   "file_extension": ".py",
   "mimetype": "text/x-python",
   "name": "python",
   "nbconvert_exporter": "python",
   "pygments_lexer": "ipython3",
   "version": "3.12.2"
  }
 },
 "nbformat": 4,
 "nbformat_minor": 2
}
