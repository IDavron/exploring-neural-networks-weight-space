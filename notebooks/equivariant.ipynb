{
 "cells": [
  {
   "cell_type": "code",
   "execution_count": 7,
   "metadata": {},
   "outputs": [],
   "source": [
    "import torch\n",
    "\n",
    "from src.model.models import DWSModelForClassification\n",
    "from src.data.datasets import ModelDataset\n",
    "\n",
    "from src.model.layers.layers import NaiveInvariantLayer\n",
    "\n",
    "from src.model.models import DWSModelForClassification\n",
    "\n",
    "from src.data.datasets import Batch\n",
    "from src.model.layers.layers import WeightToWeightBlock, BiasToBiasBlock, BiasToWeightBlock, DWSLayer, InvariantLayer, NaiveInvariantLayer\n",
    "\n"
   ]
  },
  {
   "cell_type": "markdown",
   "metadata": {},
   "source": [
    "## Small model to experiment with"
   ]
  },
  {
   "cell_type": "code",
   "execution_count": 2,
   "metadata": {},
   "outputs": [],
   "source": [
    "class M(torch.nn.Module):\n",
    "    def __init__(self):\n",
    "        super(M, self).__init__()\n",
    "        self.fc = torch.nn.Linear(1, 2)\n",
    "        self.fc2 = torch.nn.Linear(2, 2)\n",
    "        self.fc3 = torch.nn.Linear(2, 1)\n",
    "\n",
    "    def forward(self, x):\n",
    "        return x\n",
    "    \n",
    "class M2(torch.nn.Module):\n",
    "    def __init__(self):\n",
    "        super(M2, self).__init__()\n",
    "        self.fc = torch.nn.Linear(1, 2)\n",
    "        self.fc3 = torch.nn.Linear(2, 1)\n",
    "\n",
    "    def forward(self, x):\n",
    "        return x"
   ]
  },
  {
   "cell_type": "code",
   "execution_count": 3,
   "metadata": {},
   "outputs": [],
   "source": [
    "def reduction(x: torch.tensor, dim=1, keepdim=False):\n",
    "    x, _ = torch.max(x, dim=dim, keepdim=keepdim)\n",
    "    return x"
   ]
  },
  {
   "cell_type": "code",
   "execution_count": 13,
   "metadata": {},
   "outputs": [
    {
     "name": "stdout",
     "output_type": "stream",
     "text": [
      "tensor([[ 0.5364,  0.5607, -0.1390]])\n",
      "tensor([[-0.7359,  0.1871, -0.6755]])\n",
      "tensor([[ 0.5364,  0.5607, -0.1390, -0.7359,  0.1871, -0.6755]])\n"
     ]
    }
   ],
   "source": [
    "torch.random.manual_seed(0)\n",
    "model = M()\n",
    "state_dict = model.state_dict()\n",
    "weights = tuple(\n",
    "    [v.permute(1, 0) for w, v in state_dict.items() if \"weight\" in w]\n",
    ")\n",
    "biases = tuple([v for w, v in state_dict.items() if \"bias\" in w])\n",
    "label = 1\n",
    "# add feature dim\n",
    "weights = tuple([w.unsqueeze(-1) for w in weights])\n",
    "biases = tuple([b.unsqueeze(-1) for b in biases])\n",
    "\n",
    "weights = tuple([w.unsqueeze(0) for w in weights])\n",
    "biases = tuple([b.unsqueeze(0) for b in biases])\n",
    "\n",
    "\n",
    "batch = Batch(weights=weights, biases=biases, label=label)\n",
    "\n",
    "input = (batch.weights, batch.biases)\n",
    "\n",
    "weights, biases = input\n",
    "pooled_weights = torch.cat(\n",
    "    [\n",
    "        reduction(w.permute(0, 3, 1, 2).flatten(start_dim=2), dim=2)\n",
    "        for w in weights\n",
    "    ],\n",
    "    dim=-1,\n",
    ")  # (bs, len(weights) * in_features)\n",
    "pooled_biases = torch.cat(\n",
    "    [reduction(b, dim=1) for b in biases], dim=-1\n",
    ")  # (bs, len(biases) * in_features)\n",
    "pooled_all = torch.cat(\n",
    "    [pooled_weights, pooled_biases], dim=-1\n",
    ")  # (bs, num layers * in_features)\n",
    "# out = self.layer(pooled_all)\n",
    "\n",
    "print(pooled_weights)\n",
    "print(pooled_biases)\n",
    "print(pooled_all)"
   ]
  },
  {
   "cell_type": "code",
   "execution_count": 14,
   "metadata": {},
   "outputs": [
    {
     "name": "stdout",
     "output_type": "stream",
     "text": [
      "(tensor([[[[-0.0075],\n",
      "          [ 0.5364]]]]), tensor([[[[-0.2723],\n",
      "          [-0.0140]],\n",
      "\n",
      "         [[ 0.1896],\n",
      "          [ 0.5607]]]]), tensor([[[[-0.2137]],\n",
      "\n",
      "         [[-0.1390]]]]))\n",
      "tensor([[ 0.5607,  0.5364, -0.1390]])\n",
      "tensor([[-0.7359,  0.1871, -0.6755]])\n",
      "tensor([[ 0.5607,  0.5364, -0.1390, -0.7359,  0.1871, -0.6755]])\n"
     ]
    }
   ],
   "source": [
    "torch.random.manual_seed(0)\n",
    "model = M()\n",
    "state_dict = model.state_dict()\n",
    "weights = tuple(\n",
    "    [v.permute(1, 0) for w, v in state_dict.items() if \"weight\" in w]\n",
    ")\n",
    "biases = tuple([v for w, v in state_dict.items() if \"bias\" in w])\n",
    "label = 1\n",
    "# add feature dim\n",
    "weights = tuple([w.unsqueeze(-1) for w in weights])\n",
    "biases = tuple([b.unsqueeze(-1) for b in biases])\n",
    "\n",
    "weights = tuple([w.unsqueeze(0) for w in weights])\n",
    "biases = tuple([b.unsqueeze(0) for b in biases])\n",
    "\n",
    "\n",
    "batch = Batch(weights=weights, biases=biases, label=label)\n",
    "\n",
    "input = (batch.weights, batch.biases)\n",
    "\n",
    "weight_shapes = tuple(w.shape[:2] for w in batch.weights)\n",
    "bias_shapes = tuple(b.shape[:1] for b in batch.biases)\n",
    "\n",
    "\n",
    "weights, biases = input\n",
    "# first and last matrices are special\n",
    "first_w, last_w = weights[0], weights[-1]\n",
    "# first w is of shape (bs, d0, d1, in_features)\n",
    "# (bs, d1, d0 * in_features)\n",
    "pooled_first_w = first_w.permute(0, 2, 1, 3).flatten(start_dim=2)\n",
    "# (bs, d{L-1}, dL * in_features)\n",
    "pooled_last_w = last_w.flatten(start_dim=2)\n",
    "# (bs, d0 * in_features)\n",
    "pooled_first_w = reduction(pooled_first_w, dim=1)\n",
    "# (bs, dL * in_features)\n",
    "pooled_last_w = reduction(pooled_last_w, dim=1)\n",
    "# last bias is special\n",
    "last_b = biases[-1]\n",
    "# (bs, dL * in_features)\n",
    "pooled_last_b = last_b.flatten(start_dim=1)\n",
    "\n",
    "# concat\n",
    "pooled_weights = torch.cat(\n",
    "    [\n",
    "        reduction(w.permute(0, 3, 1, 2).flatten(start_dim=2), dim=2)\n",
    "        for w in weights[1:-1]\n",
    "    ],\n",
    "    dim=-1,\n",
    ")  # (bs, (len(weights) - 2) * in_features)\n",
    "# (bs, (len(weights) - 2) * in_features + d0 * in_features + dL * in_features)\n",
    "pooled_weights = torch.cat(\n",
    "    (pooled_weights, pooled_first_w, pooled_last_w), dim=-1\n",
    ")\n",
    "\n",
    "pooled_biases = torch.cat(\n",
    "    [reduction(b, dim=1) for b in biases[:-1]], dim=-1\n",
    ")  # (bs, (len(biases) - 1) * in_features)\n",
    "# (bs, (len(biases) - 1) * in_features + dL * in_features)\n",
    "pooled_biases = torch.cat((pooled_biases, pooled_last_b), dim=-1)\n",
    "\n",
    "pooled_all = torch.cat(\n",
    "    [pooled_weights, pooled_biases], dim=-1\n",
    ")  # (bs, (num layers - 3) * in_features + d0 * in_features + dL * in_features + dL * in_features)\n",
    "print(weights)\n",
    "print(pooled_weights)\n",
    "print(pooled_biases)\n",
    "print(pooled_all)\n"
   ]
  },
  {
   "cell_type": "markdown",
   "metadata": {},
   "source": [
    "## DWSLayer"
   ]
  },
  {
   "cell_type": "code",
   "execution_count": 161,
   "metadata": {},
   "outputs": [],
   "source": [
    "# Init model\n",
    "\n",
    "torch.random.manual_seed(0)\n",
    "model = M()\n",
    "state_dict = model.state_dict()\n",
    "weights = tuple(\n",
    "    [v.permute(1, 0) for w, v in state_dict.items() if \"weight\" in w]\n",
    ")\n",
    "biases = tuple([v for w, v in state_dict.items() if \"bias\" in w])\n",
    "label = 1\n",
    "# add feature dim\n",
    "weights = tuple([w.unsqueeze(-1) for w in weights])\n",
    "biases = tuple([b.unsqueeze(-1) for b in biases])\n",
    "\n",
    "weight_shapes = tuple(w.shape[:2] for w in weights)\n",
    "bias_shapes = tuple(b.shape[:1] for b in biases)\n",
    "\n",
    "weights = tuple([w.unsqueeze(0) for w in weights])\n",
    "biases = tuple([b.unsqueeze(0) for b in biases])\n",
    "\n",
    "input = (batch.weights, batch.biases)\n"
   ]
  },
  {
   "cell_type": "code",
   "execution_count": 31,
   "metadata": {},
   "outputs": [
    {
     "name": "stdout",
     "output_type": "stream",
     "text": [
      "(torch.Size([1, 2]), torch.Size([2, 2]), torch.Size([2, 1]))\n",
      "(tensor([[[[-0.0075],\n",
      "          [ 0.5364]]]]), tensor([[[[-0.2723],\n",
      "          [-0.0140]],\n",
      "\n",
      "         [[ 0.1896],\n",
      "          [ 0.5607]]]]), tensor([[[[-0.2137]],\n",
      "\n",
      "         [[-0.1390]]]]))\n"
     ]
    }
   ],
   "source": [
    "print(weight_shapes)\n",
    "print(weights)"
   ]
  },
  {
   "cell_type": "code",
   "execution_count": 116,
   "metadata": {},
   "outputs": [],
   "source": [
    "from copy import deepcopy\n",
    "weights2 = deepcopy(weights)\n",
    "biases2 = deepcopy(biases)\n",
    "\n",
    "weights2[0][0][0][0][0] = weights[0][0][0][1][0]\n",
    "weights2[0][0][0][1][0] = weights[0][0][0][0][0]\n",
    "\n",
    "weights2[1][0][0] = weights[1][0][1]\n",
    "weights2[1][0][1] = weights[1][0][0]\n",
    "\n",
    "biases2[0][0][0][0] = biases[0][0][1][0]\n",
    "biases2[0][0][1][0] = biases[0][0][0][0]"
   ]
  },
  {
   "cell_type": "code",
   "execution_count": 85,
   "metadata": {},
   "outputs": [
    {
     "name": "stdout",
     "output_type": "stream",
     "text": [
      "(tensor([[[[-0.6655, -0.1010,  1.8620, -0.2286, -1.5704,  1.7401,  1.1177,\n",
      "            3.0300,  2.0010, -0.2726,  1.2527,  2.7540,  2.6377,  2.5384,\n",
      "            0.4597, -0.2522, -1.4785, -1.0100,  2.6784, -0.8543,  3.4108,\n",
      "           -0.0341, -0.3370,  0.7219,  0.5718,  1.4856,  0.7458,  0.2948,\n",
      "            0.2504, -1.4303,  0.9109, -1.6496],\n",
      "          [-0.4206, -0.2908,  0.9121, -0.2833, -1.4716,  2.1465,  1.0656,\n",
      "            2.9322,  1.7172, -0.6533,  1.0977,  2.7765,  2.5596,  3.0215,\n",
      "            0.0173,  0.3705, -1.5881, -0.8808,  3.5059, -1.6990,  2.9269,\n",
      "           -0.5795, -0.6970,  0.5768,  0.3230,  1.8542,  0.4305,  0.2948,\n",
      "            0.1383, -1.5371,  0.9999, -2.3654]]]], grad_fn=<AddBackward0>), tensor([[[[-0.7910,  0.7848, -0.4902, -0.9995, -1.2310, -0.2963,  1.0588,\n",
      "           -0.3151,  2.1650,  0.0609,  0.3034,  0.5415,  2.5995,  2.2518,\n",
      "            1.9877,  0.1646,  0.0591,  3.3048, -0.3364,  1.6045,  2.4406,\n",
      "           -2.5121, -0.1624,  1.5654, -0.3500, -1.9686,  2.6900, -1.1203,\n",
      "            0.8177,  1.4473,  1.1789,  1.9573],\n",
      "          [-0.8532,  0.8222, -0.4976, -0.9389, -1.1406, -0.2732,  0.9999,\n",
      "           -0.3395,  2.2994,  0.1653,  0.2123,  0.4785,  2.5035,  2.2750,\n",
      "            1.9818,  0.1105,  0.0360,  3.4180, -0.3505,  1.6524,  2.3897,\n",
      "           -2.4682, -0.2935,  1.6221, -0.4033, -1.9791,  2.6614, -1.1236,\n",
      "            0.8644,  1.3972,  1.2343,  1.9938]],\n",
      "\n",
      "         [[-0.9027,  0.8486, -0.5516, -1.2928, -1.3953, -0.4165,  0.8439,\n",
      "           -0.3455,  2.3886, -0.2568,  0.6193,  0.9801,  2.8262,  1.9240,\n",
      "            2.1410, -0.6305, -0.1760,  3.3236, -0.4147,  2.4584,  2.0564,\n",
      "           -2.4421, -0.5529,  1.1972, -0.3746, -2.2847,  2.9896, -0.7874,\n",
      "            1.1841,  1.1583,  1.0417,  2.3050],\n",
      "          [-0.9444,  0.8831, -0.5708, -1.2175, -1.3025, -0.4059,  0.7916,\n",
      "           -0.3886,  2.5492, -0.1277,  0.5411,  0.9319,  2.7023,  1.9316,\n",
      "            2.1079, -0.6994, -0.2225,  3.4575, -0.4136,  2.5229,  1.9930,\n",
      "           -2.3767, -0.6881,  1.2465, -0.4127, -2.2765,  2.9407, -0.7639,\n",
      "            1.2280,  1.1157,  1.0691,  2.3447]]]], grad_fn=<AddBackward0>), tensor([[[[ 1.7694e+00,  9.0440e-01,  1.3107e+00,  2.9277e-01,  8.4102e-01,\n",
      "           -5.9538e-01,  5.6794e-01, -9.3125e-01, -2.1018e-01, -1.1849e+00,\n",
      "            1.2348e+00,  3.1166e-01,  2.8269e+00,  2.5778e+00, -4.1950e-01,\n",
      "           -1.1971e-01, -6.2674e-01, -2.1818e-02,  2.2470e+00,  7.8106e-01,\n",
      "            2.1337e+00,  3.0312e-01,  2.2308e+00, -5.1250e-02,  1.8515e+00,\n",
      "           -3.3152e-01,  8.5787e-01, -3.1810e+00,  1.3153e+00,  3.5486e+00,\n",
      "            1.5799e+00,  2.2741e+00]],\n",
      "\n",
      "         [[ 1.6761e+00,  6.8643e-01,  1.4203e+00,  3.8736e-01,  8.9232e-01,\n",
      "           -6.4580e-01,  9.2176e-01, -5.6779e-01, -3.3947e-01, -1.1004e+00,\n",
      "            9.3116e-01,  6.0471e-01,  2.9574e+00,  2.7401e+00, -8.9977e-02,\n",
      "            1.7924e-03, -6.9769e-01,  4.4561e-01,  2.5854e+00,  6.9521e-01,\n",
      "            2.4397e+00,  6.3194e-01,  2.2272e+00, -3.7723e-01,  2.0926e+00,\n",
      "           -4.2996e-01,  1.1428e+00, -3.5643e+00,  1.4586e+00,  3.6610e+00,\n",
      "            1.5950e+00,  2.6161e+00]]]], grad_fn=<AddBackward0>))\n"
     ]
    }
   ],
   "source": [
    "torch.random.manual_seed(0)\n",
    "\n",
    "wtow = WeightToWeightBlock(1, 32, weight_shapes, True)\n",
    "btb = BiasToBiasBlock(1, 32, bias_shapes, True)\n",
    "btw = BiasToWeightBlock(1, 12, weight_shapes, bias_shapes, True)\n",
    "\n",
    "out = wtow(weights)\n",
    "print(out)\n"
   ]
  },
  {
   "cell_type": "code",
   "execution_count": 148,
   "metadata": {},
   "outputs": [
    {
     "name": "stdout",
     "output_type": "stream",
     "text": [
      "tensor([[-0.0597,  0.0090,  0.0118,  0.0103,  0.0660, -0.0623,  0.0173,  0.0516,\n",
      "          0.0492, -0.0629]], grad_fn=<AddmmBackward0>)\n"
     ]
    }
   ],
   "source": [
    "torch.random.manual_seed(0)\n",
    "\n",
    "model = DWSModelForClassification(weight_shapes, bias_shapes, 1, 32)\n",
    "input = (weights, biases)\n",
    "out = model(input)\n",
    "print(out)"
   ]
  },
  {
   "cell_type": "code",
   "execution_count": 4,
   "metadata": {},
   "outputs": [
    {
     "name": "stdout",
     "output_type": "stream",
     "text": [
      "tensor([[ 0.0675,  0.0363,  0.0755,  0.0618,  0.0639,  0.0710, -0.1068, -0.0936,\n",
      "          0.0637,  0.0882, -0.0142,  0.0372,  0.0235,  0.0825, -0.0144,  0.0453]],\n",
      "       grad_fn=<AddmmBackward0>)\n"
     ]
    }
   ],
   "source": [
    "torch.random.manual_seed(0)\n",
    "\n",
    "model = M2()\n",
    "state_dict = model.state_dict()\n",
    "weights = tuple(\n",
    "    [v.permute(1, 0) for w, v in state_dict.items() if \"weight\" in w]\n",
    ")\n",
    "biases = tuple([v for w, v in state_dict.items() if \"bias\" in w])\n",
    "label = 1\n",
    "# add feature dim\n",
    "weights = tuple([w.unsqueeze(-1) for w in weights])\n",
    "biases = tuple([b.unsqueeze(-1) for b in biases])\n",
    "\n",
    "weight_shapes = tuple(w.shape[:2] for w in weights)\n",
    "bias_shapes = tuple(b.shape[:1] for b in biases)\n",
    "\n",
    "weights = tuple([w.unsqueeze(0) for w in weights])\n",
    "biases = tuple([b.unsqueeze(0) for b in biases])\n",
    "\n",
    "layer = DWSLayer(weight_shapes, bias_shapes, 1, 16, True)\n",
    "input = (weights, biases)\n",
    "out = layer(input)\n",
    "\n",
    "# weights, biases = out\n",
    "# # first and last matrices are special\n",
    "# first_w, last_w = weights[0], weights[-1]\n",
    "# # first w is of shape (bs, d0, d1, in_features)\n",
    "# # (bs, d1, d0 * in_features)\n",
    "# pooled_first_w = first_w.permute(0, 2, 1, 3).flatten(start_dim=2)\n",
    "# # (bs, d{L-1}, dL * in_features)\n",
    "# pooled_last_w = last_w.flatten(start_dim=2)\n",
    "# # (bs, d0 * in_features)\n",
    "# pooled_first_w = reduction(pooled_first_w, dim=1)\n",
    "# # (bs, dL * in_features)\n",
    "# pooled_last_w = reduction(pooled_last_w, dim=1)\n",
    "# # last bias is special\n",
    "\n",
    "layer = NaiveInvariantLayer(weight_shapes, bias_shapes, 16, 16, True)\n",
    "out = layer(out)\n",
    "print(out)"
   ]
  },
  {
   "cell_type": "code",
   "execution_count": 5,
   "metadata": {},
   "outputs": [],
   "source": [
    "from copy import deepcopy\n",
    "\n",
    "weights2 = deepcopy(weights)\n",
    "biases2 = deepcopy(biases)\n",
    "\n",
    "weights2[0][0][0][0][0] = weights[0][0][0][1][0]\n",
    "weights2[0][0][0][1][0] = weights[0][0][0][0][0]\n",
    "\n",
    "weights2[1][0][1][0][0] = weights[1][0][0][0][0]\n",
    "weights2[1][0][0][0][0] = weights[1][0][1][0][0]\n",
    "\n",
    "biases2[0][0][0][0] = biases[0][0][1][0]\n",
    "biases2[0][0][1][0] = biases[0][0][0][0]\n"
   ]
  },
  {
   "cell_type": "code",
   "execution_count": 21,
   "metadata": {},
   "outputs": [
    {
     "name": "stdout",
     "output_type": "stream",
     "text": [
      "tensor([[ 0.0071,  0.0437, -0.0867,  0.0077,  0.0379]],\n",
      "       grad_fn=<AddmmBackward0>)\n"
     ]
    }
   ],
   "source": [
    "torch.random.manual_seed(0)\n",
    "model = DWSModelForClassification(weight_shapes, bias_shapes, 1, 16, 2, 5, set_layer=\"ds\")\n",
    "input = (weights, biases)\n",
    "out = model(input)\n",
    "print(out)"
   ]
  },
  {
   "cell_type": "code",
   "execution_count": 42,
   "metadata": {},
   "outputs": [],
   "source": [
    "from pathlib import Path\n",
    "from tqdm.notebook import tqdm\n",
    "import numpy as np"
   ]
  },
  {
   "cell_type": "code",
   "execution_count": 43,
   "metadata": {},
   "outputs": [
    {
     "data": {
      "application/vnd.jupyter.widget-view+json": {
       "model_id": "39b44c4757d94d76b95fce5f59a3ba83",
       "version_major": 2,
       "version_minor": 0
      },
      "text/plain": [
       "  0%|          | 0/80000 [00:00<?, ?it/s]"
      ]
     },
     "metadata": {},
     "output_type": "display_data"
    },
    {
     "ename": "ValueError",
     "evalue": "setting an array element with a sequence. The requested array has an inhomogeneous shape after 1 dimensions. The detected shape was (3,) + inhomogeneous part.",
     "output_type": "error",
     "traceback": [
      "\u001b[1;31m---------------------------------------------------------------------------\u001b[0m",
      "\u001b[1;31mValueError\u001b[0m                                Traceback (most recent call last)",
      "Cell \u001b[1;32mIn[43], line 18\u001b[0m\n\u001b[0;32m     15\u001b[0m weights \u001b[38;5;241m=\u001b[39m \u001b[38;5;28mtuple\u001b[39m([w\u001b[38;5;241m.\u001b[39munsqueeze(\u001b[38;5;241m-\u001b[39m\u001b[38;5;241m1\u001b[39m) \u001b[38;5;28;01mfor\u001b[39;00m w \u001b[38;5;129;01min\u001b[39;00m weights])\n\u001b[0;32m     16\u001b[0m biases \u001b[38;5;241m=\u001b[39m \u001b[38;5;28mtuple\u001b[39m([b\u001b[38;5;241m.\u001b[39munsqueeze(\u001b[38;5;241m-\u001b[39m\u001b[38;5;241m1\u001b[39m) \u001b[38;5;28;01mfor\u001b[39;00m b \u001b[38;5;129;01min\u001b[39;00m biases])\n\u001b[1;32m---> 18\u001b[0m row \u001b[38;5;241m=\u001b[39m \u001b[43mnp\u001b[49m\u001b[38;5;241;43m.\u001b[39;49m\u001b[43marray\u001b[49m\u001b[43m(\u001b[49m\u001b[43m[\u001b[49m\u001b[43mweights\u001b[49m\u001b[43m,\u001b[49m\u001b[43m \u001b[49m\u001b[43mbiases\u001b[49m\u001b[43m,\u001b[49m\u001b[43m \u001b[49m\u001b[43mlabel\u001b[49m\u001b[43m]\u001b[49m\u001b[43m)\u001b[49m\n\u001b[0;32m     19\u001b[0m \u001b[38;5;28mprint\u001b[39m(row)\n\u001b[0;32m     20\u001b[0m \u001b[38;5;28;01mbreak\u001b[39;00m\n",
      "\u001b[1;31mValueError\u001b[0m: setting an array element with a sequence. The requested array has an inhomogeneous shape after 1 dimensions. The detected shape was (3,) + inhomogeneous part."
     ]
    }
   ],
   "source": [
    "save_path = Path(\"../data\") / \"data.pt\"\n",
    "models_path = Path(\"../models/eight_angles_small\")\n",
    "batches = []\n",
    "for p in tqdm(list(models_path.glob(\"*.pth\"))):\n",
    "    angle = int(p.stem.split(\"_\")[-2])\n",
    "\n",
    "    state_dict = torch.load(p, map_location=lambda storage, loc: storage)\n",
    "    weights = tuple(\n",
    "        [v.permute(1, 0) for w, v in state_dict.items() if \"weight\" in w]\n",
    "    )\n",
    "    biases = tuple([v for w, v in state_dict.items() if \"bias\" in w])\n",
    "    label = angle\n",
    "\n",
    "    # add feature dim\n",
    "    weights = tuple([w.unsqueeze(-1) for w in weights])\n",
    "    biases = tuple([b.unsqueeze(-1) for b in biases])\n",
    "\n",
    "    row = np.array([weights, biases, label])\n",
    "    print(row)\n",
    "    break\n",
    "\n",
    "batches = torch.tensor(batches)\n",
    "with open(save_path, \"w\") as file:\n",
    "    torch.save(batches, file)"
   ]
  },
  {
   "cell_type": "markdown",
   "metadata": {},
   "source": [
    "## Equivariant autoencoder"
   ]
  },
  {
   "cell_type": "code",
   "execution_count": 75,
   "metadata": {},
   "outputs": [],
   "source": [
    "class EquivariantAutoencoder(torch.nn.Module):\n",
    "    def __init__(self, weight_shapes, bias_shapes, in_features, out_features, num_classes, num_layers):\n",
    "        super(EquivariantAutoencoder, self).__init__()\n",
    "\n",
    "        self.encoder = torch.nn.Sequential(\n",
    "            DWSLayer(weight_shapes, bias_shapes, 1, 16),\n",
    "            NaiveInvariantLayer(weight_shapes, bias_shapes, 16, 16),\n",
    "        )\n",
    "\n",
    "        self.decoder = torch.nn.Sequential(\n",
    "            torch.nn.Linear(16, 128),\n",
    "            torch.nn.ReLU(),\n",
    "            # torch.nn.BatchNorm1d(128),\n",
    "            torch.nn.Linear(128, 256),\n",
    "            torch.nn.ReLU(),\n",
    "            # torch.nn.BatchNorm1d(256),\n",
    "            torch.nn.Linear(256, 512),\n",
    "            torch.nn.ReLU(),\n",
    "            # torch.nn.BatchNorm1d(512),\n",
    "            torch.nn.Linear(512, 1024),\n",
    "            torch.nn.ReLU(),\n",
    "            # torch.nn.BatchNorm1d(1024),\n",
    "            torch.nn.Linear(1024, 33),\n",
    "        )\n",
    "    \n",
    "    def forward(self, x):\n",
    "        x = self.encoder(x)\n",
    "        x = self.decoder(x)\n",
    "        return x"
   ]
  },
  {
   "cell_type": "code",
   "execution_count": 57,
   "metadata": {},
   "outputs": [],
   "source": [
    "from src.data.datasets import ModelDataset\n",
    "from torch.utils.data import DataLoader"
   ]
  },
  {
   "cell_type": "code",
   "execution_count": 80,
   "metadata": {},
   "outputs": [
    {
     "name": "stdout",
     "output_type": "stream",
     "text": [
      "tensor([[-0.0544, -0.0272,  0.0062, -0.0176,  0.0138, -0.0104, -0.0131,  0.0038,\n",
      "         -0.0272, -0.0118, -0.0296, -0.0005,  0.0297,  0.0279,  0.0188,  0.0033,\n",
      "          0.0338, -0.0165,  0.0362,  0.0378, -0.0336, -0.0251, -0.0286,  0.0151,\n",
      "          0.0156, -0.0086,  0.0122, -0.0234,  0.0182,  0.0184, -0.0097, -0.0148,\n",
      "         -0.0016]], grad_fn=<AddmmBackward0>)\n"
     ]
    }
   ],
   "source": [
    "torch.random.manual_seed(0)\n",
    "\n",
    "dataset = ModelDataset(\"../data/dataset_splits.json\")\n",
    "dataloader = DataLoader(dataset, batch_size=1, shuffle=True)\n",
    "\n",
    "sample = dataset[0]\n",
    "weight_shapes = tuple(w.shape[:2] for w in sample.weights)\n",
    "bias_shapes = tuple(b.shape[:1] for b in sample.biases)\n",
    "\n",
    "model = EquivariantAutoencoder(weight_shapes, bias_shapes, 1, 16, 2, 5)\n",
    "\n",
    "optimizer = torch.optim.Adam(model.parameters(), lr=1e-3)\n",
    "\n",
    "for batch in dataloader:\n",
    "    input = (batch.weights, batch.biases)\n",
    "    out = model(input)\n",
    "    print(out)\n",
    "    break"
   ]
  },
  {
   "cell_type": "code",
   "execution_count": 85,
   "metadata": {},
   "outputs": [],
   "source": [
    "from src.model.layers.base import SAB, SetLayer\n"
   ]
  },
  {
   "cell_type": "code",
   "execution_count": 153,
   "metadata": {},
   "outputs": [
    {
     "name": "stdout",
     "output_type": "stream",
     "text": [
      "tensor([[[-0.1388,  0.8081],\n",
      "         [-0.3963,  1.3684]]], grad_fn=<AddBackward0>)\n",
      "tensor([[[ 0.0969, -1.1017],\n",
      "         [-0.5811, -1.5372]]], grad_fn=<SubBackward0>)\n"
     ]
    }
   ],
   "source": [
    "torch.random.manual_seed(0)\n",
    "l1 = SAB(1, 2, 1)\n",
    "l2 = SetLayer(1, 2, True, \"max\")\n",
    "\n",
    "x = torch.tensor([[[1.0], [2.0]]])\n",
    "out = l1(x)\n",
    "print(out)\n",
    "\n",
    "out = l2(x)\n",
    "print(out)"
   ]
  },
  {
   "cell_type": "markdown",
   "metadata": {},
   "source": [
    "## Try SAB and SetLayer"
   ]
  },
  {
   "cell_type": "code",
   "execution_count": 2,
   "metadata": {},
   "outputs": [],
   "source": [
    "from src.model.layers.base import SAB, SetLayer\n",
    "from src.data.datasets import ModelParamsDataset\n",
    "\n",
    "import torch\n",
    "import torch.nn as nn\n",
    "import math\n",
    "import torch.nn.functional as F\n",
    "\n",
    "import pandas as pd\n",
    "\n",
    "from tqdm.notebook import tqdm\n",
    "\n",
    "from src.model.models import MLP\n",
    "from src.data.helpers import list_to_model, get_moons_dataset, rotate, get_accuracy\n",
    "from src.visualization.visualize import plot_decision_boundary"
   ]
  },
  {
   "cell_type": "code",
   "execution_count": 7,
   "metadata": {},
   "outputs": [],
   "source": [
    "class InvariantAutoencoder(nn.Module):\n",
    "    def __init__(self) -> None:\n",
    "        super(InvariantAutoencoder, self).__init__()\n",
    "\n",
    "        self.sab1 = SetLayer(1, 1024)\n",
    "        self.sab2 = SetLayer(1024, 512)\n",
    "        self.sab3 = SetLayer(512, 256)\n",
    "        self.sab4 = SetLayer(256, 128)\n",
    "\n",
    "        self.encoder = torch.nn.Sequential(\n",
    "            torch.nn.Linear(128, 16),\n",
    "            torch.nn.Tanh(),\n",
    "        )\n",
    "\n",
    "        self.decoder = torch.nn.Sequential(\n",
    "            torch.nn.Linear(16, 128),\n",
    "            torch.nn.ReLU(),\n",
    "            torch.nn.Linear(128, 256),\n",
    "            torch.nn.ReLU(),\n",
    "            torch.nn.Linear(256, 512),\n",
    "            torch.nn.ReLU(),\n",
    "            torch.nn.Linear(512, 1024),\n",
    "            torch.nn.ReLU(),\n",
    "            torch.nn.Linear(1024, 33),\n",
    "        )\n",
    "    \n",
    "    def forward(self, x):\n",
    "        x = self.sab1(x)\n",
    "        x = self.sab2(x)\n",
    "        x = self.sab3(x)\n",
    "        x = self.sab4(x)\n",
    "        x = torch.sum(x, dim=1)\n",
    "        latent = self.encoder(x)\n",
    "        output = self.decoder(latent)\n",
    "        return output"
   ]
  },
  {
   "cell_type": "code",
   "execution_count": 8,
   "metadata": {},
   "outputs": [],
   "source": [
    "config = {\n",
    "    \"model\":{\n",
    "        \"name\": \"InvariantAutoencoder\",\n",
    "        \"layers\": [33, 512, 1024, 512, 256, 128, 128]\n",
    "    },\n",
    "    \"hyperparameters\":{\n",
    "        \"epochs\": 150,\n",
    "        \"learning_rate\": 1e-3,\n",
    "        \"weight_decay\": 0,\n",
    "        \"optimizer\": \"Adam\",\n",
    "    }\n",
    "}\n",
    "\n",
    "device = torch.device(\"cuda\" if torch.cuda.is_available() else \"cpu\")\n",
    "torch.manual_seed(42)\n",
    "\n",
    "hyperparameters = config[\"hyperparameters\"]\n",
    "epochs = hyperparameters[\"epochs\"]\n",
    "learning_rate = hyperparameters[\"learning_rate\"]\n",
    "weight_decay = hyperparameters[\"weight_decay\"]\n",
    "\n",
    "model = InvariantAutoencoder()\n",
    "model.to(device)\n",
    "loss_fn = torch.nn.MSELoss()\n",
    "latent_loss_fn = torch.nn.MSELoss()\n",
    "optimizer = torch.optim.Adam(model.parameters(), lr=learning_rate, weight_decay=weight_decay)\n",
    "\n",
    "dataset = ModelParamsDataset(\"../data/eight_angles_small.csv\", 45)\n",
    "dataloader = torch.utils.data.DataLoader(dataset, batch_size=100, shuffle=True)\n",
    "\n",
    "path = f\"../models/autoencoders/equivariant\""
   ]
  },
  {
   "cell_type": "code",
   "execution_count": 247,
   "metadata": {},
   "outputs": [
    {
     "data": {
      "application/vnd.jupyter.widget-view+json": {
       "model_id": "a14ac5f9f80d4d20ba3fd08dcd0d5977",
       "version_major": 2,
       "version_minor": 0
      },
      "text/plain": [
       "  0%|          | 0/150 [00:00<?, ?it/s]"
      ]
     },
     "metadata": {},
     "output_type": "display_data"
    },
    {
     "name": "stdout",
     "output_type": "stream",
     "text": [
      "Epoch: 1, Loss: 4.872636318206787\n",
      "Epoch: 6, Loss: 4.996645927429199\n",
      "Epoch: 11, Loss: 5.09433126449585\n",
      "Epoch: 16, Loss: 4.9892497062683105\n",
      "Epoch: 21, Loss: 4.89255428314209\n",
      "Epoch: 26, Loss: 4.948014736175537\n",
      "Epoch: 31, Loss: 4.879665851593018\n",
      "Epoch: 36, Loss: 4.9720540046691895\n",
      "Epoch: 41, Loss: 5.036984920501709\n",
      "Epoch: 46, Loss: 4.970928192138672\n",
      "Epoch: 51, Loss: 5.006242752075195\n",
      "Epoch: 56, Loss: 5.039368629455566\n",
      "Epoch: 61, Loss: 5.024776458740234\n",
      "Epoch: 66, Loss: 5.009047031402588\n",
      "Epoch: 71, Loss: 4.961163520812988\n",
      "Epoch: 76, Loss: 5.065025329589844\n",
      "Epoch: 81, Loss: 5.056278228759766\n",
      "Epoch: 86, Loss: 5.015213489532471\n",
      "Epoch: 91, Loss: 5.0517401695251465\n",
      "Epoch: 96, Loss: 4.9483256340026855\n",
      "Epoch: 101, Loss: 5.0681023597717285\n",
      "Epoch: 106, Loss: 5.020676612854004\n",
      "Epoch: 111, Loss: 5.036560535430908\n",
      "Epoch: 116, Loss: 5.003661632537842\n",
      "Epoch: 121, Loss: 5.03764009475708\n",
      "Epoch: 126, Loss: 4.921196937561035\n",
      "Epoch: 131, Loss: 4.947547435760498\n",
      "Epoch: 136, Loss: 5.021877288818359\n",
      "Epoch: 141, Loss: 5.086661338806152\n",
      "Epoch: 146, Loss: 4.994192600250244\n"
     ]
    }
   ],
   "source": [
    "model.train()\n",
    "for i in tqdm(range(epochs)):\n",
    "    for X, y in dataloader:\n",
    "        X = X.to(device)\n",
    "        y = y.to(device)\n",
    "\n",
    "        input = X.unsqueeze(-1)\n",
    "        output = model(input)\n",
    "\n",
    "        loss = loss_fn(output, X)\n",
    "        optimizer.zero_grad()\n",
    "        loss.backward()\n",
    "        optimizer.step()\n",
    "    \n",
    "    if(i % 5 == 0):\n",
    "        print(f'Epoch: {i+1}, Loss: {loss.item()}')\n",
    "        torch.save(model.state_dict(), f\"{path}/autoencoder_{i}.pth\")\n",
    "    \n",
    "torch.save(model.state_dict(), f\"{path}/autoencoder_final.pth\")"
   ]
  },
  {
   "cell_type": "code",
   "execution_count": 103,
   "metadata": {},
   "outputs": [
    {
     "name": "stderr",
     "output_type": "stream",
     "text": [
      "C:\\Projects\\Python\\master-thesis\\src\\data\\helpers.py:62: UserWarning: To copy construct from a tensor, it is recommended to use sourceTensor.clone().detach() or sourceTensor.clone().detach().requires_grad_(True), rather than torch.tensor(sourceTensor).\n",
      "  param.data = torch.tensor(parameters_from_list, dtype=torch.float32).reshape(param.shape)\n"
     ]
    },
    {
     "data": {
      "image/png": "[encoded data removed]",
      "text/plain": [
       "<Figure size 640x480 with 1 Axes>"
      ]
     },
     "metadata": {},
     "output_type": "display_data"
    },
    {
     "data": {
      "image/png": "[encoded data removed]",
      "text/plain": [
       "<Figure size 640x480 with 1 Axes>"
      ]
     },
     "metadata": {},
     "output_type": "display_data"
    }
   ],
   "source": [
    "model = SetTransformer(1, 33, 1)\n",
    "model.load_state_dict(torch.load(\"{}/autoencoder_final.pth\".format(path)))\n",
    "model.eval()\n",
    "model1 = MLP(2, [8], 1)\n",
    "model2 = MLP(2, [8], 1)\n",
    "\n",
    "raw = pd.read_csv(\"../data/eight_angles_small.csv\")\n",
    "weights = raw.drop(columns=[\"model_name\", \"angle\"]).astype('float32').to_numpy()\n",
    "angles = raw[\"angle\"].to_numpy()\n",
    "X,y = get_moons_dataset()\n",
    "\n",
    "index = 1000\n",
    "X_rotated = rotate(X, angles[index])\n",
    "w = torch.tensor(weights[index])\n",
    "\n",
    "o = model(w.unsqueeze(0).unsqueeze(-1)).squeeze().detach().numpy()\n",
    "list_to_model(model1, w)\n",
    "list_to_model(model2, o)\n",
    "\n",
    "plot_decision_boundary(model1, X_rotated, y, title=\"Original\")\n",
    "plot_decision_boundary(model2, X_rotated, y, title=\"Reconstructed\")"
   ]
  },
  {
   "cell_type": "markdown",
   "metadata": {},
   "source": [
    "## My implementation of DeepSets"
   ]
  },
  {
   "cell_type": "code",
   "execution_count": 35,
   "metadata": {},
   "outputs": [],
   "source": [
    "from src.model.layers.base import SAB, SetLayer\n",
    "from src.data.datasets import ModelParamsDataset\n",
    "\n",
    "import torch\n",
    "import torch.nn as nn\n",
    "import math\n",
    "import torch.nn.functional as F\n",
    "\n",
    "from tqdm.notebook import tqdm"
   ]
  },
  {
   "cell_type": "code",
   "execution_count": 63,
   "metadata": {},
   "outputs": [],
   "source": [
    "class FeatureExtractor(nn.Module):\n",
    "    def __init__(self, in_features, out_features, n_fc_layers = 1) -> None:\n",
    "        super(FeatureExtractor, self).__init__()\n",
    "        layers = [nn.Linear(in_features, out_features)]\n",
    "        for _ in range(n_fc_layers-1):\n",
    "            layers.append(nn.ReLU())\n",
    "            layers.append(nn.Linear(out_features, out_features))\n",
    "\n",
    "        self.fc = nn.Sequential(*layers)\n",
    "\n",
    "    def forward(self, x):\n",
    "        x = self.fc(x)\n",
    "        return x\n",
    "    \n",
    "class InvariantEncoder(nn.Module):\n",
    "    def __init__(self, in_features, out_features, n_fc_layers = 1, pooling = \"sum\") -> None:\n",
    "        super(InvariantEncoder, self).__init__()\n",
    "        self.features_extractor = FeatureExtractor(in_features, out_features, n_fc_layers)\n",
    "        self.pooling = pooling\n",
    "\n",
    "    def forward(self, x):\n",
    "        features = self.features_extractor(x)\n",
    "        if(self.pooling == \"sum\"):\n",
    "            pooled_features = torch.sum(features, dim=1)\n",
    "        else:\n",
    "            raise NotImplementedError(\"Pooling method not implemented\")\n",
    "        return pooled_features\n",
    "\n",
    "\n",
    "class Encoder(nn.Module):\n",
    "    def __init__(self, in_features, out_features, num_classes = 8, n_fc_layers=1):\n",
    "        super(Encoder, self).__init__()\n",
    "        self.invariant_encoder = InvariantEncoder(in_features, out_features, n_fc_layers)\n",
    "        self.encoder = torch.nn.Sequential(\n",
    "            torch.nn.Linear(out_features, 1024),\n",
    "            torch.nn.ReLU(),\n",
    "            torch.nn.Linear(1024, 512),\n",
    "            torch.nn.ReLU(),\n",
    "            torch.nn.Linear(512, 256),\n",
    "            torch.nn.ReLU(),\n",
    "            torch.nn.Linear(256, 128),\n",
    "            torch.nn.ReLU(),\n",
    "            torch.nn.Linear(128, num_classes),\n",
    "        )\n",
    "\n",
    "        self.softmax = torch.nn.Softmax(dim=1)\n",
    "    \n",
    "    def forward(self, x):\n",
    "        pooled_features = self.invariant_encoder(x)\n",
    "        output = self.encoder(pooled_features)\n",
    "        output = self.softmax(output)\n",
    "        return output\n",
    "    \n",
    "\n",
    "class Decoder(nn.Module):\n",
    "    def __init__(self):\n",
    "        super(Decoder, self).__init__()\n",
    "        self.decoder = torch.nn.Sequential(\n",
    "            torch.nn.Linear(16, 128),\n",
    "            torch.nn.ReLU(),\n",
    "            torch.nn.Linear(128, 256),\n",
    "            torch.nn.ReLU(),\n",
    "            torch.nn.Linear(256, 512),\n",
    "            torch.nn.ReLU(),\n",
    "            torch.nn.Linear(512, 1024),\n",
    "            torch.nn.ReLU(),\n",
    "            torch.nn.Linear(1024, 33),\n",
    "        )\n",
    "    \n",
    "    def forward(self, x):\n",
    "        x = self.decoder(x)\n",
    "        return x\n",
    "\n",
    "class InvariantAutoencoder(nn.Module):\n",
    "    def __init__(self, in_features, out_features, n_fc_layers = 2) -> None:\n",
    "        super(InvariantAutoencoder, self).__init__()\n",
    "        self.encoder = Encoder(in_features, out_features, n_fc_layers)\n",
    "        self.decoder = Decoder()\n",
    "\n",
    "    def forward(self, x):\n",
    "        x = self.encoder(x)\n",
    "        x = self.decoder(x)\n",
    "        return x"
   ]
  },
  {
   "cell_type": "code",
   "execution_count": 64,
   "metadata": {},
   "outputs": [],
   "source": [
    "config = {\n",
    "    \"model\":{\n",
    "        \"name\": \"InvariantAutoencoder\",\n",
    "        \"layers\": [33, 512, 1024, 512, 256, 128, 128]\n",
    "    },\n",
    "    \"hyperparameters\":{\n",
    "        \"epochs\": 100,\n",
    "        \"learning_rate\": 1e-3,\n",
    "        \"weight_decay\": 0,\n",
    "        \"optimizer\": \"Adam\",\n",
    "    }\n",
    "}\n",
    "\n",
    "device = torch.device(\"cuda\" if torch.cuda.is_available() else \"cpu\")\n",
    "torch.manual_seed(42)\n",
    "\n",
    "hyperparameters = config[\"hyperparameters\"]\n",
    "epochs = hyperparameters[\"epochs\"]\n",
    "learning_rate = hyperparameters[\"learning_rate\"]\n",
    "weight_decay = hyperparameters[\"weight_decay\"]\n",
    "\n",
    "model = Encoder(1, 1024, 8, 5)\n",
    "model.to(device)\n",
    "loss_fn = torch.nn.BCELoss()\n",
    "optimizer = torch.optim.Adam(model.parameters(), lr=learning_rate, weight_decay=weight_decay)\n",
    "\n",
    "dataset = ModelParamsDataset(\"../data/eight_angles_small.csv\", 45)\n",
    "dataloader = torch.utils.data.DataLoader(dataset, batch_size=100, shuffle=True)\n",
    "\n",
    "path = f\"../models/autoencoders/equivariant\""
   ]
  },
  {
   "cell_type": "code",
   "execution_count": 65,
   "metadata": {},
   "outputs": [
    {
     "data": {
      "application/vnd.jupyter.widget-view+json": {
       "model_id": "1c490d0b978c46c5ac19932fbdddb5af",
       "version_major": 2,
       "version_minor": 0
      },
      "text/plain": [
       "  0%|          | 0/100 [00:00<?, ?it/s]"
      ]
     },
     "metadata": {},
     "output_type": "display_data"
    },
    {
     "name": "stdout",
     "output_type": "stream",
     "text": [
      "Epoch: 1, Loss: 0.3341688811779022\n",
      "Epoch: 2, Loss: 0.33659499883651733\n",
      "Epoch: 3, Loss: 0.3130628764629364\n",
      "Epoch: 4, Loss: 0.3153023421764374\n",
      "Epoch: 5, Loss: 0.3011585474014282\n",
      "Epoch: 6, Loss: 0.2937721908092499\n",
      "Epoch: 7, Loss: 0.2978375256061554\n",
      "Epoch: 8, Loss: 0.282510370016098\n",
      "Epoch: 9, Loss: 0.2975669503211975\n",
      "Epoch: 10, Loss: 0.2882400155067444\n",
      "Epoch: 11, Loss: 0.24729421734809875\n",
      "Epoch: 12, Loss: 0.29263025522232056\n",
      "Epoch: 13, Loss: 0.2543180286884308\n",
      "Epoch: 14, Loss: 0.25402334332466125\n",
      "Epoch: 15, Loss: 0.245553120970726\n",
      "Epoch: 16, Loss: 0.257371187210083\n",
      "Epoch: 17, Loss: 0.23445242643356323\n",
      "Epoch: 18, Loss: 0.23677484691143036\n",
      "Epoch: 19, Loss: 0.25232061743736267\n",
      "Epoch: 20, Loss: 0.2720310091972351\n",
      "Epoch: 21, Loss: 0.23372100293636322\n",
      "Epoch: 22, Loss: 0.25029852986335754\n",
      "Epoch: 23, Loss: 0.24621841311454773\n",
      "Epoch: 24, Loss: 0.23714768886566162\n",
      "Epoch: 25, Loss: 0.2500808537006378\n",
      "Epoch: 26, Loss: 0.24462737143039703\n",
      "Epoch: 27, Loss: 0.26402121782302856\n",
      "Epoch: 28, Loss: 0.2245332896709442\n",
      "Epoch: 29, Loss: 0.2346244752407074\n",
      "Epoch: 30, Loss: 0.23586297035217285\n",
      "Epoch: 31, Loss: 0.21427440643310547\n",
      "Epoch: 32, Loss: 0.22740508615970612\n",
      "Epoch: 33, Loss: 0.2482227236032486\n",
      "Epoch: 34, Loss: 0.24870997667312622\n",
      "Epoch: 35, Loss: 0.23323653638362885\n",
      "Epoch: 36, Loss: 0.2330401986837387\n",
      "Epoch: 37, Loss: 0.20887261629104614\n",
      "Epoch: 38, Loss: 0.21013621985912323\n",
      "Epoch: 39, Loss: 0.235580712556839\n",
      "Epoch: 40, Loss: 0.24967387318611145\n",
      "Epoch: 41, Loss: 0.20850953459739685\n",
      "Epoch: 42, Loss: 0.21643325686454773\n",
      "Epoch: 43, Loss: 0.23116938769817352\n",
      "Epoch: 44, Loss: 0.24853436648845673\n",
      "Epoch: 45, Loss: 0.23198924958705902\n",
      "Epoch: 46, Loss: 0.2403232902288437\n",
      "Epoch: 47, Loss: 0.20960967242717743\n",
      "Epoch: 48, Loss: 0.2478528469800949\n",
      "Epoch: 49, Loss: 0.19505122303962708\n",
      "Epoch: 50, Loss: 0.24078448116779327\n",
      "Epoch: 51, Loss: 0.2009323239326477\n",
      "Epoch: 52, Loss: 0.21078276634216309\n",
      "Epoch: 53, Loss: 0.214141383767128\n",
      "Epoch: 54, Loss: 0.2127828598022461\n",
      "Epoch: 55, Loss: 0.2310667484998703\n",
      "Epoch: 56, Loss: 0.22035019099712372\n",
      "Epoch: 57, Loss: 0.22821174561977386\n",
      "Epoch: 58, Loss: 0.22889010608196259\n",
      "Epoch: 59, Loss: 0.20797088742256165\n",
      "Epoch: 60, Loss: 0.2183665782213211\n",
      "Epoch: 61, Loss: 0.21113984286785126\n",
      "Epoch: 62, Loss: 0.21972085535526276\n",
      "Epoch: 63, Loss: 0.21329395473003387\n",
      "Epoch: 64, Loss: 0.2279766947031021\n",
      "Epoch: 65, Loss: 0.22249764204025269\n",
      "Epoch: 66, Loss: 0.19208991527557373\n",
      "Epoch: 67, Loss: 0.240213543176651\n",
      "Epoch: 68, Loss: 0.20397265255451202\n",
      "Epoch: 69, Loss: 0.2170219123363495\n",
      "Epoch: 70, Loss: 0.20577961206436157\n",
      "Epoch: 71, Loss: 0.23386508226394653\n",
      "Epoch: 72, Loss: 0.22745582461357117\n",
      "Epoch: 73, Loss: 0.21737129986286163\n",
      "Epoch: 74, Loss: 0.22856654226779938\n",
      "Epoch: 75, Loss: 0.1935502588748932\n",
      "Epoch: 76, Loss: 0.22209899127483368\n",
      "Epoch: 77, Loss: 0.19948840141296387\n",
      "Epoch: 78, Loss: 0.19246307015419006\n",
      "Epoch: 79, Loss: 0.19599787890911102\n",
      "Epoch: 80, Loss: 0.1735488474369049\n",
      "Epoch: 81, Loss: 0.1979173868894577\n",
      "Epoch: 82, Loss: 0.19656498730182648\n",
      "Epoch: 83, Loss: 0.18660758435726166\n",
      "Epoch: 84, Loss: 0.1928834319114685\n",
      "Epoch: 85, Loss: 0.1951509267091751\n",
      "Epoch: 86, Loss: 21.25\n",
      "Epoch: 87, Loss: 21.75\n",
      "Epoch: 88, Loss: 21.5\n",
      "Epoch: 89, Loss: 21.5\n",
      "Epoch: 90, Loss: 22.25\n",
      "Epoch: 91, Loss: 22.5\n",
      "Epoch: 92, Loss: 22.75\n",
      "Epoch: 93, Loss: 21.25\n",
      "Epoch: 94, Loss: 22.5\n",
      "Epoch: 95, Loss: 21.25\n",
      "Epoch: 96, Loss: 22.25\n",
      "Epoch: 97, Loss: 21.5\n",
      "Epoch: 98, Loss: 22.75\n",
      "Epoch: 99, Loss: 22.0\n",
      "Epoch: 100, Loss: 21.75\n"
     ]
    }
   ],
   "source": [
    "model.train()\n",
    "for i in tqdm(range(epochs)):\n",
    "    for X, y in dataloader:\n",
    "        X = X.to(device)\n",
    "        y = y.to(device)\n",
    "\n",
    "        X = X.unsqueeze(-1)\n",
    "        output = model(X)\n",
    "\n",
    "        loss = loss_fn(output, y)\n",
    "\n",
    "        optimizer.zero_grad()\n",
    "        loss.backward()\n",
    "        optimizer.step()\n",
    "\n",
    "    print(f'Epoch: {i+1}, Loss: {loss.item()}')"
   ]
  },
  {
   "cell_type": "code",
   "execution_count": 72,
   "metadata": {},
   "outputs": [
    {
     "name": "stdout",
     "output_type": "stream",
     "text": [
      "Accuracy: 0.13\n"
     ]
    }
   ],
   "source": [
    "for X, y in dataloader:\n",
    "    X = X.to(device)\n",
    "    y = y.to(device)\n",
    "\n",
    "    X = X.unsqueeze(-1)\n",
    "    output = model(X)\n",
    "\n",
    "    correct = (output.argmax(dim=1) == y.argmax(dim=1)).sum().item()\n",
    "    print(f\"Accuracy: {correct/len(y)}\")\n",
    "    break"
   ]
  },
  {
   "cell_type": "markdown",
   "metadata": {},
   "source": [
    "## Set Transformer Autoencoder"
   ]
  },
  {
   "cell_type": "code",
   "execution_count": 97,
   "metadata": {},
   "outputs": [],
   "source": [
    "class MAB(nn.Module):\n",
    "    def __init__(self, dim_Q, dim_K, dim_V, num_heads, ln=False):\n",
    "        super(MAB, self).__init__()\n",
    "        self.dim_V = dim_V\n",
    "        self.num_heads = num_heads\n",
    "        self.fc_q = nn.Linear(dim_Q, dim_V)\n",
    "        self.fc_k = nn.Linear(dim_K, dim_V)\n",
    "        self.fc_v = nn.Linear(dim_K, dim_V)\n",
    "        if ln:\n",
    "            self.ln0 = nn.LayerNorm(dim_V)\n",
    "            self.ln1 = nn.LayerNorm(dim_V)\n",
    "        self.fc_o = nn.Linear(dim_V, dim_V)\n",
    "\n",
    "    def forward(self, Q, K):\n",
    "        Q = self.fc_q(Q)\n",
    "        K, V = self.fc_k(K), self.fc_v(K)\n",
    "\n",
    "        dim_split = self.dim_V // self.num_heads\n",
    "        Q_ = torch.cat(Q.split(dim_split, 2), 0)\n",
    "        K_ = torch.cat(K.split(dim_split, 2), 0)\n",
    "        V_ = torch.cat(V.split(dim_split, 2), 0)\n",
    "\n",
    "        A = torch.softmax(Q_.bmm(K_.transpose(1,2))/math.sqrt(self.dim_V), 2)\n",
    "        O = torch.cat((Q_ + A.bmm(V_)).split(Q.size(0), 0), 2)\n",
    "        O = O if getattr(self, 'ln0', None) is None else self.ln0(O)\n",
    "        O = O + F.relu(self.fc_o(O))\n",
    "        O = O if getattr(self, 'ln1', None) is None else self.ln1(O)\n",
    "        return O\n",
    "\n",
    "class SAB(nn.Module):\n",
    "    def __init__(self, dim_in, dim_out, num_heads, ln=False):\n",
    "        super(SAB, self).__init__()\n",
    "        self.mab = MAB(dim_in, dim_in, dim_out, num_heads, ln=ln)\n",
    "\n",
    "    def forward(self, X):\n",
    "        return self.mab(X, X)\n",
    "\n",
    "class ISAB(nn.Module):\n",
    "    def __init__(self, dim_in, dim_out, num_heads, num_inds, ln=False):\n",
    "        super(ISAB, self).__init__()\n",
    "        self.I = nn.Parameter(torch.Tensor(1, num_inds, dim_out))\n",
    "        nn.init.xavier_uniform_(self.I)\n",
    "        self.mab0 = MAB(dim_out, dim_in, dim_out, num_heads, ln=ln)\n",
    "        self.mab1 = MAB(dim_in, dim_out, dim_out, num_heads, ln=ln)\n",
    "\n",
    "    def forward(self, X):\n",
    "        H = self.mab0(self.I.repeat(X.size(0), 1, 1), X)\n",
    "        return self.mab1(X, H)\n",
    "\n",
    "class PMA(nn.Module):\n",
    "    def __init__(self, dim, num_heads, num_seeds, ln=False):\n",
    "        super(PMA, self).__init__()\n",
    "        self.S = nn.Parameter(torch.Tensor(1, num_seeds, dim))\n",
    "        nn.init.xavier_uniform_(self.S)\n",
    "        self.mab = MAB(dim, dim, dim, num_heads, ln=ln)\n",
    "\n",
    "    def forward(self, X):\n",
    "        return self.mab(self.S.repeat(X.size(0), 1, 1), X)"
   ]
  },
  {
   "cell_type": "code",
   "execution_count": 98,
   "metadata": {},
   "outputs": [],
   "source": [
    "class SetTransformer(nn.Module):\n",
    "    def __init__(self, dim_input, num_outputs, dim_output,\n",
    "            num_inds=32, dim_hidden=128, num_heads=4, ln=False):\n",
    "        super(SetTransformer, self).__init__()\n",
    "        self.enc = nn.Sequential(\n",
    "                ISAB(dim_input, dim_hidden, num_heads, num_inds, ln=ln),\n",
    "                ISAB(dim_hidden, dim_hidden, num_heads, num_inds, ln=ln))\n",
    "        self.dec = nn.Sequential(\n",
    "                PMA(dim_hidden, num_heads, num_outputs, ln=ln),\n",
    "                SAB(dim_hidden, dim_hidden, num_heads, ln=ln),\n",
    "                SAB(dim_hidden, dim_hidden, num_heads, ln=ln),\n",
    "                nn.Linear(dim_hidden, dim_output))\n",
    "\n",
    "    def forward(self, X):\n",
    "        return self.dec(self.enc(X))"
   ]
  },
  {
   "cell_type": "code",
   "execution_count": 99,
   "metadata": {},
   "outputs": [],
   "source": [
    "config = {\n",
    "    \"model\":{\n",
    "        \"name\": \"InvariantAutoencoder\",\n",
    "        \"layers\": [33, 512, 1024, 512, 256, 128, 128]\n",
    "    },\n",
    "    \"hyperparameters\":{\n",
    "        \"epochs\": 500,\n",
    "        \"learning_rate\": 5e-4,\n",
    "        \"weight_decay\": 0,\n",
    "        \"optimizer\": \"Adam\",\n",
    "    }\n",
    "}\n",
    "\n",
    "device = torch.device(\"cuda\" if torch.cuda.is_available() else \"cpu\")\n",
    "torch.manual_seed(42)\n",
    "\n",
    "hyperparameters = config[\"hyperparameters\"]\n",
    "epochs = hyperparameters[\"epochs\"]\n",
    "learning_rate = hyperparameters[\"learning_rate\"]\n",
    "weight_decay = hyperparameters[\"weight_decay\"]\n",
    "\n",
    "model = SetTransformer(1, 33, 1)\n",
    "model.to(device)\n",
    "loss_fn = torch.nn.MSELoss()\n",
    "latent_loss_fn = torch.nn.MSELoss()\n",
    "optimizer = torch.optim.Adam(model.parameters(), lr=learning_rate, weight_decay=weight_decay)\n",
    "\n",
    "dataset = ModelParamsDataset(\"../data/eight_angles_small.csv\", 45)\n",
    "dataloader = torch.utils.data.DataLoader(dataset, batch_size=100, shuffle=True)\n",
    "\n",
    "path = f\"../models/autoencoders/equivariant\""
   ]
  },
  {
   "cell_type": "code",
   "execution_count": 101,
   "metadata": {},
   "outputs": [
    {
     "data": {
      "application/vnd.jupyter.widget-view+json": {
       "model_id": "8f2facbd3dfa4b83a633f058352dfb7d",
       "version_major": 2,
       "version_minor": 0
      },
      "text/plain": [
       "  0%|          | 0/500 [00:00<?, ?it/s]"
      ]
     },
     "metadata": {},
     "output_type": "display_data"
    },
    {
     "name": "stdout",
     "output_type": "stream",
     "text": [
      "Epoch: 501, Loss: 4.149081230163574\n",
      "Epoch: 506, Loss: 4.172285079956055\n",
      "Epoch: 511, Loss: 4.1252899169921875\n",
      "Epoch: 516, Loss: 4.099402904510498\n",
      "Epoch: 521, Loss: 4.052992820739746\n",
      "Epoch: 526, Loss: 4.109706401824951\n",
      "Epoch: 531, Loss: 4.187596321105957\n",
      "Epoch: 536, Loss: 4.117925643920898\n",
      "Epoch: 541, Loss: 4.1411285400390625\n",
      "Epoch: 546, Loss: 4.011738300323486\n",
      "Epoch: 551, Loss: 4.156951427459717\n",
      "Epoch: 556, Loss: 4.021773338317871\n",
      "Epoch: 561, Loss: 4.106071472167969\n",
      "Epoch: 566, Loss: 4.038085460662842\n",
      "Epoch: 571, Loss: 4.133617401123047\n",
      "Epoch: 576, Loss: 3.8722620010375977\n",
      "Epoch: 581, Loss: 4.080286026000977\n",
      "Epoch: 586, Loss: 4.055586338043213\n",
      "Epoch: 591, Loss: 4.013086318969727\n",
      "Epoch: 596, Loss: 4.15731143951416\n",
      "Epoch: 601, Loss: 4.157040119171143\n",
      "Epoch: 606, Loss: 4.0126261711120605\n",
      "Epoch: 611, Loss: 4.091933727264404\n",
      "Epoch: 616, Loss: 4.148667335510254\n",
      "Epoch: 621, Loss: 4.049046993255615\n",
      "Epoch: 626, Loss: 4.034346103668213\n",
      "Epoch: 631, Loss: 4.1565704345703125\n",
      "Epoch: 636, Loss: 4.13928747177124\n",
      "Epoch: 641, Loss: 3.9854369163513184\n",
      "Epoch: 646, Loss: 4.1294264793396\n",
      "Epoch: 651, Loss: 3.9960269927978516\n",
      "Epoch: 656, Loss: 4.178091049194336\n",
      "Epoch: 661, Loss: 3.9930832386016846\n",
      "Epoch: 666, Loss: 4.045243263244629\n",
      "Epoch: 671, Loss: 3.9202663898468018\n",
      "Epoch: 676, Loss: 4.014415740966797\n",
      "Epoch: 681, Loss: 4.043817520141602\n",
      "Epoch: 686, Loss: 4.161920070648193\n",
      "Epoch: 691, Loss: 4.078536510467529\n",
      "Epoch: 696, Loss: 4.090851306915283\n",
      "Epoch: 701, Loss: 3.93361496925354\n",
      "Epoch: 706, Loss: 4.048654556274414\n",
      "Epoch: 711, Loss: 4.062956809997559\n",
      "Epoch: 716, Loss: 4.021583557128906\n",
      "Epoch: 721, Loss: 4.169795989990234\n",
      "Epoch: 726, Loss: 4.050429344177246\n",
      "Epoch: 731, Loss: 4.031612873077393\n",
      "Epoch: 736, Loss: 4.06206750869751\n",
      "Epoch: 741, Loss: 3.9816513061523438\n",
      "Epoch: 746, Loss: 4.097140312194824\n",
      "Epoch: 751, Loss: 4.071058750152588\n",
      "Epoch: 756, Loss: 4.075848579406738\n",
      "Epoch: 761, Loss: 3.9480433464050293\n",
      "Epoch: 766, Loss: 4.013126850128174\n",
      "Epoch: 771, Loss: 4.000314712524414\n",
      "Epoch: 776, Loss: 4.074027061462402\n",
      "Epoch: 781, Loss: 4.058025360107422\n",
      "Epoch: 786, Loss: 4.154484748840332\n",
      "Epoch: 791, Loss: 4.094613075256348\n",
      "Epoch: 796, Loss: 4.0823798179626465\n",
      "Epoch: 801, Loss: 3.978550910949707\n",
      "Epoch: 806, Loss: 3.9107489585876465\n",
      "Epoch: 811, Loss: 4.068190097808838\n",
      "Epoch: 816, Loss: 4.007251262664795\n",
      "Epoch: 821, Loss: 4.004323482513428\n",
      "Epoch: 826, Loss: 4.071879863739014\n",
      "Epoch: 831, Loss: 4.074325084686279\n",
      "Epoch: 836, Loss: 3.9991064071655273\n",
      "Epoch: 841, Loss: 4.075586795806885\n",
      "Epoch: 846, Loss: 4.092042922973633\n",
      "Epoch: 851, Loss: 3.971088409423828\n",
      "Epoch: 856, Loss: 4.049306869506836\n",
      "Epoch: 861, Loss: 4.05159330368042\n",
      "Epoch: 866, Loss: 4.092761993408203\n",
      "Epoch: 871, Loss: 4.018030166625977\n",
      "Epoch: 876, Loss: 3.9853012561798096\n",
      "Epoch: 881, Loss: 3.9717957973480225\n",
      "Epoch: 886, Loss: 3.9344418048858643\n",
      "Epoch: 891, Loss: 4.021597385406494\n",
      "Epoch: 896, Loss: 4.009260654449463\n",
      "Epoch: 901, Loss: 4.0812482833862305\n",
      "Epoch: 906, Loss: 4.12883996963501\n",
      "Epoch: 911, Loss: 3.96185302734375\n",
      "Epoch: 916, Loss: 4.062711715698242\n",
      "Epoch: 921, Loss: 4.078838348388672\n",
      "Epoch: 926, Loss: 3.9945359230041504\n",
      "Epoch: 931, Loss: 3.9595513343811035\n",
      "Epoch: 936, Loss: 4.019951343536377\n",
      "Epoch: 941, Loss: 4.003539562225342\n",
      "Epoch: 946, Loss: 4.024179458618164\n",
      "Epoch: 951, Loss: 4.0376996994018555\n",
      "Epoch: 956, Loss: 4.053431034088135\n",
      "Epoch: 961, Loss: 3.982254981994629\n",
      "Epoch: 966, Loss: 4.090584754943848\n",
      "Epoch: 971, Loss: 4.0018134117126465\n",
      "Epoch: 976, Loss: 3.9113049507141113\n",
      "Epoch: 981, Loss: 3.977083444595337\n",
      "Epoch: 986, Loss: 4.027090549468994\n",
      "Epoch: 991, Loss: 3.9201343059539795\n",
      "Epoch: 996, Loss: 4.025832653045654\n"
     ]
    }
   ],
   "source": [
    "model.train()\n",
    "for i in tqdm(range(epochs, epochs + epochs)):\n",
    "    for X, y in dataloader:\n",
    "        X = X.to(device)\n",
    "        y = y.to(device)\n",
    "\n",
    "        X = X.unsqueeze(-1)\n",
    "        output = model(X)\n",
    "\n",
    "        loss = loss_fn(output.squeeze(), X.squeeze())\n",
    "        optimizer.zero_grad()\n",
    "        loss.backward()\n",
    "        optimizer.step()\n",
    "    \n",
    "    if(i % 5 == 0):\n",
    "        print(f'Epoch: {i+1}, Loss: {loss.item()}')\n",
    "        torch.save(model.state_dict(), f\"{path}/autoencoder_{i}.pth\")\n",
    "    \n",
    "torch.save(model.state_dict(), f\"{path}/autoencoder_final.pth\")"
   ]
  },
  {
   "cell_type": "markdown",
   "metadata": {},
   "source": [
    "## Angle classification with DWSForClassification"
   ]
  },
  {
   "cell_type": "code",
   "execution_count": 1,
   "metadata": {},
   "outputs": [],
   "source": [
    "from src.data.datasets import ModelDataset\n",
    "from src.model.models import DWSModelForClassification\n",
    "\n",
    "import torch\n",
    "import torch.nn as nn\n",
    "\n",
    "from tqdm.notebook import tqdm"
   ]
  },
  {
   "cell_type": "code",
   "execution_count": 2,
   "metadata": {},
   "outputs": [],
   "source": [
    "device = torch.device(\"cuda\" if torch.cuda.is_available() else \"cpu\")\n",
    "\n",
    "dataset = ModelDataset(\"../data/dataset_splits.json\", \"train\", True, False, \"../data/statistics.pth\")\n",
    "dataloader = torch.utils.data.DataLoader(dataset, batch_size=100, shuffle=True)\n",
    "\n",
    "point = dataset.__getitem__(0)\n",
    "weight_shapes = tuple(w.shape[:2] for w in point.weights)\n",
    "bias_shapes = tuple(b.shape[:1] for b in point.biases)\n",
    "\n",
    "model = DWSModelForClassification(weight_shapes, bias_shapes, 1, 32, 2, 8)\n",
    "model.to(device)\n",
    "\n",
    "loss_fn = nn.CrossEntropyLoss()\n",
    "optimizer = torch.optim.Adam(model.parameters(), lr=1e-3)\n",
    "\n",
    "epochs = 50"
   ]
  },
  {
   "cell_type": "code",
   "execution_count": 3,
   "metadata": {},
   "outputs": [
    {
     "data": {
      "application/vnd.jupyter.widget-view+json": {
       "model_id": "f408661e252f437fb494d1dcadd3b23c",
       "version_major": 2,
       "version_minor": 0
      },
      "text/plain": [
       "  0%|          | 0/50 [00:00<?, ?it/s]"
      ]
     },
     "metadata": {},
     "output_type": "display_data"
    },
    {
     "ename": "KeyboardInterrupt",
     "evalue": "",
     "output_type": "error",
     "traceback": [
      "\u001b[1;31m---------------------------------------------------------------------------\u001b[0m",
      "\u001b[1;31mKeyboardInterrupt\u001b[0m                         Traceback (most recent call last)",
      "Cell \u001b[1;32mIn[3], line 3\u001b[0m\n\u001b[0;32m      1\u001b[0m model\u001b[38;5;241m.\u001b[39mtrain()\n\u001b[0;32m      2\u001b[0m \u001b[38;5;28;01mfor\u001b[39;00m i \u001b[38;5;129;01min\u001b[39;00m tqdm(\u001b[38;5;28mrange\u001b[39m(epochs)):\n\u001b[1;32m----> 3\u001b[0m \u001b[43m    \u001b[49m\u001b[38;5;28;43;01mfor\u001b[39;49;00m\u001b[43m \u001b[49m\u001b[43mbatch\u001b[49m\u001b[43m \u001b[49m\u001b[38;5;129;43;01min\u001b[39;49;00m\u001b[43m \u001b[49m\u001b[43mdataloader\u001b[49m\u001b[43m:\u001b[49m\n\u001b[0;32m      4\u001b[0m \u001b[43m        \u001b[49m\u001b[43mbatch\u001b[49m\u001b[43m \u001b[49m\u001b[38;5;241;43m=\u001b[39;49m\u001b[43m \u001b[49m\u001b[43mbatch\u001b[49m\u001b[38;5;241;43m.\u001b[39;49m\u001b[43mto\u001b[49m\u001b[43m(\u001b[49m\u001b[43mdevice\u001b[49m\u001b[43m)\u001b[49m\n\u001b[0;32m      5\u001b[0m \u001b[43m        \u001b[49m\u001b[38;5;28;43minput\u001b[39;49m\u001b[43m \u001b[49m\u001b[38;5;241;43m=\u001b[39;49m\u001b[43m \u001b[49m\u001b[43m(\u001b[49m\u001b[43mbatch\u001b[49m\u001b[38;5;241;43m.\u001b[39;49m\u001b[43mweights\u001b[49m\u001b[43m,\u001b[49m\u001b[43m \u001b[49m\u001b[43mbatch\u001b[49m\u001b[38;5;241;43m.\u001b[39;49m\u001b[43mbiases\u001b[49m\u001b[43m)\u001b[49m\n",
      "File \u001b[1;32mc:\\Projects\\Python\\master-thesis\\venv\\Lib\\site-packages\\torch\\utils\\data\\dataloader.py:631\u001b[0m, in \u001b[0;36m_BaseDataLoaderIter.__next__\u001b[1;34m(self)\u001b[0m\n\u001b[0;32m    628\u001b[0m \u001b[38;5;28;01mif\u001b[39;00m \u001b[38;5;28mself\u001b[39m\u001b[38;5;241m.\u001b[39m_sampler_iter \u001b[38;5;129;01mis\u001b[39;00m \u001b[38;5;28;01mNone\u001b[39;00m:\n\u001b[0;32m    629\u001b[0m     \u001b[38;5;66;03m# TODO(https://github.com/pytorch/pytorch/issues/76750)\u001b[39;00m\n\u001b[0;32m    630\u001b[0m     \u001b[38;5;28mself\u001b[39m\u001b[38;5;241m.\u001b[39m_reset()  \u001b[38;5;66;03m# type: ignore[call-arg]\u001b[39;00m\n\u001b[1;32m--> 631\u001b[0m data \u001b[38;5;241m=\u001b[39m \u001b[38;5;28;43mself\u001b[39;49m\u001b[38;5;241;43m.\u001b[39;49m\u001b[43m_next_data\u001b[49m\u001b[43m(\u001b[49m\u001b[43m)\u001b[49m\n\u001b[0;32m    632\u001b[0m \u001b[38;5;28mself\u001b[39m\u001b[38;5;241m.\u001b[39m_num_yielded \u001b[38;5;241m+\u001b[39m\u001b[38;5;241m=\u001b[39m \u001b[38;5;241m1\u001b[39m\n\u001b[0;32m    633\u001b[0m \u001b[38;5;28;01mif\u001b[39;00m \u001b[38;5;28mself\u001b[39m\u001b[38;5;241m.\u001b[39m_dataset_kind \u001b[38;5;241m==\u001b[39m _DatasetKind\u001b[38;5;241m.\u001b[39mIterable \u001b[38;5;129;01mand\u001b[39;00m \\\n\u001b[0;32m    634\u001b[0m         \u001b[38;5;28mself\u001b[39m\u001b[38;5;241m.\u001b[39m_IterableDataset_len_called \u001b[38;5;129;01mis\u001b[39;00m \u001b[38;5;129;01mnot\u001b[39;00m \u001b[38;5;28;01mNone\u001b[39;00m \u001b[38;5;129;01mand\u001b[39;00m \\\n\u001b[0;32m    635\u001b[0m         \u001b[38;5;28mself\u001b[39m\u001b[38;5;241m.\u001b[39m_num_yielded \u001b[38;5;241m>\u001b[39m \u001b[38;5;28mself\u001b[39m\u001b[38;5;241m.\u001b[39m_IterableDataset_len_called:\n",
      "File \u001b[1;32mc:\\Projects\\Python\\master-thesis\\venv\\Lib\\site-packages\\torch\\utils\\data\\dataloader.py:675\u001b[0m, in \u001b[0;36m_SingleProcessDataLoaderIter._next_data\u001b[1;34m(self)\u001b[0m\n\u001b[0;32m    673\u001b[0m \u001b[38;5;28;01mdef\u001b[39;00m \u001b[38;5;21m_next_data\u001b[39m(\u001b[38;5;28mself\u001b[39m):\n\u001b[0;32m    674\u001b[0m     index \u001b[38;5;241m=\u001b[39m \u001b[38;5;28mself\u001b[39m\u001b[38;5;241m.\u001b[39m_next_index()  \u001b[38;5;66;03m# may raise StopIteration\u001b[39;00m\n\u001b[1;32m--> 675\u001b[0m     data \u001b[38;5;241m=\u001b[39m \u001b[38;5;28;43mself\u001b[39;49m\u001b[38;5;241;43m.\u001b[39;49m\u001b[43m_dataset_fetcher\u001b[49m\u001b[38;5;241;43m.\u001b[39;49m\u001b[43mfetch\u001b[49m\u001b[43m(\u001b[49m\u001b[43mindex\u001b[49m\u001b[43m)\u001b[49m  \u001b[38;5;66;03m# may raise StopIteration\u001b[39;00m\n\u001b[0;32m    676\u001b[0m     \u001b[38;5;28;01mif\u001b[39;00m \u001b[38;5;28mself\u001b[39m\u001b[38;5;241m.\u001b[39m_pin_memory:\n\u001b[0;32m    677\u001b[0m         data \u001b[38;5;241m=\u001b[39m _utils\u001b[38;5;241m.\u001b[39mpin_memory\u001b[38;5;241m.\u001b[39mpin_memory(data, \u001b[38;5;28mself\u001b[39m\u001b[38;5;241m.\u001b[39m_pin_memory_device)\n",
      "File \u001b[1;32mc:\\Projects\\Python\\master-thesis\\venv\\Lib\\site-packages\\torch\\utils\\data\\_utils\\fetch.py:51\u001b[0m, in \u001b[0;36m_MapDatasetFetcher.fetch\u001b[1;34m(self, possibly_batched_index)\u001b[0m\n\u001b[0;32m     49\u001b[0m         data \u001b[38;5;241m=\u001b[39m \u001b[38;5;28mself\u001b[39m\u001b[38;5;241m.\u001b[39mdataset\u001b[38;5;241m.\u001b[39m__getitems__(possibly_batched_index)\n\u001b[0;32m     50\u001b[0m     \u001b[38;5;28;01melse\u001b[39;00m:\n\u001b[1;32m---> 51\u001b[0m         data \u001b[38;5;241m=\u001b[39m [\u001b[38;5;28;43mself\u001b[39;49m\u001b[38;5;241;43m.\u001b[39;49m\u001b[43mdataset\u001b[49m\u001b[43m[\u001b[49m\u001b[43midx\u001b[49m\u001b[43m]\u001b[49m \u001b[38;5;28;01mfor\u001b[39;00m idx \u001b[38;5;129;01min\u001b[39;00m possibly_batched_index]\n\u001b[0;32m     52\u001b[0m \u001b[38;5;28;01melse\u001b[39;00m:\n\u001b[0;32m     53\u001b[0m     data \u001b[38;5;241m=\u001b[39m \u001b[38;5;28mself\u001b[39m\u001b[38;5;241m.\u001b[39mdataset[possibly_batched_index]\n",
      "File \u001b[1;32mC:\\Projects\\Python\\master-thesis\\src\\data\\datasets.py:96\u001b[0m, in \u001b[0;36mModelDataset.__getitem__\u001b[1;34m(self, item)\u001b[0m\n\u001b[0;32m     94\u001b[0m \u001b[38;5;28;01mdef\u001b[39;00m \u001b[38;5;21m__getitem__\u001b[39m(\u001b[38;5;28mself\u001b[39m, item):\n\u001b[0;32m     95\u001b[0m     path \u001b[38;5;241m=\u001b[39m \u001b[38;5;28mself\u001b[39m\u001b[38;5;241m.\u001b[39mdataset[\u001b[38;5;124m\"\u001b[39m\u001b[38;5;124mpath\u001b[39m\u001b[38;5;124m\"\u001b[39m][item]\n\u001b[1;32m---> 96\u001b[0m     state_dict \u001b[38;5;241m=\u001b[39m \u001b[43mtorch\u001b[49m\u001b[38;5;241;43m.\u001b[39;49m\u001b[43mload\u001b[49m\u001b[43m(\u001b[49m\u001b[43mpath\u001b[49m\u001b[43m,\u001b[49m\u001b[43m \u001b[49m\u001b[43mmap_location\u001b[49m\u001b[38;5;241;43m=\u001b[39;49m\u001b[38;5;28;43;01mlambda\u001b[39;49;00m\u001b[43m \u001b[49m\u001b[43mstorage\u001b[49m\u001b[43m,\u001b[49m\u001b[43m \u001b[49m\u001b[43mloc\u001b[49m\u001b[43m:\u001b[49m\u001b[43m \u001b[49m\u001b[43mstorage\u001b[49m\u001b[43m)\u001b[49m\n\u001b[0;32m     98\u001b[0m     weights \u001b[38;5;241m=\u001b[39m \u001b[38;5;28mtuple\u001b[39m(\n\u001b[0;32m     99\u001b[0m         [v\u001b[38;5;241m.\u001b[39mpermute(\u001b[38;5;241m1\u001b[39m, \u001b[38;5;241m0\u001b[39m) \u001b[38;5;28;01mfor\u001b[39;00m w, v \u001b[38;5;129;01min\u001b[39;00m state_dict\u001b[38;5;241m.\u001b[39mitems() \u001b[38;5;28;01mif\u001b[39;00m \u001b[38;5;124m\"\u001b[39m\u001b[38;5;124mweight\u001b[39m\u001b[38;5;124m\"\u001b[39m \u001b[38;5;129;01min\u001b[39;00m w]\n\u001b[0;32m    100\u001b[0m     )\n\u001b[0;32m    101\u001b[0m     biases \u001b[38;5;241m=\u001b[39m \u001b[38;5;28mtuple\u001b[39m([v \u001b[38;5;28;01mfor\u001b[39;00m w, v \u001b[38;5;129;01min\u001b[39;00m state_dict\u001b[38;5;241m.\u001b[39mitems() \u001b[38;5;28;01mif\u001b[39;00m \u001b[38;5;124m\"\u001b[39m\u001b[38;5;124mbias\u001b[39m\u001b[38;5;124m\"\u001b[39m \u001b[38;5;129;01min\u001b[39;00m w])\n",
      "File \u001b[1;32mc:\\Projects\\Python\\master-thesis\\venv\\Lib\\site-packages\\torch\\serialization.py:997\u001b[0m, in \u001b[0;36mload\u001b[1;34m(f, map_location, pickle_module, weights_only, mmap, **pickle_load_args)\u001b[0m\n\u001b[0;32m    994\u001b[0m \u001b[38;5;28;01mif\u001b[39;00m \u001b[38;5;124m'\u001b[39m\u001b[38;5;124mencoding\u001b[39m\u001b[38;5;124m'\u001b[39m \u001b[38;5;129;01mnot\u001b[39;00m \u001b[38;5;129;01min\u001b[39;00m pickle_load_args\u001b[38;5;241m.\u001b[39mkeys():\n\u001b[0;32m    995\u001b[0m     pickle_load_args[\u001b[38;5;124m'\u001b[39m\u001b[38;5;124mencoding\u001b[39m\u001b[38;5;124m'\u001b[39m] \u001b[38;5;241m=\u001b[39m \u001b[38;5;124m'\u001b[39m\u001b[38;5;124mutf-8\u001b[39m\u001b[38;5;124m'\u001b[39m\n\u001b[1;32m--> 997\u001b[0m \u001b[38;5;28;01mwith\u001b[39;00m \u001b[43m_open_file_like\u001b[49m\u001b[43m(\u001b[49m\u001b[43mf\u001b[49m\u001b[43m,\u001b[49m\u001b[43m \u001b[49m\u001b[38;5;124;43m'\u001b[39;49m\u001b[38;5;124;43mrb\u001b[39;49m\u001b[38;5;124;43m'\u001b[39;49m\u001b[43m)\u001b[49m \u001b[38;5;28;01mas\u001b[39;00m opened_file:\n\u001b[0;32m    998\u001b[0m     \u001b[38;5;28;01mif\u001b[39;00m _is_zipfile(opened_file):\n\u001b[0;32m    999\u001b[0m         \u001b[38;5;66;03m# The zipfile reader is going to advance the current file position.\u001b[39;00m\n\u001b[0;32m   1000\u001b[0m         \u001b[38;5;66;03m# If we want to actually tail call to torch.jit.load, we need to\u001b[39;00m\n\u001b[0;32m   1001\u001b[0m         \u001b[38;5;66;03m# reset back to the original position.\u001b[39;00m\n\u001b[0;32m   1002\u001b[0m         orig_position \u001b[38;5;241m=\u001b[39m opened_file\u001b[38;5;241m.\u001b[39mtell()\n",
      "File \u001b[1;32mc:\\Projects\\Python\\master-thesis\\venv\\Lib\\site-packages\\torch\\serialization.py:444\u001b[0m, in \u001b[0;36m_open_file_like\u001b[1;34m(name_or_buffer, mode)\u001b[0m\n\u001b[0;32m    442\u001b[0m \u001b[38;5;28;01mdef\u001b[39;00m \u001b[38;5;21m_open_file_like\u001b[39m(name_or_buffer, mode):\n\u001b[0;32m    443\u001b[0m     \u001b[38;5;28;01mif\u001b[39;00m _is_path(name_or_buffer):\n\u001b[1;32m--> 444\u001b[0m         \u001b[38;5;28;01mreturn\u001b[39;00m \u001b[43m_open_file\u001b[49m\u001b[43m(\u001b[49m\u001b[43mname_or_buffer\u001b[49m\u001b[43m,\u001b[49m\u001b[43m \u001b[49m\u001b[43mmode\u001b[49m\u001b[43m)\u001b[49m\n\u001b[0;32m    445\u001b[0m     \u001b[38;5;28;01melse\u001b[39;00m:\n\u001b[0;32m    446\u001b[0m         \u001b[38;5;28;01mif\u001b[39;00m \u001b[38;5;124m'\u001b[39m\u001b[38;5;124mw\u001b[39m\u001b[38;5;124m'\u001b[39m \u001b[38;5;129;01min\u001b[39;00m mode:\n",
      "File \u001b[1;32mc:\\Projects\\Python\\master-thesis\\venv\\Lib\\site-packages\\torch\\serialization.py:425\u001b[0m, in \u001b[0;36m_open_file.__init__\u001b[1;34m(self, name, mode)\u001b[0m\n\u001b[0;32m    424\u001b[0m \u001b[38;5;28;01mdef\u001b[39;00m \u001b[38;5;21m__init__\u001b[39m(\u001b[38;5;28mself\u001b[39m, name, mode):\n\u001b[1;32m--> 425\u001b[0m     \u001b[38;5;28msuper\u001b[39m()\u001b[38;5;241m.\u001b[39m\u001b[38;5;21m__init__\u001b[39m(\u001b[38;5;28;43mopen\u001b[39;49m\u001b[43m(\u001b[49m\u001b[43mname\u001b[49m\u001b[43m,\u001b[49m\u001b[43m \u001b[49m\u001b[43mmode\u001b[49m\u001b[43m)\u001b[49m)\n",
      "\u001b[1;31mKeyboardInterrupt\u001b[0m: "
     ]
    }
   ],
   "source": [
    "model.train()\n",
    "for i in tqdm(range(epochs)):\n",
    "    for batch in dataloader:\n",
    "        batch = batch.to(device)\n",
    "        input = (batch.weights, batch.biases)\n",
    "        y = batch.label\n",
    "        output = model(input)\n",
    "\n",
    "        loss = loss_fn(y, output)\n",
    "        optimizer.zero_grad()\n",
    "        loss.backward()\n",
    "        optimizer.step()\n",
    "\n",
    "    if(i % 5 == 0):\n",
    "        print(f'Epoch: {i+1}, Loss: {loss.item()}')"
   ]
  },
  {
   "cell_type": "markdown",
   "metadata": {},
   "source": [
    "## DeepSets\n"
   ]
  },
  {
   "cell_type": "code",
   "execution_count": 4,
   "metadata": {},
   "outputs": [],
   "source": [
    "import torch\n",
    "import torch.nn as nn\n",
    "\n",
    "from src.data.datasets import ModelParamsDataset\n",
    "from tqdm.notebook import tqdm"
   ]
  },
  {
   "cell_type": "code",
   "execution_count": 29,
   "metadata": {},
   "outputs": [],
   "source": [
    "class PermEqui2_max(nn.Module):\n",
    "  def __init__(self, in_dim, out_dim):\n",
    "    super(PermEqui2_max, self).__init__()\n",
    "    self.Gamma = nn.Linear(in_dim, out_dim)\n",
    "    self.Lambda = nn.Linear(in_dim, out_dim, bias=False)\n",
    "\n",
    "  def forward(self, x):\n",
    "    xm, _ = x.max(1, keepdim=True)\n",
    "    xm = self.Lambda(xm) \n",
    "    x = self.Gamma(x)\n",
    "    x = x - xm\n",
    "    return x\n",
    "  \n",
    "class PermEqui1_max(nn.Module):\n",
    "  def __init__(self, in_dim, out_dim):\n",
    "    super(PermEqui1_max, self).__init__()\n",
    "    self.Gamma = nn.Linear(in_dim, out_dim)\n",
    "\n",
    "  def forward(self, x):\n",
    "    xm, _ = x.max(1, keepdim=True)\n",
    "    x = self.Gamma(x-xm)\n",
    "    return x\n",
    "\n",
    "class DTanh(nn.Module):\n",
    "\n",
    "  def __init__(self, d_dim, x_dim=3):\n",
    "    super(DTanh, self).__init__()\n",
    "    self.d_dim = d_dim\n",
    "    self.x_dim = x_dim\n",
    "\n",
    "    self.phi = nn.Sequential(\n",
    "        PermEqui1_max(self.x_dim, self.d_dim),\n",
    "        nn.Tanh(),\n",
    "        PermEqui1_max(self.d_dim, self.d_dim),\n",
    "        nn.Tanh(),\n",
    "        PermEqui1_max(self.d_dim, self.d_dim),\n",
    "        nn.Tanh(),\n",
    "    )\n",
    "\n",
    "    self.ro = nn.Sequential(\n",
    "       nn.Dropout(p=0.5),\n",
    "       nn.Linear(self.d_dim, self.d_dim),\n",
    "       nn.Tanh(),\n",
    "       nn.Dropout(p=0.5),\n",
    "       nn.Linear(self.d_dim, 8),\n",
    "    )\n",
    "\n",
    "    self.softmax = nn.Softmax(dim=1)\n",
    "\n",
    "  def forward(self, x):\n",
    "    phi_output = self.phi(x)\n",
    "    sum_output, _ = phi_output.max(1)\n",
    "    ro_output = self.ro(sum_output)\n",
    "    ro_output = self.softmax(ro_output)\n",
    "    return ro_output\n",
    "  \n",
    "\n",
    "def clip_grad(model, max_norm):\n",
    "    total_norm = 0\n",
    "    for p in model.parameters():\n",
    "        param_norm = p.grad.data.norm(2)\n",
    "        total_norm += param_norm ** 2\n",
    "    total_norm = total_norm ** (0.5)\n",
    "    clip_coef = max_norm / (total_norm + 1e-6)\n",
    "    if clip_coef < 1:\n",
    "        for p in model.parameters():\n",
    "            p.grad.data.mul_(clip_coef)\n",
    "    return total_norm"
   ]
  },
  {
   "cell_type": "code",
   "execution_count": 10,
   "metadata": {},
   "outputs": [],
   "source": [
    "device = torch.device(\"cuda\" if torch.cuda.is_available() else \"cpu\")\n",
    "\n",
    "dataset = ModelParamsDataset(\"../data/eight_angles_small.csv\", 45)\n",
    "dataloader = torch.utils.data.DataLoader(dataset, batch_size=100, shuffle=True)\n",
    "\n",
    "model = DTanh(1024, 1)\n",
    "model.to(device)\n",
    "\n",
    "loss_fn = nn.BCELoss()\n",
    "optimizer = torch.optim.Adam(model.parameters(), lr=1e-3, weight_decay=1e-7, eps=1e-3)\n",
    "\n",
    "epochs = 20"
   ]
  },
  {
   "cell_type": "code",
   "execution_count": 11,
   "metadata": {},
   "outputs": [
    {
     "data": {
      "application/vnd.jupyter.widget-view+json": {
       "model_id": "76abf4aebea748aa8501b0226034c51d",
       "version_major": 2,
       "version_minor": 0
      },
      "text/plain": [
       "  0%|          | 0/20 [00:00<?, ?it/s]"
      ]
     },
     "metadata": {},
     "output_type": "display_data"
    },
    {
     "name": "stdout",
     "output_type": "stream",
     "text": [
      "Epoch: 1, Loss: 0.36001333594322205\n",
      "Epoch: 2, Loss: 0.3659091889858246\n",
      "Epoch: 3, Loss: 0.3616922199726105\n",
      "Epoch: 4, Loss: 0.3634995222091675\n",
      "Epoch: 5, Loss: 0.36156535148620605\n",
      "Epoch: 6, Loss: 0.3560142517089844\n",
      "Epoch: 7, Loss: 0.37101882696151733\n",
      "Epoch: 8, Loss: 0.35565900802612305\n",
      "Epoch: 9, Loss: 0.36802536249160767\n",
      "Epoch: 10, Loss: 0.354023277759552\n",
      "Epoch: 11, Loss: 0.35515761375427246\n",
      "Epoch: 12, Loss: 0.35702717304229736\n",
      "Epoch: 13, Loss: 0.36309072375297546\n",
      "Epoch: 14, Loss: 0.3603179156780243\n",
      "Epoch: 15, Loss: 0.35910797119140625\n",
      "Epoch: 16, Loss: 0.3690547049045563\n",
      "Epoch: 17, Loss: 0.36986643075942993\n",
      "Epoch: 18, Loss: 0.35467860102653503\n",
      "Epoch: 19, Loss: 0.35663482546806335\n",
      "Epoch: 20, Loss: 0.34936344623565674\n"
     ]
    }
   ],
   "source": [
    "model.train()\n",
    "for i in tqdm(range(epochs)):\n",
    "    for X, y in dataloader:\n",
    "        X = X.to(device)\n",
    "        y = y.to(device)\n",
    "\n",
    "        X = X.unsqueeze(-1)\n",
    "        output = model(X)\n",
    "\n",
    "        loss = loss_fn(output, y)\n",
    "        optimizer.zero_grad()\n",
    "        loss.backward()\n",
    "        clip_grad(model, 5)\n",
    "        optimizer.step()\n",
    "\n",
    "    print(f'Epoch: {i+1}, Loss: {loss.item()}')"
   ]
  },
  {
   "cell_type": "code",
   "execution_count": 33,
   "metadata": {},
   "outputs": [
    {
     "name": "stdout",
     "output_type": "stream",
     "text": [
      "Accuracy: 0.27\n"
     ]
    }
   ],
   "source": [
    "for X, y in dataloader:\n",
    "    X = X.to(device)\n",
    "    y = y.to(device)\n",
    "\n",
    "    X = X.unsqueeze(-1)\n",
    "    output = model(X)\n",
    "\n",
    "    correct = (output.argmax(dim=1) == y.argmax(dim=1)).sum().item()\n",
    "    print(f\"Accuracy: {correct/len(y)}\")\n",
    "    break"
   ]
  }
 ],
 "metadata": {
  "kernelspec": {
   "display_name": "venv",
   "language": "python",
   "name": "python3"
  },
  "language_info": {
   "codemirror_mode": {
    "name": "ipython",
    "version": 3
   },
   "file_extension": ".py",
   "mimetype": "text/x-python",
   "name": "python",
   "nbconvert_exporter": "python",
   "pygments_lexer": "ipython3",
   "version": "3.12.2"
  }
 },
 "nbformat": 4,
 "nbformat_minor": 2
}
