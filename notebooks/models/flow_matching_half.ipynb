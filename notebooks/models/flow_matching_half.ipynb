{
 "cells": [
  {
   "cell_type": "markdown",
   "metadata": {},
   "source": [
    "This notebook is the copy of flow_matching notebook, but the training set is limited to 0 -> 180 degrees. The goal is to see how the model behaves for the other half of the circle."
   ]
  },
  {
   "cell_type": "code",
   "execution_count": 11,
   "metadata": {},
   "outputs": [],
   "source": [
    "import torch\n",
    "import torch.nn as nn\n",
    "\n",
    "import numpy as np\n",
    "import matplotlib.pyplot as plt\n",
    "import seaborn as sns\n",
    "\n",
    "import math\n",
    "from tqdm.notebook import tqdm\n",
    "\n",
    "from src.model. models import DBModel\n",
    "from src.data.helpers import get_moons_dataset, rotate, get_accuracy\n",
    "from src.visualization.visualize import plot_decision_boundary"
   ]
  },
  {
   "cell_type": "code",
   "execution_count": 12,
   "metadata": {},
   "outputs": [],
   "source": [
    "import pandas as pd\n",
    "\n",
    "class ModelParamsDataset(torch.utils.data.Dataset):\n",
    "    def __init__(self, dataset_path, angle_change: int = 45):\n",
    "        self.dataset_path = dataset_path\n",
    "        self.dataset = pd.read_csv(dataset_path)\n",
    "        # self.dataset = self.dataset.groupby(\"angle\").head(100)\n",
    "        self.dataset = self.dataset[self.dataset[\"angle\"] <= 180]\n",
    "        self.angle_change = angle_change\n",
    "        self.weights = self.dataset.drop(columns=[\"model_name\", \"angle\"]).astype('float32')\n",
    "        self.angles = self.dataset[\"angle\"]\n",
    "    def __len__(self):\n",
    "        return len(self.dataset)\n",
    "\n",
    "    def __getitem__(self, idx):\n",
    "        if torch.is_tensor(idx):\n",
    "            idx = idx.tolist()\n",
    "        weights = torch.tensor(self.weights.iloc[idx].values)\n",
    "        angle = torch.tensor(self.angles.iloc[idx], dtype=torch.int64)\n",
    "\n",
    "        return weights, angle"
   ]
  },
  {
   "cell_type": "code",
   "execution_count": 13,
   "metadata": {},
   "outputs": [],
   "source": [
    "class Flow(nn.Module):\n",
    "    def __init__(self, hidden_dim=128):\n",
    "        super(Flow, self).__init__()\n",
    "\n",
    "        self.layers = nn.Sequential(\n",
    "            nn.Linear(36, hidden_dim),\n",
    "            nn.SELU(),\n",
    "            nn.Linear(hidden_dim, hidden_dim),\n",
    "            nn.SELU(),\n",
    "            nn.Linear(hidden_dim, hidden_dim),\n",
    "            nn.SELU(),\n",
    "            nn.Linear(hidden_dim, 33)\n",
    "        )\n",
    "    \n",
    "    def forward(self, x):\n",
    "        return self.layers(x)"
   ]
  },
  {
   "cell_type": "code",
   "execution_count": 14,
   "metadata": {},
   "outputs": [],
   "source": [
    "def compute_conditional_vector_field(x0, x1):\n",
    "    return x1 - x0\n",
    "\n",
    "\n",
    "def sample_conditional_pt(x0, x1, t, sigma):\n",
    "    t = t.reshape(-1, *([1] * (x0.dim() - 1)))\n",
    "    mu_t = t * x1 + (1 - t) * x0\n",
    "    epsilon = torch.randn_like(x0)\n",
    "    return mu_t + sigma * epsilon"
   ]
  },
  {
   "cell_type": "code",
   "execution_count": null,
   "metadata": {},
   "outputs": [],
   "source": [
    "device = torch.device(\"cuda\" if torch.cuda.is_available() else \"cpu\")\n",
    "\n",
    "\n",
    "# Hyperparameters\n",
    "epochs = 1000\n",
    "lr = 1e-3\n",
    "batch_size = 100\n",
    "hidden_dim = 1024\n",
    "\n",
    "\n",
    "# Dataset\n",
    "dataset = ModelParamsDataset(\"../../data/zoo_small.csv\")\n",
    "dataloader = torch.utils.data.DataLoader(dataset, batch_size=batch_size, shuffle=True)\n",
    "\n",
    "# Model\n",
    "flow = Flow(1024)\n",
    "flow.to(device)\n",
    "optimizer = torch.optim.Adam(flow.parameters(), lr=lr)\n",
    "\n",
    "# Gaussian prior\n",
    "prior_dim = 33\n",
    "prior_sd = 1\n",
    "gaussian = torch.distributions.multivariate_normal.MultivariateNormal(torch.zeros(prior_dim), math.sqrt(prior_sd) * torch.eye(prior_dim))\n",
    "\n",
    "path = \"../../models/generators/\"\n",
    "model_path = path + \"flow_conditional_half.pth\"\n"
   ]
  },
  {
   "cell_type": "code",
   "execution_count": 16,
   "metadata": {},
   "outputs": [
    {
     "data": {
      "application/vnd.jupyter.widget-view+json": {
       "model_id": "f69e1f62e0f24075a5574cf6f1af1b9e",
       "version_major": 2,
       "version_minor": 0
      },
      "text/plain": [
       "  0%|          | 0/1000 [00:00<?, ?it/s]"
      ]
     },
     "metadata": {},
     "output_type": "display_data"
    },
    {
     "name": "stdout",
     "output_type": "stream",
     "text": [
      "Epoch 0: Loss 4.015744686126709\n",
      "Epoch 10: Loss 2.9906511306762695\n",
      "Epoch 20: Loss 2.800943374633789\n",
      "Epoch 30: Loss 3.0214531421661377\n",
      "Epoch 40: Loss 2.692748546600342\n",
      "Epoch 50: Loss 2.9993340969085693\n",
      "Epoch 60: Loss 2.476680040359497\n",
      "Epoch 70: Loss 3.052706003189087\n",
      "Epoch 80: Loss 2.932685375213623\n",
      "Epoch 90: Loss 2.4033091068267822\n",
      "Epoch 100: Loss 2.6999330520629883\n",
      "Epoch 110: Loss 3.046506881713867\n",
      "Epoch 120: Loss 2.942686080932617\n",
      "Epoch 130: Loss 2.897650957107544\n",
      "Epoch 140: Loss 2.8405025005340576\n",
      "Epoch 150: Loss 2.7482659816741943\n",
      "Epoch 160: Loss 2.7119104862213135\n",
      "Epoch 170: Loss 2.771193265914917\n",
      "Epoch 180: Loss 3.015200614929199\n",
      "Epoch 190: Loss 2.803532123565674\n",
      "Epoch 200: Loss 2.352109432220459\n",
      "Epoch 210: Loss 2.400683879852295\n",
      "Epoch 220: Loss 2.66195011138916\n",
      "Epoch 230: Loss 2.561847686767578\n",
      "Epoch 240: Loss 2.7431533336639404\n",
      "Epoch 250: Loss 2.6986281871795654\n",
      "Epoch 260: Loss 2.4599385261535645\n",
      "Epoch 270: Loss 2.6695733070373535\n",
      "Epoch 280: Loss 2.499391555786133\n",
      "Epoch 290: Loss 2.582221746444702\n",
      "Epoch 300: Loss 2.550074815750122\n",
      "Epoch 310: Loss 2.6445348262786865\n",
      "Epoch 320: Loss 2.700982093811035\n",
      "Epoch 330: Loss 2.9697210788726807\n",
      "Epoch 340: Loss 2.3344614505767822\n",
      "Epoch 350: Loss 2.785205602645874\n",
      "Epoch 360: Loss 2.4986610412597656\n",
      "Epoch 370: Loss 2.692293167114258\n",
      "Epoch 380: Loss 2.780621290206909\n",
      "Epoch 390: Loss 2.7040672302246094\n",
      "Epoch 400: Loss 2.5919113159179688\n",
      "Epoch 410: Loss 2.590394973754883\n",
      "Epoch 420: Loss 2.662257432937622\n",
      "Epoch 430: Loss 2.5094430446624756\n",
      "Epoch 440: Loss 2.8254659175872803\n",
      "Epoch 450: Loss 2.4438624382019043\n",
      "Epoch 460: Loss 2.6500983238220215\n",
      "Epoch 470: Loss 2.8199973106384277\n",
      "Epoch 480: Loss 2.633559226989746\n",
      "Epoch 490: Loss 2.6546401977539062\n",
      "Epoch 500: Loss 2.41609263420105\n",
      "Epoch 510: Loss 2.3844072818756104\n",
      "Epoch 520: Loss 2.396911144256592\n",
      "Epoch 530: Loss 2.6930205821990967\n",
      "Epoch 540: Loss 2.713163375854492\n",
      "Epoch 550: Loss 2.5456249713897705\n",
      "Epoch 560: Loss 2.3229548931121826\n",
      "Epoch 570: Loss 3.0507895946502686\n",
      "Epoch 580: Loss 2.1962575912475586\n",
      "Epoch 590: Loss 2.5338785648345947\n",
      "Epoch 600: Loss 2.516996383666992\n",
      "Epoch 610: Loss 2.607653856277466\n",
      "Epoch 620: Loss 2.5983688831329346\n",
      "Epoch 630: Loss 2.498257637023926\n",
      "Epoch 640: Loss 2.771486759185791\n",
      "Epoch 650: Loss 2.4959166049957275\n",
      "Epoch 660: Loss 2.623101234436035\n",
      "Epoch 670: Loss 3.1235175132751465\n",
      "Epoch 680: Loss 2.5895514488220215\n",
      "Epoch 690: Loss 2.4803080558776855\n",
      "Epoch 700: Loss 2.5793447494506836\n",
      "Epoch 710: Loss 2.6288092136383057\n",
      "Epoch 720: Loss 2.733412742614746\n",
      "Epoch 730: Loss 2.8481006622314453\n",
      "Epoch 740: Loss 2.7383766174316406\n",
      "Epoch 750: Loss 2.5158681869506836\n",
      "Epoch 760: Loss 2.784264087677002\n",
      "Epoch 770: Loss 2.5723977088928223\n",
      "Epoch 780: Loss 2.5921549797058105\n",
      "Epoch 790: Loss 2.5575225353240967\n",
      "Epoch 800: Loss 2.5562727451324463\n",
      "Epoch 810: Loss 2.670872449874878\n",
      "Epoch 820: Loss 2.452971935272217\n",
      "Epoch 830: Loss 2.3844406604766846\n",
      "Epoch 840: Loss 2.948622226715088\n",
      "Epoch 850: Loss 2.8186705112457275\n",
      "Epoch 860: Loss 2.84316349029541\n",
      "Epoch 870: Loss 2.6593565940856934\n",
      "Epoch 880: Loss 2.5083765983581543\n",
      "Epoch 890: Loss 2.7674200534820557\n",
      "Epoch 900: Loss 2.6655256748199463\n",
      "Epoch 910: Loss 2.376744508743286\n",
      "Epoch 920: Loss 2.831465244293213\n",
      "Epoch 930: Loss 2.706608772277832\n",
      "Epoch 940: Loss 2.428138256072998\n",
      "Epoch 950: Loss 2.6777119636535645\n",
      "Epoch 960: Loss 2.4590420722961426\n",
      "Epoch 970: Loss 2.882575750350952\n",
      "Epoch 980: Loss 2.5162179470062256\n",
      "Epoch 990: Loss 2.787240982055664\n"
     ]
    }
   ],
   "source": [
    "losses = []\n",
    "for epoch in tqdm(range(epochs)):    \n",
    "    for X, y in dataloader:\n",
    "        optimizer.zero_grad()\n",
    "        x0 = gaussian.sample((batch_size,)).to(device)\n",
    "        x1 = X.to(device)\n",
    "\n",
    "        t = torch.rand(x0.shape[0]).type_as(x0).to(device)\n",
    "\n",
    "        y = y * torch.pi / 180\n",
    "        sin = torch.sin(y).to(device)\n",
    "        cos = torch.cos(y).to(device)\n",
    "\n",
    "        xt = sample_conditional_pt(x0, x1, t, sigma=0.01)\n",
    "        ut = compute_conditional_vector_field(x0, x1)        \n",
    "\n",
    "        vt = flow(torch.cat([xt, t[:, None], sin[:, None], cos[:, None]], dim=-1))\n",
    "        loss = torch.mean((vt - ut) ** 2)\n",
    "\n",
    "        loss.backward()\n",
    "        optimizer.step()\n",
    "\n",
    "    if epoch % 10 == 0:\n",
    "        print(f\"Epoch {epoch}: Loss {loss.item()}\")\n",
    "        losses.append(loss.item())\n",
    "\n",
    "\n",
    "torch.save(flow.state_dict(), model_path)"
   ]
  },
  {
   "cell_type": "code",
   "execution_count": 17,
   "metadata": {},
   "outputs": [
    {
     "data": {
      "text/plain": [
       "[<matplotlib.lines.Line2D at 0x18e645b5c10>]"
      ]
     },
     "execution_count": 17,
     "metadata": {},
     "output_type": "execute_result"
    },
    {
     "data": {
      "image/png": "[encoded data removed]",
      "text/plain": [
       "<Figure size 640x480 with 1 Axes>"
      ]
     },
     "metadata": {},
     "output_type": "display_data"
    }
   ],
   "source": [
    "plt.plot(losses)"
   ]
  },
  {
   "cell_type": "markdown",
   "metadata": {},
   "source": [
    "## Conditional Generation"
   ]
  },
  {
   "cell_type": "code",
   "execution_count": 18,
   "metadata": {},
   "outputs": [],
   "source": [
    "def generate(model, angle, num_iter=100):\n",
    "    x = gaussian.sample((1,))\n",
    "    angle = torch.tensor([angle*torch.pi/180])\n",
    "    for i in np.linspace(0, 1, num_iter, endpoint=False):\n",
    "        t = torch.tensor([i], dtype=torch.float32)\n",
    "        sin = torch.sin(angle)\n",
    "        cos = torch.cos(angle)\n",
    "        path = model(torch.cat([x, t[:, None], sin[:, None], cos[:, None]], dim=-1))\n",
    "        x += (0.01 * path)\n",
    "    return x.detach()"
   ]
  },
  {
   "cell_type": "code",
   "execution_count": null,
   "metadata": {},
   "outputs": [
    {
     "data": {
      "application/vnd.jupyter.widget-view+json": {
       "model_id": "b7254d6a78b24f6da3f3931de94f73d7",
       "version_major": 2,
       "version_minor": 0
      },
      "text/plain": [
       "interactive(children=(IntSlider(value=180, description='angle', max=360), Output()), _dom_classes=('widget-int…"
      ]
     },
     "metadata": {},
     "output_type": "display_data"
    },
    {
     "data": {
      "text/plain": [
       "<function __main__.slider(angle)>"
      ]
     },
     "execution_count": 19,
     "metadata": {},
     "output_type": "execute_result"
    }
   ],
   "source": [
    "flow = Flow(1024)\n",
    "flow.load_state_dict(torch.load(model_path))\n",
    "flow.eval()\n",
    "\n",
    "def slider(angle):\n",
    "    x = generate(flow, angle, num_iter=100)[0]\n",
    "    X, y = get_moons_dataset()\n",
    "    X_rotated = rotate(X, angle)\n",
    "    plot_decision_boundary(x, X_rotated, y, title=f\"{angle}° degrees\")\n",
    "\n",
    "from ipywidgets import interact\n",
    "interact(slider, angle=(0, 360, 1))"
   ]
  },
  {
   "cell_type": "code",
   "execution_count": 20,
   "metadata": {},
   "outputs": [
    {
     "data": {
      "application/vnd.jupyter.widget-view+json": {
       "model_id": "2304ec560f134cf18144df607bbd52ee",
       "version_major": 2,
       "version_minor": 0
      },
      "text/plain": [
       "  0%|          | 0/3 [00:00<?, ?it/s]"
      ]
     },
     "metadata": {},
     "output_type": "display_data"
    },
    {
     "data": {
      "application/vnd.jupyter.widget-view+json": {
       "model_id": "db964c1e5aa64e409310a3cd623d26b1",
       "version_major": 2,
       "version_minor": 0
      },
      "text/plain": [
       "  0%|          | 0/1000 [00:00<?, ?it/s]"
      ]
     },
     "metadata": {},
     "output_type": "display_data"
    },
    {
     "name": "stderr",
     "output_type": "stream",
     "text": [
      "C:\\Users\\JetFire\\AppData\\Local\\Temp\\ipykernel_28892\\2039616010.py:13: UserWarning: To copy construct from a tensor, it is recommended to use sourceTensor.clone().detach() or sourceTensor.clone().detach().requires_grad_(True), rather than torch.tensor(sourceTensor).\n",
      "  x = torch.tensor(x, dtype=torch.float32)\n"
     ]
    },
    {
     "data": {
      "application/vnd.jupyter.widget-view+json": {
       "model_id": "1349c01b2cf94724a8162a962e0aaefe",
       "version_major": 2,
       "version_minor": 0
      },
      "text/plain": [
       "  0%|          | 0/1000 [00:00<?, ?it/s]"
      ]
     },
     "metadata": {},
     "output_type": "display_data"
    },
    {
     "data": {
      "application/vnd.jupyter.widget-view+json": {
       "model_id": "d5d010aae20c4c4daed5bcc0124d89c7",
       "version_major": 2,
       "version_minor": 0
      },
      "text/plain": [
       "  0%|          | 0/1000 [00:00<?, ?it/s]"
      ]
     },
     "metadata": {},
     "output_type": "display_data"
    },
    {
     "name": "stdout",
     "output_type": "stream",
     "text": [
      "Mean accuracy: 61.65926666666666\n"
     ]
    }
   ],
   "source": [
    "flow = Flow(1024)\n",
    "flow.load_state_dict(torch.load(model_path))\n",
    "flow.eval()\n",
    "flow.to(\"cpu\")\n",
    "\n",
    "accuracies = []\n",
    "angles = [225, 270, 315]\n",
    "\n",
    "with torch.no_grad():\n",
    "    for angle in tqdm(angles):\n",
    "        for i in tqdm(range(1000)):\n",
    "            x = generate(flow, angle)[0]\n",
    "            x = torch.tensor(x, dtype=torch.float32)\n",
    "\n",
    "            X, y = get_moons_dataset()\n",
    "            X_rotated = rotate(X, angle)\n",
    "            X_rotated = torch.tensor(X_rotated, dtype=torch.float32)\n",
    "\n",
    "            accuracy = get_accuracy(x, X_rotated, y)\n",
    "            accuracies.append(accuracy)\n",
    "    \n",
    "\n",
    "print(\"Mean accuracy:\", np.mean(accuracies))"
   ]
  },
  {
   "cell_type": "code",
   "execution_count": 21,
   "metadata": {},
   "outputs": [
    {
     "data": {
      "text/plain": [
       "<Axes: ylabel='Density'>"
      ]
     },
     "execution_count": 21,
     "metadata": {},
     "output_type": "execute_result"
    },
    {
     "data": {
      "image/png": "[encoded data removed]",
      "text/plain": [
       "<Figure size 640x480 with 1 Axes>"
      ]
     },
     "metadata": {},
     "output_type": "display_data"
    }
   ],
   "source": [
    "sns.kdeplot(accuracies, fill=True)"
   ]
  }
 ],
 "metadata": {
  "kernelspec": {
   "display_name": "venv",
   "language": "python",
   "name": "python3"
  },
  "language_info": {
   "codemirror_mode": {
    "name": "ipython",
    "version": 3
   },
   "file_extension": ".py",
   "mimetype": "text/x-python",
   "name": "python",
   "nbconvert_exporter": "python",
   "pygments_lexer": "ipython3",
   "version": "3.12.2"
  }
 },
 "nbformat": 4,
 "nbformat_minor": 2
}
