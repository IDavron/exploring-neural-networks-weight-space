{
 "cells": [
  {
   "cell_type": "code",
   "execution_count": 1,
   "metadata": {},
   "outputs": [],
   "source": [
    "import torch\n",
    "import torch.nn as nn\n",
    "\n",
    "from src.model.models import MLP, Flow, Diffusion\n",
    "from src.data.helpers import get_accuracy, get_moons_dataset, rotate, generate_flow, generate_diffusion, list_to_model\n",
    "\n",
    "import matplotlib.pyplot as plt\n",
    "from tqdm.notebook import tqdm\n",
    "import numpy as np"
   ]
  },
  {
   "cell_type": "markdown",
   "metadata": {},
   "source": [
    "## Transfer Learning"
   ]
  },
  {
   "cell_type": "code",
   "execution_count": 22,
   "metadata": {},
   "outputs": [
    {
     "data": {
      "application/vnd.jupyter.widget-view+json": {
       "model_id": "ca1c57270bfb43e2bb412116f78af14f",
       "version_major": 2,
       "version_minor": 0
      },
      "text/plain": [
       "  0%|          | 0/1000 [00:00<?, ?it/s]"
      ]
     },
     "metadata": {},
     "output_type": "display_data"
    }
   ],
   "source": [
    "device = torch.device(\"cuda:0\" if torch.cuda.is_available() else \"cpu\")\n",
    "\n",
    "# Hyperparameters\n",
    "epochs = 1000\n",
    "learning_rate = 0.05\n",
    "\n",
    "# Model config\n",
    "input_dim = 2\n",
    "hidden_dims = [8]\n",
    "output_dim = 1\n",
    "\n",
    "seed = 42\n",
    "\n",
    "# Dataset\n",
    "X,y = get_moons_dataset()\n",
    "criterion = nn.BCELoss()\n",
    "\n",
    "# Logging\n",
    "torch.manual_seed(seed)\n",
    "\n",
    "\n",
    "epochs_till_convergence_clean = []\n",
    "\n",
    "# Training loop\n",
    "for i in tqdm(range(1000)):\n",
    "    angle = torch.randint(0, 360, (1,)).item()\n",
    "    X_rotated = rotate(X, angle)\n",
    "    X_tensor = torch.tensor(X_rotated, dtype=torch.float32).to(device)\n",
    "    y_tensor = torch.tensor(y, dtype=torch.float32).to(device)\n",
    "\n",
    "    model = MLP(input_dim=input_dim, hidden_dims=hidden_dims, output_dim=output_dim)\n",
    "    model.to(device)\n",
    "    model.train()\n",
    "    optimizer = torch.optim.Adam(model.parameters(), lr=learning_rate)\n",
    "    for epoch in range(epochs):\n",
    "        optimizer.zero_grad()\n",
    "        y_pred = model(X_tensor).flatten()\n",
    "        loss = criterion(y_pred, y_tensor)\n",
    "        loss.backward()\n",
    "        optimizer.step()\n",
    "\n",
    "        # Eval loop\n",
    "        model.eval()\n",
    "        y_pred = model(X_tensor).flatten()\n",
    "        correct = (y_pred.round() == y_tensor).sum().item()\n",
    "        accuracy = correct / len(y)\n",
    "\n",
    "        if(accuracy >= 0.95):\n",
    "            epochs_till_convergence_clean.append(epoch)\n",
    "            break\n",
    "\n"
   ]
  },
  {
   "cell_type": "code",
   "execution_count": 23,
   "metadata": {},
   "outputs": [
    {
     "data": {
      "application/vnd.jupyter.widget-view+json": {
       "model_id": "57d2e52dc2034020b0937044ccbb5ce8",
       "version_major": 2,
       "version_minor": 0
      },
      "text/plain": [
       "  0%|          | 0/1000 [00:00<?, ?it/s]"
      ]
     },
     "metadata": {},
     "output_type": "display_data"
    },
    {
     "name": "stderr",
     "output_type": "stream",
     "text": [
      "C:\\Projects\\Python\\master-thesis\\src\\data\\helpers.py:66: UserWarning: To copy construct from a tensor, it is recommended to use sourceTensor.clone().detach() or sourceTensor.clone().detach().requires_grad_(True), rather than torch.tensor(sourceTensor).\n",
      "  param.data = torch.tensor(parameters_from_list, dtype=torch.float32).reshape(param.shape)\n"
     ]
    }
   ],
   "source": [
    "device = torch.device(\"cuda:0\" if torch.cuda.is_available() else \"cpu\")\n",
    "\n",
    "flow = Flow()\n",
    "flow.load_state_dict(torch.load(\"../models/generators/flow_matching/flow_conditional.pth\"))\n",
    "\n",
    "# Hyperparameters\n",
    "epochs = 1000\n",
    "learning_rate = 0.05\n",
    "\n",
    "# Model config\n",
    "input_dim = 2\n",
    "hidden_dims = [8]\n",
    "output_dim = 1\n",
    "\n",
    "seed = 42\n",
    "\n",
    "# Dataset\n",
    "X,y = get_moons_dataset()\n",
    "criterion = nn.BCELoss()\n",
    "\n",
    "# Logging\n",
    "torch.manual_seed(seed)\n",
    "\n",
    "\n",
    "epochs_till_convergence_flow = []\n",
    "\n",
    "# Training loop\n",
    "for i in tqdm(range(1000)):\n",
    "    angle = torch.randint(0, 360, (1,)).item()\n",
    "    X_rotated = rotate(X, angle)\n",
    "    X_tensor = torch.tensor(X_rotated, dtype=torch.float32).to(device)\n",
    "    y_tensor = torch.tensor(y, dtype=torch.float32).to(device)\n",
    "\n",
    "    model = MLP(input_dim=input_dim, hidden_dims=hidden_dims, output_dim=output_dim)\n",
    "    sample_parameters = generate_flow(flow, angle)\n",
    "    list_to_model(model, sample_parameters)\n",
    "    model.to(device)\n",
    "    model.train()\n",
    "    \n",
    "    optimizer = torch.optim.Adam(model.parameters(), lr=learning_rate)\n",
    "    for epoch in range(epochs):\n",
    "        optimizer.zero_grad()\n",
    "        y_pred = model(X_tensor).flatten()\n",
    "        loss = criterion(y_pred, y_tensor)\n",
    "        loss.backward()\n",
    "        optimizer.step()\n",
    "\n",
    "        # Eval loop\n",
    "        model.eval()\n",
    "        y_pred = model(X_tensor).flatten()\n",
    "        correct = (y_pred.round() == y_tensor).sum().item()\n",
    "        accuracy = correct / len(y)\n",
    "\n",
    "        if(accuracy >= 0.95):\n",
    "            epochs_till_convergence_flow.append(epoch)\n",
    "            break"
   ]
  },
  {
   "cell_type": "code",
   "execution_count": 24,
   "metadata": {},
   "outputs": [
    {
     "data": {
      "application/vnd.jupyter.widget-view+json": {
       "model_id": "772eac8ccafa4c699729ecc0ba366001",
       "version_major": 2,
       "version_minor": 0
      },
      "text/plain": [
       "  0%|          | 0/1000 [00:00<?, ?it/s]"
      ]
     },
     "metadata": {},
     "output_type": "display_data"
    }
   ],
   "source": [
    "device = torch.device(\"cuda:0\" if torch.cuda.is_available() else \"cpu\")\n",
    "\n",
    "diffusion = Diffusion()\n",
    "diffusion.load_state_dict(torch.load(\"../models/generators/diffusion/diffusion_conditional.pth\"))\n",
    "\n",
    "# Hyperparameters\n",
    "epochs = 1000\n",
    "learning_rate = 0.05\n",
    "\n",
    "# Model config\n",
    "input_dim = 2\n",
    "hidden_dims = [8]\n",
    "output_dim = 1\n",
    "\n",
    "seed = 42\n",
    "\n",
    "# Dataset\n",
    "X,y = get_moons_dataset()\n",
    "criterion = nn.BCELoss()\n",
    "\n",
    "# Logging\n",
    "torch.manual_seed(seed)\n",
    "\n",
    "\n",
    "epochs_till_convergence_diffusion = []\n",
    "\n",
    "# Training loop\n",
    "for i in tqdm(range(1000)):\n",
    "    angle = torch.randint(0, 360, (1,)).item()\n",
    "    X_rotated = rotate(X, angle)\n",
    "    X_tensor = torch.tensor(X_rotated, dtype=torch.float32).to(device)\n",
    "    y_tensor = torch.tensor(y, dtype=torch.float32).to(device)\n",
    "\n",
    "    model = MLP(input_dim=input_dim, hidden_dims=hidden_dims, output_dim=output_dim)\n",
    "    sample_parameters = generate_diffusion(diffusion, angle)\n",
    "    list_to_model(model, sample_parameters)\n",
    "    model.to(device)\n",
    "    model.train()\n",
    "    \n",
    "    optimizer = torch.optim.Adam(model.parameters(), lr=learning_rate)\n",
    "    for epoch in range(epochs):\n",
    "        optimizer.zero_grad()\n",
    "        y_pred = model(X_tensor).flatten()\n",
    "        loss = criterion(y_pred, y_tensor)\n",
    "        loss.backward()\n",
    "        optimizer.step()\n",
    "\n",
    "        # Eval loop\n",
    "        model.eval()\n",
    "        y_pred = model(X_tensor).flatten()\n",
    "        correct = (y_pred.round() == y_tensor).sum().item()\n",
    "        accuracy = correct / len(y)\n",
    "\n",
    "        if(accuracy >= 0.95):\n",
    "            epochs_till_convergence_diffusion.append(epoch)\n",
    "            break"
   ]
  },
  {
   "cell_type": "code",
   "execution_count": 28,
   "metadata": {},
   "outputs": [
    {
     "name": "stdout",
     "output_type": "stream",
     "text": [
      "Average epochs for clean: 73.16203703703704\n",
      "Average epochs for flow: 2.5195195195195197\n",
      "Average epochs for diffusion: 0.818\n"
     ]
    }
   ],
   "source": [
    "print(f\"Average epochs for clean: {np.mean(epochs_till_convergence_clean)}\")\n",
    "print(f\"Average epochs for flow: {np.mean(epochs_till_convergence_flow)}\")\n",
    "print(f\"Average epochs for diffusion: {np.mean(epochs_till_convergence_diffusion)}\")"
   ]
  },
  {
   "cell_type": "markdown",
   "metadata": {},
   "source": [
    "## Flow matching trained with different samples per angle"
   ]
  },
  {
   "cell_type": "code",
   "execution_count": 2,
   "metadata": {},
   "outputs": [
    {
     "data": {
      "application/vnd.jupyter.widget-view+json": {
       "model_id": "f9bd0ca61c394aff91417d14876524c8",
       "version_major": 2,
       "version_minor": 0
      },
      "text/plain": [
       "  0%|          | 0/100 [00:00<?, ?it/s]"
      ]
     },
     "metadata": {},
     "output_type": "display_data"
    }
   ],
   "source": [
    "device = torch.device(\"cuda:0\" if torch.cuda.is_available() else \"cpu\")\n",
    "\n",
    "# Hyperparameters\n",
    "epochs = 1000\n",
    "learning_rate = 0.05\n",
    "\n",
    "# Model config\n",
    "input_dim = 2\n",
    "hidden_dims = [8]\n",
    "output_dim = 1\n",
    "\n",
    "seed = 42\n",
    "\n",
    "# Dataset\n",
    "X,y = get_moons_dataset()\n",
    "criterion = nn.BCELoss()\n",
    "\n",
    "# Logging\n",
    "torch.manual_seed(seed)\n",
    "\n",
    "\n",
    "epochs_till_convergence_clean = []\n",
    "\n",
    "# Training loop\n",
    "for i in tqdm(range(100)):\n",
    "    angle = torch.randint(0, 360, (1,)).item()\n",
    "    X_rotated = rotate(X, angle)\n",
    "    X_tensor = torch.tensor(X_rotated, dtype=torch.float32).to(device)\n",
    "    y_tensor = torch.tensor(y, dtype=torch.float32).to(device)\n",
    "\n",
    "    model = MLP(input_dim=input_dim, hidden_dims=hidden_dims, output_dim=output_dim)\n",
    "    model.to(device)\n",
    "    model.train()\n",
    "    optimizer = torch.optim.Adam(model.parameters(), lr=learning_rate)\n",
    "    for epoch in range(epochs):\n",
    "        optimizer.zero_grad()\n",
    "        y_pred = model(X_tensor).flatten()\n",
    "        loss = criterion(y_pred, y_tensor)\n",
    "        loss.backward()\n",
    "        optimizer.step()\n",
    "\n",
    "        # Eval loop\n",
    "        model.eval()\n",
    "        y_pred = model(X_tensor).flatten()\n",
    "        correct = (y_pred.round() == y_tensor).sum().item()\n",
    "        accuracy = correct / len(y)\n",
    "\n",
    "        if(accuracy >= 0.95):\n",
    "            epochs_till_convergence_clean.append(epoch)\n",
    "            break"
   ]
  },
  {
   "cell_type": "code",
   "execution_count": 3,
   "metadata": {},
   "outputs": [
    {
     "data": {
      "application/vnd.jupyter.widget-view+json": {
       "model_id": "9f514bdfe38e47869f468938ea118422",
       "version_major": 2,
       "version_minor": 0
      },
      "text/plain": [
       "  0%|          | 0/100 [00:00<?, ?it/s]"
      ]
     },
     "metadata": {},
     "output_type": "display_data"
    },
    {
     "name": "stderr",
     "output_type": "stream",
     "text": [
      "C:\\Projects\\Python\\master-thesis\\src\\data\\helpers.py:66: UserWarning: To copy construct from a tensor, it is recommended to use sourceTensor.clone().detach() or sourceTensor.clone().detach().requires_grad_(True), rather than torch.tensor(sourceTensor).\n",
      "  param.data = torch.tensor(parameters_from_list, dtype=torch.float32).reshape(param.shape)\n"
     ]
    }
   ],
   "source": [
    "device = torch.device(\"cuda:0\" if torch.cuda.is_available() else \"cpu\")\n",
    "\n",
    "flow = Flow()\n",
    "flow.load_state_dict(torch.load(\"../models/generators/flow_matching/flow_conditional_10spa.pth\"))\n",
    "\n",
    "# Hyperparameters\n",
    "epochs = 1000\n",
    "learning_rate = 0.05\n",
    "\n",
    "# Model config\n",
    "input_dim = 2\n",
    "hidden_dims = [8]\n",
    "output_dim = 1\n",
    "\n",
    "seed = 42\n",
    "\n",
    "# Dataset\n",
    "X,y = get_moons_dataset()\n",
    "criterion = nn.BCELoss()\n",
    "\n",
    "# Logging\n",
    "torch.manual_seed(seed)\n",
    "\n",
    "\n",
    "epochs_till_convergence_10spa = []\n",
    "\n",
    "# Training loop\n",
    "for i in tqdm(range(100)):\n",
    "    angle = torch.randint(0, 360, (1,)).item()\n",
    "    X_rotated = rotate(X, angle)\n",
    "    X_tensor = torch.tensor(X_rotated, dtype=torch.float32).to(device)\n",
    "    y_tensor = torch.tensor(y, dtype=torch.float32).to(device)\n",
    "\n",
    "    model = MLP(input_dim=input_dim, hidden_dims=hidden_dims, output_dim=output_dim)\n",
    "    sample_parameters = generate_flow(flow, angle)\n",
    "    list_to_model(model, sample_parameters)\n",
    "    model.to(device)\n",
    "    model.train()\n",
    "    \n",
    "    optimizer = torch.optim.Adam(model.parameters(), lr=learning_rate)\n",
    "    for epoch in range(epochs):\n",
    "        optimizer.zero_grad()\n",
    "        y_pred = model(X_tensor).flatten()\n",
    "        loss = criterion(y_pred, y_tensor)\n",
    "        loss.backward()\n",
    "        optimizer.step()\n",
    "\n",
    "        # Eval loop\n",
    "        model.eval()\n",
    "        y_pred = model(X_tensor).flatten()\n",
    "        correct = (y_pred.round() == y_tensor).sum().item()\n",
    "        accuracy = correct / len(y)\n",
    "\n",
    "        if(accuracy >= 0.95):\n",
    "            epochs_till_convergence_10spa.append(epoch)\n",
    "            break"
   ]
  },
  {
   "cell_type": "code",
   "execution_count": 4,
   "metadata": {},
   "outputs": [
    {
     "data": {
      "application/vnd.jupyter.widget-view+json": {
       "model_id": "f3e60b893f4b46858362ac3d057e9111",
       "version_major": 2,
       "version_minor": 0
      },
      "text/plain": [
       "  0%|          | 0/100 [00:00<?, ?it/s]"
      ]
     },
     "metadata": {},
     "output_type": "display_data"
    }
   ],
   "source": [
    "device = torch.device(\"cuda:0\" if torch.cuda.is_available() else \"cpu\")\n",
    "\n",
    "flow = Flow()\n",
    "flow.load_state_dict(torch.load(\"../models/generators/flow_matching/flow_conditional_100spa.pth\"))\n",
    "\n",
    "# Hyperparameters\n",
    "epochs = 1000\n",
    "learning_rate = 0.05\n",
    "\n",
    "# Model config\n",
    "input_dim = 2\n",
    "hidden_dims = [8]\n",
    "output_dim = 1\n",
    "\n",
    "seed = 42\n",
    "\n",
    "# Dataset\n",
    "X,y = get_moons_dataset()\n",
    "criterion = nn.BCELoss()\n",
    "\n",
    "# Logging\n",
    "torch.manual_seed(seed)\n",
    "\n",
    "\n",
    "epochs_till_convergence_100spa = []\n",
    "\n",
    "# Training loop\n",
    "for i in tqdm(range(100)):\n",
    "    angle = torch.randint(0, 360, (1,)).item()\n",
    "    X_rotated = rotate(X, angle)\n",
    "    X_tensor = torch.tensor(X_rotated, dtype=torch.float32).to(device)\n",
    "    y_tensor = torch.tensor(y, dtype=torch.float32).to(device)\n",
    "\n",
    "    model = MLP(input_dim=input_dim, hidden_dims=hidden_dims, output_dim=output_dim)\n",
    "    sample_parameters = generate_flow(flow, angle)\n",
    "    list_to_model(model, sample_parameters)\n",
    "    model.to(device)\n",
    "    model.train()\n",
    "    \n",
    "    optimizer = torch.optim.Adam(model.parameters(), lr=learning_rate)\n",
    "    for epoch in range(epochs):\n",
    "        optimizer.zero_grad()\n",
    "        y_pred = model(X_tensor).flatten()\n",
    "        loss = criterion(y_pred, y_tensor)\n",
    "        loss.backward()\n",
    "        optimizer.step()\n",
    "\n",
    "        # Eval loop\n",
    "        model.eval()\n",
    "        y_pred = model(X_tensor).flatten()\n",
    "        correct = (y_pred.round() == y_tensor).sum().item()\n",
    "        accuracy = correct / len(y)\n",
    "\n",
    "        if(accuracy >= 0.95):\n",
    "            epochs_till_convergence_100spa.append(epoch)\n",
    "            break"
   ]
  },
  {
   "cell_type": "code",
   "execution_count": 5,
   "metadata": {},
   "outputs": [
    {
     "data": {
      "application/vnd.jupyter.widget-view+json": {
       "model_id": "5a5f55f41a174b1ebc4e6710086a883c",
       "version_major": 2,
       "version_minor": 0
      },
      "text/plain": [
       "  0%|          | 0/100 [00:00<?, ?it/s]"
      ]
     },
     "metadata": {},
     "output_type": "display_data"
    }
   ],
   "source": [
    "device = torch.device(\"cuda:0\" if torch.cuda.is_available() else \"cpu\")\n",
    "\n",
    "flow = Flow()\n",
    "flow.load_state_dict(torch.load(\"../models/generators/flow_matching/flow_conditional_1000spa.pth\"))\n",
    "\n",
    "# Hyperparameters\n",
    "epochs = 1000\n",
    "learning_rate = 0.05\n",
    "\n",
    "# Model config\n",
    "input_dim = 2\n",
    "hidden_dims = [8]\n",
    "output_dim = 1\n",
    "\n",
    "seed = 42\n",
    "\n",
    "# Dataset\n",
    "X,y = get_moons_dataset()\n",
    "criterion = nn.BCELoss()\n",
    "\n",
    "# Logging\n",
    "torch.manual_seed(seed)\n",
    "\n",
    "\n",
    "epochs_till_convergence_1000spa = []\n",
    "\n",
    "# Training loop\n",
    "for i in tqdm(range(100)):\n",
    "    angle = torch.randint(0, 360, (1,)).item()\n",
    "    X_rotated = rotate(X, angle)\n",
    "    X_tensor = torch.tensor(X_rotated, dtype=torch.float32).to(device)\n",
    "    y_tensor = torch.tensor(y, dtype=torch.float32).to(device)\n",
    "\n",
    "    model = MLP(input_dim=input_dim, hidden_dims=hidden_dims, output_dim=output_dim)\n",
    "    sample_parameters = generate_flow(flow, angle)\n",
    "    list_to_model(model, sample_parameters)\n",
    "    model.to(device)\n",
    "    model.train()\n",
    "    \n",
    "    optimizer = torch.optim.Adam(model.parameters(), lr=learning_rate)\n",
    "    for epoch in range(epochs):\n",
    "        optimizer.zero_grad()\n",
    "        y_pred = model(X_tensor).flatten()\n",
    "        loss = criterion(y_pred, y_tensor)\n",
    "        loss.backward()\n",
    "        optimizer.step()\n",
    "\n",
    "        # Eval loop\n",
    "        model.eval()\n",
    "        y_pred = model(X_tensor).flatten()\n",
    "        correct = (y_pred.round() == y_tensor).sum().item()\n",
    "        accuracy = correct / len(y)\n",
    "\n",
    "        if(accuracy >= 0.95):\n",
    "            epochs_till_convergence_1000spa.append(epoch)\n",
    "            break"
   ]
  },
  {
   "cell_type": "code",
   "execution_count": 6,
   "metadata": {},
   "outputs": [
    {
     "data": {
      "text/plain": [
       "<BarContainer object of 4 artists>"
      ]
     },
     "execution_count": 6,
     "metadata": {},
     "output_type": "execute_result"
    },
    {
     "data": {
      "image/png": "[encoded data removed]",
      "text/plain": [
       "<Figure size 640x480 with 1 Axes>"
      ]
     },
     "metadata": {},
     "output_type": "display_data"
    }
   ],
   "source": [
    "plt.bar([\"Clean\", \"10 SPA\", \"100 SPA\", \"1000 SPA\"], [np.mean(epochs_till_convergence_clean), np.mean(epochs_till_convergence_10spa), np.mean(epochs_till_convergence_100spa), np.mean(epochs_till_convergence_1000spa)])"
   ]
  }
 ],
 "metadata": {
  "kernelspec": {
   "display_name": "venv",
   "language": "python",
   "name": "python3"
  },
  "language_info": {
   "codemirror_mode": {
    "name": "ipython",
    "version": 3
   },
   "file_extension": ".py",
   "mimetype": "text/x-python",
   "name": "python",
   "nbconvert_exporter": "python",
   "pygments_lexer": "ipython3",
   "version": "3.12.2"
  }
 },
 "nbformat": 4,
 "nbformat_minor": 2
}
