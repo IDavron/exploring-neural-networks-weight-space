{
 "cells": [
  {
   "cell_type": "code",
   "execution_count": 2,
   "metadata": {},
   "outputs": [],
   "source": [
    "import torch\n",
    "import torch.nn as nn\n",
    "import torch.optim as optim\n",
    "\n",
    "from tqdm.notebook import tqdm\n",
    "import matplotlib.pyplot as plt\n",
    "import seaborn as sns\n",
    "\n",
    "from src.data.datasets import ModelParamsDataset\n",
    "from src.data.helpers import get_moons_dataset, rotate, get_accuracy\n",
    "from src.visualization.visualize import plot_decision_boundary"
   ]
  },
  {
   "cell_type": "markdown",
   "metadata": {},
   "source": [
    "## Custom implementation"
   ]
  },
  {
   "cell_type": "code",
   "execution_count": 3,
   "metadata": {},
   "outputs": [],
   "source": [
    "class DiffusionModel(nn.Module):\n",
    "    def __init__(self):\n",
    "        super(DiffusionModel, self).__init__()\n",
    "        self.layers = nn.Sequential(\n",
    "            nn.Linear(36, 1024),\n",
    "            nn.ReLU(),\n",
    "            nn.Linear(1024, 1024),\n",
    "            nn.ReLU(),\n",
    "            nn.Linear(1024, 1024),\n",
    "            nn.ReLU(),\n",
    "            nn.Linear(1024, 1024),\n",
    "            nn.ReLU(),\n",
    "            nn.Linear(1024, 33),\n",
    "        )\n",
    "        \n",
    "    def forward(self, x, t, angle):\n",
    "        x = torch.cat([x, t, angle], dim=1)\n",
    "        out = self.layers(x)\n",
    "        return out\n",
    "    \n",
    "def linear_beta_schedule(timesteps):\n",
    "    return torch.linspace(1e-4, 0.02, timesteps)\n",
    "\n",
    "def forward_diffusion(x0, t, betas):\n",
    "    alpha = 1 - betas\n",
    "    alpha_bar = torch.cumprod(alpha, dim=0)\n",
    "    \n",
    "    # Select alpha_bar[t] for each element in the batch\n",
    "    alpha_bar_t = alpha_bar[t]\n",
    "\n",
    "    # Generate random Gaussian noise\n",
    "    noise = torch.randn_like(x0)\n",
    "\n",
    "    # Apply the forward process: x_t = sqrt(alpha_bar_t) * x0 + sqrt(1 - alpha_bar_t) * noise\n",
    "    x_t = torch.sqrt(alpha_bar_t) * x0 + torch.sqrt(1 - alpha_bar_t) * noise\n",
    "    return x_t, noise\n",
    "\n",
    "def diffusion_loss(noise, noise_pred):\n",
    "    return ((noise - noise_pred) ** 2).mean()"
   ]
  },
  {
   "cell_type": "code",
   "execution_count": 4,
   "metadata": {},
   "outputs": [],
   "source": [
    "device = torch.device(\"cuda\" if torch.cuda.is_available() else \"cpu\")\n",
    "\n",
    "# Hyperparameters\n",
    "lr = 1e-3\n",
    "epochs = 1000\n",
    "num_timesteps = 1000\n",
    "batch_size = 64\n",
    "\n",
    "# Model\n",
    "diffusion_model = DiffusionModel()\n",
    "diffusion_model.to(device)\n",
    "optimizer = optim.Adam(diffusion_model.parameters(), lr=lr)\n",
    "\n",
    "# Dataset\n",
    "dataset = ModelParamsDataset(\"../data/eight_angles_small.csv\")\n",
    "data_loader = torch.utils.data.DataLoader(dataset, batch_size=batch_size, shuffle=True)\n",
    "\n",
    "path = \"../models/generators/diffusion/\"\n",
    "model_path = path + \"diffusion_conditional.pth\"\n"
   ]
  },
  {
   "cell_type": "code",
   "execution_count": null,
   "metadata": {},
   "outputs": [
    {
     "data": {
      "application/vnd.jupyter.widget-view+json": {
       "model_id": "b4f2d3c7dc61410c8cd60e87ae9ad2c3",
       "version_major": 2,
       "version_minor": 0
      },
      "text/plain": [
       "  0%|          | 0/1000 [00:00<?, ?it/s]"
      ]
     },
     "metadata": {},
     "output_type": "display_data"
    },
    {
     "name": "stdout",
     "output_type": "stream",
     "text": [
      "Epoch 0: Loss 1.0274263620376587\n",
      "Epoch 5: Loss 0.9878096580505371\n",
      "Epoch 10: Loss 0.9928209781646729\n",
      "Epoch 15: Loss 0.7326615452766418\n",
      "Epoch 20: Loss 0.6897904276847839\n",
      "Epoch 25: Loss 0.6834210157394409\n",
      "Epoch 30: Loss 0.6804494261741638\n",
      "Epoch 35: Loss 0.6063604354858398\n",
      "Epoch 40: Loss 0.5970298647880554\n",
      "Epoch 45: Loss 0.59478759765625\n",
      "Epoch 50: Loss 0.514032781124115\n",
      "Epoch 55: Loss 0.5285487771034241\n",
      "Epoch 60: Loss 0.5180857181549072\n",
      "Epoch 65: Loss 0.5424354076385498\n",
      "Epoch 70: Loss 0.44863009452819824\n",
      "Epoch 75: Loss 0.43661609292030334\n",
      "Epoch 80: Loss 0.5535869598388672\n",
      "Epoch 85: Loss 0.5250987410545349\n",
      "Epoch 90: Loss 0.46243828535079956\n",
      "Epoch 95: Loss 0.462398499250412\n",
      "Epoch 100: Loss 0.3994157314300537\n",
      "Epoch 105: Loss 0.4160328209400177\n",
      "Epoch 110: Loss 0.4587927460670471\n",
      "Epoch 115: Loss 0.45938169956207275\n",
      "Epoch 120: Loss 0.3138546943664551\n",
      "Epoch 125: Loss 0.4731296896934509\n",
      "Epoch 130: Loss 0.4385688900947571\n",
      "Epoch 135: Loss 0.4522135853767395\n",
      "Epoch 140: Loss 0.40805208683013916\n",
      "Epoch 145: Loss 0.4638189971446991\n",
      "Epoch 150: Loss 0.41116422414779663\n",
      "Epoch 155: Loss 0.4063173532485962\n",
      "Epoch 160: Loss 0.452516108751297\n",
      "Epoch 165: Loss 0.41836291551589966\n",
      "Epoch 170: Loss 0.38413193821907043\n",
      "Epoch 175: Loss 0.5169034004211426\n",
      "Epoch 180: Loss 0.4437527358531952\n",
      "Epoch 185: Loss 0.4303520619869232\n",
      "Epoch 190: Loss 0.4207945466041565\n",
      "Epoch 195: Loss 0.43556708097457886\n",
      "Epoch 200: Loss 0.3852781355381012\n",
      "Epoch 205: Loss 0.44008615612983704\n",
      "Epoch 210: Loss 0.42213505506515503\n",
      "Epoch 215: Loss 0.4129941165447235\n",
      "Epoch 220: Loss 0.38222289085388184\n",
      "Epoch 225: Loss 0.3609381318092346\n",
      "Epoch 230: Loss 0.39292630553245544\n",
      "Epoch 235: Loss 0.3510790169239044\n",
      "Epoch 240: Loss 0.42402753233909607\n",
      "Epoch 245: Loss 0.43017464876174927\n",
      "Epoch 250: Loss 0.43789514899253845\n",
      "Epoch 255: Loss 0.3467237651348114\n",
      "Epoch 260: Loss 0.39337316155433655\n",
      "Epoch 265: Loss 0.34915441274642944\n",
      "Epoch 270: Loss 0.40625253319740295\n",
      "Epoch 275: Loss 0.37822604179382324\n",
      "Epoch 280: Loss 0.44645413756370544\n",
      "Epoch 285: Loss 0.3537954092025757\n",
      "Epoch 290: Loss 0.3796084225177765\n",
      "Epoch 295: Loss 0.3748260736465454\n",
      "Epoch 300: Loss 0.48113885521888733\n",
      "Epoch 305: Loss 0.3770607113838196\n",
      "Epoch 310: Loss 0.4552190899848938\n",
      "Epoch 315: Loss 0.3263695538043976\n",
      "Epoch 320: Loss 0.42294204235076904\n",
      "Epoch 325: Loss 0.41685575246810913\n",
      "Epoch 330: Loss 0.3893055021762848\n",
      "Epoch 335: Loss 0.42400234937667847\n",
      "Epoch 340: Loss 0.43722113966941833\n",
      "Epoch 345: Loss 0.4164729416370392\n",
      "Epoch 350: Loss 0.40353459119796753\n",
      "Epoch 355: Loss 0.4478813111782074\n",
      "Epoch 360: Loss 0.482143372297287\n",
      "Epoch 365: Loss 0.41679349541664124\n",
      "Epoch 370: Loss 0.36677005887031555\n",
      "Epoch 375: Loss 0.4334423243999481\n",
      "Epoch 380: Loss 0.44201985001564026\n",
      "Epoch 385: Loss 0.304186075925827\n",
      "Epoch 390: Loss 0.3367527425289154\n",
      "Epoch 395: Loss 0.3475515842437744\n",
      "Epoch 400: Loss 0.4076584577560425\n",
      "Epoch 405: Loss 0.5038251876831055\n",
      "Epoch 410: Loss 0.31068652868270874\n",
      "Epoch 415: Loss 0.36558884382247925\n",
      "Epoch 420: Loss 0.37637409567832947\n",
      "Epoch 425: Loss 0.40002551674842834\n",
      "Epoch 430: Loss 0.3968258500099182\n",
      "Epoch 435: Loss 0.3563874065876007\n",
      "Epoch 440: Loss 0.32449766993522644\n",
      "Epoch 445: Loss 0.40603360533714294\n",
      "Epoch 450: Loss 0.40322044491767883\n",
      "Epoch 455: Loss 0.39664050936698914\n",
      "Epoch 460: Loss 0.336397647857666\n",
      "Epoch 465: Loss 0.29122039675712585\n",
      "Epoch 470: Loss 0.4287662208080292\n",
      "Epoch 475: Loss 0.42532920837402344\n",
      "Epoch 480: Loss 0.358915239572525\n",
      "Epoch 485: Loss 0.4279128909111023\n",
      "Epoch 490: Loss 0.3625224828720093\n",
      "Epoch 495: Loss 0.3470648229122162\n",
      "Epoch 500: Loss 0.3977775275707245\n",
      "Epoch 505: Loss 0.37690064311027527\n",
      "Epoch 510: Loss 0.41210660338401794\n",
      "Epoch 515: Loss 0.40001997351646423\n",
      "Epoch 520: Loss 0.3442479968070984\n",
      "Epoch 525: Loss 0.35368508100509644\n",
      "Epoch 530: Loss 0.42030301690101624\n",
      "Epoch 535: Loss 0.4196333885192871\n",
      "Epoch 540: Loss 0.3866861164569855\n",
      "Epoch 545: Loss 0.3989098072052002\n",
      "Epoch 550: Loss 0.3835308253765106\n",
      "Epoch 555: Loss 0.33276984095573425\n",
      "Epoch 560: Loss 0.35168373584747314\n",
      "Epoch 565: Loss 0.38139089941978455\n",
      "Epoch 570: Loss 0.3421664834022522\n",
      "Epoch 575: Loss 0.3980923295021057\n",
      "Epoch 580: Loss 0.45596179366111755\n",
      "Epoch 585: Loss 0.4396009147167206\n",
      "Epoch 590: Loss 0.33710065484046936\n",
      "Epoch 595: Loss 0.45557260513305664\n",
      "Epoch 600: Loss 0.40615808963775635\n",
      "Epoch 605: Loss 0.4011697769165039\n",
      "Epoch 610: Loss 0.3798747956752777\n",
      "Epoch 615: Loss 0.44082099199295044\n",
      "Epoch 620: Loss 0.3581501245498657\n",
      "Epoch 625: Loss 0.45309266448020935\n",
      "Epoch 630: Loss 0.43247148394584656\n",
      "Epoch 635: Loss 0.29151642322540283\n",
      "Epoch 640: Loss 0.3418719172477722\n",
      "Epoch 645: Loss 0.3650285005569458\n",
      "Epoch 650: Loss 0.3861998915672302\n",
      "Epoch 655: Loss 0.3123493194580078\n",
      "Epoch 660: Loss 0.4232703745365143\n",
      "Epoch 665: Loss 0.33352845907211304\n",
      "Epoch 670: Loss 0.39390575885772705\n",
      "Epoch 675: Loss 0.42474737763404846\n",
      "Epoch 680: Loss 0.4015433192253113\n",
      "Epoch 685: Loss 0.36141130328178406\n",
      "Epoch 690: Loss 0.31758806109428406\n",
      "Epoch 695: Loss 0.3348653018474579\n",
      "Epoch 700: Loss 0.32288050651550293\n",
      "Epoch 705: Loss 0.43713143467903137\n",
      "Epoch 710: Loss 0.3248772919178009\n",
      "Epoch 715: Loss 0.290544331073761\n",
      "Epoch 720: Loss 0.3764954209327698\n",
      "Epoch 725: Loss 0.40953344106674194\n",
      "Epoch 730: Loss 0.43891990184783936\n",
      "Epoch 735: Loss 0.32654422521591187\n",
      "Epoch 740: Loss 0.3513733744621277\n",
      "Epoch 745: Loss 0.38062605261802673\n",
      "Epoch 750: Loss 0.3561287522315979\n",
      "Epoch 755: Loss 0.35256072878837585\n",
      "Epoch 760: Loss 0.37243354320526123\n",
      "Epoch 765: Loss 0.31352078914642334\n",
      "Epoch 770: Loss 0.3755475878715515\n",
      "Epoch 775: Loss 0.2925790548324585\n",
      "Epoch 780: Loss 0.3922032415866852\n",
      "Epoch 785: Loss 0.29249897599220276\n",
      "Epoch 790: Loss 0.4041089713573456\n",
      "Epoch 795: Loss 0.34986361861228943\n",
      "Epoch 800: Loss 0.34409189224243164\n",
      "Epoch 805: Loss 0.34295937418937683\n",
      "Epoch 810: Loss 0.37418386340141296\n",
      "Epoch 815: Loss 0.3895445168018341\n",
      "Epoch 820: Loss 0.34484434127807617\n",
      "Epoch 825: Loss 0.3863074481487274\n",
      "Epoch 830: Loss 0.33780190348625183\n",
      "Epoch 835: Loss 0.3517712354660034\n",
      "Epoch 840: Loss 0.31977173686027527\n",
      "Epoch 845: Loss 0.4806045889854431\n",
      "Epoch 850: Loss 0.4448195993900299\n",
      "Epoch 855: Loss 0.33309829235076904\n",
      "Epoch 860: Loss 0.37604981660842896\n",
      "Epoch 865: Loss 0.3264806568622589\n",
      "Epoch 870: Loss 0.3003222644329071\n",
      "Epoch 875: Loss 0.38589200377464294\n",
      "Epoch 880: Loss 0.3135448098182678\n",
      "Epoch 885: Loss 0.3792167603969574\n",
      "Epoch 890: Loss 0.41098180413246155\n",
      "Epoch 895: Loss 0.2759302854537964\n",
      "Epoch 900: Loss 0.32567277550697327\n",
      "Epoch 905: Loss 0.3262709975242615\n",
      "Epoch 910: Loss 0.3198038339614868\n",
      "Epoch 915: Loss 0.44107481837272644\n",
      "Epoch 920: Loss 0.4467586576938629\n",
      "Epoch 925: Loss 0.3766331672668457\n",
      "Epoch 930: Loss 0.3712608516216278\n",
      "Epoch 935: Loss 0.34655144810676575\n",
      "Epoch 940: Loss 0.37529414892196655\n",
      "Epoch 945: Loss 0.31577426195144653\n",
      "Epoch 950: Loss 0.3796905279159546\n",
      "Epoch 955: Loss 0.3778550326824188\n",
      "Epoch 960: Loss 0.36641839146614075\n",
      "Epoch 965: Loss 0.36783045530319214\n",
      "Epoch 970: Loss 0.35771775245666504\n",
      "Epoch 975: Loss 0.3548683524131775\n",
      "Epoch 980: Loss 0.378563791513443\n",
      "Epoch 985: Loss 0.36836183071136475\n",
      "Epoch 990: Loss 0.3472055196762085\n",
      "Epoch 995: Loss 0.42515692114830017\n"
     ]
    }
   ],
   "source": [
    "# Train loop\n",
    "betas = linear_beta_schedule(num_timesteps).to(device)\n",
    "losses = []\n",
    "\n",
    "for epoch in tqdm(range(epochs)):\n",
    "    for x_0, y in data_loader:\n",
    "        x_0 = x_0.to(device)\n",
    "\n",
    "        # Angle encoding\n",
    "        y = y * torch.pi / 180\n",
    "        sin = torch.sin(y)\n",
    "        cos = torch.cos(y)\n",
    "        angle = torch.cat([sin[:, None], cos[:, None]], dim=1).to(device)\n",
    "\n",
    "        # Random timesteps\n",
    "        t = torch.randint(0, num_timesteps, (batch_size, 1)).to(device)\n",
    "\n",
    "        x_t, noise = forward_diffusion(x_0, t, betas)\n",
    "        noise_pred = diffusion_model(x_t, t, angle)\n",
    "\n",
    "        loss = diffusion_loss(noise, noise_pred)\n",
    "\n",
    "        optimizer.zero_grad()\n",
    "        loss.backward()\n",
    "        optimizer.step()\n",
    "\n",
    "    if epoch % 5 == 0:\n",
    "        print(f\"Epoch {epoch}: Loss {loss.item()}\")\n",
    "        losses.append(loss.item())\n",
    "\n",
    "\n",
    "torch.save(diffusion_model.state_dict(), model_path)"
   ]
  },
  {
   "cell_type": "code",
   "execution_count": null,
   "metadata": {},
   "outputs": [
    {
     "data": {
      "text/plain": [
       "[<matplotlib.lines.Line2D at 0x24952d4ee70>]"
      ]
     },
     "execution_count": 265,
     "metadata": {},
     "output_type": "execute_result"
    },
    {
     "data": {
      "image/png": "[encoded data removed]",
      "text/plain": [
       "<Figure size 640x480 with 1 Axes>"
      ]
     },
     "metadata": {},
     "output_type": "display_data"
    }
   ],
   "source": [
    "plt.plot(losses)"
   ]
  },
  {
   "cell_type": "code",
   "execution_count": null,
   "metadata": {},
   "outputs": [],
   "source": [
    "def generate(model, angle, num_timesteps):\n",
    "    x_t = torch.randn(1, 33)\n",
    "    angle = torch.tensor([angle * torch.pi / 180])\n",
    "    sin = torch.sin(angle)\n",
    "    cos = torch.cos(angle)\n",
    "    angle = torch.cat([sin[None, :], cos[None, :]], dim=1)\n",
    "\n",
    "    betas = linear_beta_schedule(num_timesteps)\n",
    "    for t in reversed(range(num_timesteps)):\n",
    "        t = torch.tensor([t])\n",
    "        noise_pred = model(x_t, t[:, None], angle)\n",
    "        beta_t = betas[t]\n",
    "        alpha_t = 1 - beta_t\n",
    "\n",
    "        x_t = (x_t - betas[t] * noise_pred) / alpha_t\n",
    "\n",
    "        if t > 0:\n",
    "            x_t += torch.sqrt(beta_t) * torch.randn_like(x_t)\n",
    "    \n",
    "    return x_t"
   ]
  },
  {
   "cell_type": "code",
   "execution_count": null,
   "metadata": {},
   "outputs": [
    {
     "data": {
      "image/png": "[encoded data removed]",
      "text/plain": [
       "<Figure size 640x480 with 1 Axes>"
      ]
     },
     "metadata": {},
     "output_type": "display_data"
    }
   ],
   "source": [
    "diffusion_model = DiffusionModel()\n",
    "diffusion_model.load_state_dict(torch.load(model_path))\n",
    "diffusion_model.eval()\n",
    "\n",
    "angle = 45\n",
    "x = generate(diffusion_model, angle, 1000)[0]\n",
    "X, y = get_moons_dataset()\n",
    "plot_decision_boundary(x, X, y)"
   ]
  },
  {
   "cell_type": "markdown",
   "metadata": {},
   "source": [
    "## Tiny diffusion"
   ]
  },
  {
   "cell_type": "code",
   "execution_count": 7,
   "metadata": {},
   "outputs": [],
   "source": [
    "import os\n",
    "\n",
    "import torch\n",
    "from torch import nn\n",
    "from torch.nn import functional as F\n",
    "from torch.utils.data import DataLoader, TensorDataset\n",
    "from tqdm.auto import tqdm\n",
    "\n",
    "import matplotlib.pyplot as plt\n",
    "import numpy as np\n",
    "import pandas as pd"
   ]
  },
  {
   "cell_type": "code",
   "execution_count": 8,
   "metadata": {},
   "outputs": [],
   "source": [
    "\n",
    "'''Different methods for positional embeddings. These are not essential for understanding DDPMs, but are relevant for the ablation study.'''\n",
    "\n",
    "import torch\n",
    "from torch import nn\n",
    "from torch.nn import functional as F\n",
    "\n",
    "\n",
    "class SinusoidalEmbedding(nn.Module):\n",
    "    def __init__(self, size: int, scale: float = 1.0):\n",
    "        super().__init__()\n",
    "        self.size = size\n",
    "        self.scale = scale\n",
    "\n",
    "    def forward(self, x: torch.Tensor):\n",
    "        x = x * self.scale\n",
    "        half_size = self.size // 2\n",
    "        emb = torch.log(torch.Tensor([10000.0])) / (half_size - 1)\n",
    "        emb = torch.exp(-emb * torch.arange(half_size))\n",
    "        emb = emb.to(x.device)\n",
    "        emb = x.unsqueeze(-1) * emb.unsqueeze(0)\n",
    "        emb = torch.cat((torch.sin(emb), torch.cos(emb)), dim=-1)\n",
    "        return emb\n",
    "\n",
    "    def __len__(self):\n",
    "        return self.size\n",
    "\n",
    "\n",
    "class LinearEmbedding(nn.Module):\n",
    "    def __init__(self, size: int, scale: float = 1.0):\n",
    "        super().__init__()\n",
    "        self.size = size\n",
    "        self.scale = scale\n",
    "\n",
    "    def forward(self, x: torch.Tensor):\n",
    "        x = x / self.size * self.scale\n",
    "        return x.unsqueeze(-1)\n",
    "\n",
    "    def __len__(self):\n",
    "        return 1\n",
    "\n",
    "\n",
    "class LearnableEmbedding(nn.Module):\n",
    "    def __init__(self, size: int):\n",
    "        super().__init__()\n",
    "        self.size = size\n",
    "        self.linear = nn.Linear(1, size)\n",
    "\n",
    "    def forward(self, x: torch.Tensor):\n",
    "        return self.linear(x.unsqueeze(-1).float() / self.size)\n",
    "\n",
    "    def __len__(self):\n",
    "        return self.size\n",
    "\n",
    "\n",
    "class IdentityEmbedding(nn.Module):\n",
    "    def __init__(self):\n",
    "        super().__init__()\n",
    "\n",
    "    def forward(self, x: torch.Tensor):\n",
    "        return x.unsqueeze(-1)\n",
    "\n",
    "    def __len__(self):\n",
    "        return 1\n",
    "\n",
    "\n",
    "class ZeroEmbedding(nn.Module):\n",
    "    def __init__(self):\n",
    "        super().__init__()\n",
    "\n",
    "    def forward(self, x: torch.Tensor):\n",
    "        return x.unsqueeze(-1) * 0\n",
    "\n",
    "    def __len__(self):\n",
    "        return 1\n",
    "\n"
   ]
  },
  {
   "cell_type": "code",
   "execution_count": 9,
   "metadata": {},
   "outputs": [],
   "source": [
    "class MLP(nn.Module):\n",
    "    def __init__(self):\n",
    "        super().__init__()\n",
    "\n",
    "        self.time_mlp = SinusoidalEmbedding(128)\n",
    "        # self.angle_mlp1 = SinusoidalEmbedding(128, scale=25.0)\n",
    "        # self.angle_mlp2 = SinusoidalEmbedding(128, scale=25.0)\n",
    "\n",
    "        self.joint_mlp = nn.Sequential(\n",
    "            nn.Linear(163, 1024),\n",
    "            nn.GELU(),\n",
    "            nn.Linear(1024, 1024),\n",
    "            nn.GELU(),\n",
    "            nn.Linear(1024, 1024),\n",
    "            nn.GELU(),\n",
    "            nn.Linear(1024, 1024),\n",
    "            nn.GELU(),\n",
    "            nn.Linear(1024, 1024),\n",
    "            nn.GELU(),\n",
    "            nn.Linear(1024, 33),\n",
    "        )\n",
    "\n",
    "    def forward(self, x, t, angle):\n",
    "        t_emb = self.time_mlp(t)\n",
    "        # angle_emb1 = self.angle_mlp1(angle[:, 0])\n",
    "        # angle_emb2 = self.angle_mlp2(angle[:, 1])\n",
    "        \n",
    "        # x = torch.cat((x, t_emb, angle_emb1, angle_emb2), dim=-1)\n",
    "        x = torch.cat((x, t_emb, angle), dim=-1)\n",
    "        x = self.joint_mlp(x)\n",
    "        return x"
   ]
  },
  {
   "cell_type": "code",
   "execution_count": 10,
   "metadata": {},
   "outputs": [],
   "source": [
    "def add_noise(x_0, noise, alphas_cumprod, t):\n",
    "    sqrt_alphas_cumprod = alphas_cumprod ** 0.5\n",
    "    sqrt_one_minus_alphas_cumprod = (1 - alphas_cumprod) ** 0.5\n",
    "\n",
    "    s1 = sqrt_alphas_cumprod[t]\n",
    "    s2 = sqrt_one_minus_alphas_cumprod[t]\n",
    "\n",
    "    s1 = s1.reshape(-1, 1)\n",
    "    s2 = s2.reshape(-1, 1)\n",
    "\n",
    "    return s1*x_0 + s2*noise\n",
    "\n",
    "def reconstruct_xt(noise, x_t, t, betas):\n",
    "        alphas = 1.0 - betas\n",
    "        alphas_cumprod = torch.cumprod(alphas, axis=0)\n",
    "        alphas_cumprod_prev = F.pad(alphas_cumprod[:-1], (1, 0), value=1.)\n",
    "\n",
    "        sqrt_inv_alphas_cumprod = torch.sqrt(1 / alphas_cumprod)\n",
    "        sqrt_inv_alphas_cumprod_minus_one = torch.sqrt(1 / alphas_cumprod - 1)\n",
    "\n",
    "        posterior_mean_coef1 = betas * torch.sqrt(alphas_cumprod_prev) / (1. - alphas_cumprod)\n",
    "        posterior_mean_coef2 = (1. - alphas_cumprod_prev) * torch.sqrt(alphas) / (1. - alphas_cumprod)\n",
    "\n",
    "        s1 = sqrt_inv_alphas_cumprod[t]\n",
    "        s2 = sqrt_inv_alphas_cumprod_minus_one[t]\n",
    "        s1 = s1.reshape(-1, 1)\n",
    "        s2 = s2.reshape(-1, 1)\n",
    "        pred_x0 = s1 * x_t - s2 * noise\n",
    "\n",
    "        posterior_mean_coef1 = betas * torch.sqrt(alphas_cumprod_prev) / (1. - alphas_cumprod)\n",
    "        posterior_mean_coef2 = (1. - alphas_cumprod_prev) * torch.sqrt(alphas) / (1. - alphas_cumprod)\n",
    "        s1 = posterior_mean_coef1[t]\n",
    "        s2 = posterior_mean_coef2[t]\n",
    "        s1 = s1.reshape(-1, 1)\n",
    "        s2 = s2.reshape(-1, 1)\n",
    "        x_t = s1 * pred_x0 + s2 * x_t\n",
    "\n",
    "        variance = 0\n",
    "        if t > 0:\n",
    "            variance = betas[t] * (1. - alphas_cumprod_prev[t]) / (1. - alphas_cumprod[t])\n",
    "            variance = variance.clip(1e-20)\n",
    "            noise = torch.randn_like(noise)\n",
    "            variance = (variance ** 0.5) * noise\n",
    "\n",
    "        pred_prev_sample = x_t + variance\n",
    "\n",
    "        return pred_prev_sample"
   ]
  },
  {
   "cell_type": "code",
   "execution_count": 11,
   "metadata": {},
   "outputs": [],
   "source": [
    "device = torch.device(\"cuda\" if torch.cuda.is_available() else \"cpu\")\n",
    "\n",
    "# Hyperparameters\n",
    "lr = 1e-3\n",
    "epochs = 1000\n",
    "num_timesteps = 1000\n",
    "batch_size = 128\n",
    "beta_schedule = \"linear\"\n",
    "betas = torch.tensor(np.linspace(1e-4, 0.02, num_timesteps), dtype=torch.float32)\n",
    "alphas = 1.0 - betas\n",
    "alphas_cumprod = torch.cumprod(alphas, axis=0)\n",
    "\n",
    "# Dataset\n",
    "dataset = ModelParamsDataset(\"../data/eight_angles_small.csv\")\n",
    "dataloader = DataLoader(dataset, batch_size=batch_size, shuffle=True)\n",
    "\n",
    "# Model\n",
    "model = MLP()\n",
    "model.to(device)\n",
    "\n",
    "optimizer = torch.optim.AdamW(model.parameters(), lr=lr)\n",
    "\n",
    "save_path = \"../models/generators/diffusion/\"\n",
    "model_path = save_path + \"diffusion_conditional.pth\""
   ]
  },
  {
   "cell_type": "code",
   "execution_count": null,
   "metadata": {},
   "outputs": [
    {
     "data": {
      "application/vnd.jupyter.widget-view+json": {
       "model_id": "9c1dff792c6c405498f8cb1b0f98ceba",
       "version_major": 2,
       "version_minor": 0
      },
      "text/plain": [
       "  0%|          | 0/1000 [00:00<?, ?it/s]"
      ]
     },
     "metadata": {},
     "output_type": "display_data"
    },
    {
     "name": "stdout",
     "output_type": "stream",
     "text": [
      "Epoch 0: Loss 0.4160407781600952\n",
      "Epoch 5: Loss 0.3299024999141693\n",
      "Epoch 10: Loss 0.3314858078956604\n",
      "Epoch 15: Loss 0.3848491609096527\n",
      "Epoch 20: Loss 0.3426653742790222\n",
      "Epoch 25: Loss 0.34346309304237366\n",
      "Epoch 30: Loss 0.2929806113243103\n",
      "Epoch 35: Loss 0.36787959933280945\n",
      "Epoch 40: Loss 0.2956792712211609\n",
      "Epoch 45: Loss 0.3206404149532318\n",
      "Epoch 50: Loss 0.2833181619644165\n",
      "Epoch 55: Loss 0.2750529944896698\n",
      "Epoch 60: Loss 0.2868877947330475\n",
      "Epoch 65: Loss 0.300626277923584\n",
      "Epoch 70: Loss 0.3329067826271057\n",
      "Epoch 75: Loss 0.31741318106651306\n",
      "Epoch 80: Loss 0.24850305914878845\n",
      "Epoch 85: Loss 0.29687315225601196\n",
      "Epoch 90: Loss 0.2913669943809509\n",
      "Epoch 95: Loss 0.26887911558151245\n",
      "Epoch 100: Loss 0.2887474000453949\n",
      "Epoch 105: Loss 0.3376810550689697\n",
      "Epoch 110: Loss 0.3139098286628723\n",
      "Epoch 115: Loss 0.2557019293308258\n",
      "Epoch 120: Loss 0.27787479758262634\n",
      "Epoch 125: Loss 0.22878333926200867\n",
      "Epoch 130: Loss 0.250835120677948\n",
      "Epoch 135: Loss 0.3055724799633026\n",
      "Epoch 140: Loss 0.2967364490032196\n",
      "Epoch 145: Loss 0.2572450041770935\n",
      "Epoch 150: Loss 0.3115825653076172\n",
      "Epoch 155: Loss 0.2852550446987152\n",
      "Epoch 160: Loss 0.27026692032814026\n",
      "Epoch 165: Loss 0.24966906011104584\n",
      "Epoch 170: Loss 0.26946017146110535\n",
      "Epoch 175: Loss 0.2602311968803406\n",
      "Epoch 180: Loss 0.24356761574745178\n",
      "Epoch 185: Loss 0.2749826908111572\n",
      "Epoch 190: Loss 0.2693774700164795\n",
      "Epoch 195: Loss 0.2481166422367096\n",
      "Epoch 200: Loss 0.2709745466709137\n",
      "Epoch 205: Loss 0.2856432795524597\n",
      "Epoch 210: Loss 0.2602752447128296\n",
      "Epoch 215: Loss 0.3092476427555084\n",
      "Epoch 220: Loss 0.2493707239627838\n",
      "Epoch 225: Loss 0.21754300594329834\n",
      "Epoch 230: Loss 0.26575595140457153\n",
      "Epoch 235: Loss 0.23838144540786743\n",
      "Epoch 240: Loss 0.30561399459838867\n",
      "Epoch 245: Loss 0.3054957389831543\n",
      "Epoch 250: Loss 0.296122670173645\n",
      "Epoch 255: Loss 0.26401981711387634\n",
      "Epoch 260: Loss 0.28403589129447937\n",
      "Epoch 265: Loss 0.2650603652000427\n",
      "Epoch 270: Loss 0.24127119779586792\n",
      "Epoch 275: Loss 0.2528325915336609\n",
      "Epoch 280: Loss 0.2640984058380127\n",
      "Epoch 285: Loss 0.3038485646247864\n",
      "Epoch 290: Loss 0.2456813007593155\n",
      "Epoch 295: Loss 0.26374995708465576\n",
      "Epoch 300: Loss 0.29049476981163025\n",
      "Epoch 305: Loss 0.26418766379356384\n",
      "Epoch 310: Loss 0.3045491874217987\n",
      "Epoch 315: Loss 0.24222971498966217\n",
      "Epoch 320: Loss 0.29835712909698486\n",
      "Epoch 325: Loss 0.2833421528339386\n",
      "Epoch 330: Loss 0.2447391301393509\n",
      "Epoch 335: Loss 0.21428412199020386\n",
      "Epoch 340: Loss 0.22950655221939087\n",
      "Epoch 345: Loss 0.25100958347320557\n",
      "Epoch 350: Loss 0.26556432247161865\n",
      "Epoch 355: Loss 0.24678051471710205\n",
      "Epoch 360: Loss 0.24322383105754852\n",
      "Epoch 365: Loss 0.3173202574253082\n",
      "Epoch 370: Loss 0.2960485517978668\n",
      "Epoch 375: Loss 0.25610432028770447\n",
      "Epoch 380: Loss 0.21751205623149872\n",
      "Epoch 385: Loss 0.22417406737804413\n",
      "Epoch 390: Loss 0.2629898190498352\n",
      "Epoch 395: Loss 0.26285386085510254\n",
      "Epoch 400: Loss 0.3120269179344177\n",
      "Epoch 405: Loss 0.2727524936199188\n",
      "Epoch 410: Loss 0.2901327610015869\n",
      "Epoch 415: Loss 0.2794208824634552\n",
      "Epoch 420: Loss 0.30947330594062805\n",
      "Epoch 425: Loss 0.23312462866306305\n",
      "Epoch 430: Loss 0.2317483276128769\n",
      "Epoch 435: Loss 0.28361809253692627\n",
      "Epoch 440: Loss 0.2495414912700653\n",
      "Epoch 445: Loss 0.2608417570590973\n",
      "Epoch 450: Loss 0.2501058280467987\n",
      "Epoch 455: Loss 0.27166202664375305\n",
      "Epoch 460: Loss 0.26947012543678284\n",
      "Epoch 465: Loss 0.2329212725162506\n",
      "Epoch 470: Loss 0.2309132069349289\n",
      "Epoch 475: Loss 0.30086541175842285\n",
      "Epoch 480: Loss 0.2733333110809326\n",
      "Epoch 485: Loss 0.2885902225971222\n",
      "Epoch 490: Loss 0.24122093617916107\n",
      "Epoch 495: Loss 0.2720213234424591\n",
      "Epoch 500: Loss 0.2746679186820984\n",
      "Epoch 505: Loss 0.2791042923927307\n",
      "Epoch 510: Loss 0.2896949350833893\n",
      "Epoch 515: Loss 0.22592730820178986\n",
      "Epoch 520: Loss 0.2722022533416748\n",
      "Epoch 525: Loss 0.27526596188545227\n",
      "Epoch 530: Loss 0.2674746513366699\n",
      "Epoch 535: Loss 0.23480534553527832\n",
      "Epoch 540: Loss 0.2459625005722046\n",
      "Epoch 545: Loss 0.2729067802429199\n",
      "Epoch 550: Loss 0.28158557415008545\n",
      "Epoch 555: Loss 0.2503528594970703\n",
      "Epoch 560: Loss 0.27715158462524414\n",
      "Epoch 565: Loss 0.2434215545654297\n",
      "Epoch 570: Loss 0.28073135018348694\n",
      "Epoch 575: Loss 0.26249799132347107\n",
      "Epoch 580: Loss 0.2753440737724304\n",
      "Epoch 585: Loss 0.23974855244159698\n",
      "Epoch 590: Loss 0.29046133160591125\n",
      "Epoch 595: Loss 0.27610310912132263\n",
      "Epoch 600: Loss 0.28962910175323486\n",
      "Epoch 605: Loss 0.25648295879364014\n",
      "Epoch 610: Loss 0.2579493224620819\n",
      "Epoch 615: Loss 0.28588035702705383\n",
      "Epoch 620: Loss 0.2818610966205597\n",
      "Epoch 625: Loss 0.264254093170166\n",
      "Epoch 630: Loss 0.2792867422103882\n",
      "Epoch 635: Loss 0.26665928959846497\n",
      "Epoch 640: Loss 0.26577028632164\n",
      "Epoch 645: Loss 0.236688494682312\n",
      "Epoch 650: Loss 0.3265657126903534\n",
      "Epoch 655: Loss 0.2680680453777313\n",
      "Epoch 660: Loss 0.25043758749961853\n",
      "Epoch 665: Loss 0.27270665764808655\n",
      "Epoch 670: Loss 0.23853591084480286\n",
      "Epoch 675: Loss 0.23358988761901855\n",
      "Epoch 680: Loss 0.27368223667144775\n",
      "Epoch 685: Loss 0.28995394706726074\n",
      "Epoch 690: Loss 0.23098480701446533\n",
      "Epoch 695: Loss 0.2995903789997101\n",
      "Epoch 700: Loss 0.2245914191007614\n",
      "Epoch 705: Loss 0.30742761492729187\n",
      "Epoch 710: Loss 0.29256919026374817\n",
      "Epoch 715: Loss 0.21819865703582764\n",
      "Epoch 720: Loss 0.2528684735298157\n",
      "Epoch 725: Loss 0.24780091643333435\n",
      "Epoch 730: Loss 0.2218509018421173\n",
      "Epoch 735: Loss 0.30445989966392517\n",
      "Epoch 740: Loss 0.2589355707168579\n",
      "Epoch 745: Loss 0.2448897510766983\n",
      "Epoch 750: Loss 0.22110359370708466\n",
      "Epoch 755: Loss 0.2960432767868042\n",
      "Epoch 760: Loss 0.21245455741882324\n",
      "Epoch 765: Loss 0.2528519630432129\n",
      "Epoch 770: Loss 0.27744999527931213\n",
      "Epoch 775: Loss 0.2589337229728699\n",
      "Epoch 780: Loss 0.28194716572761536\n",
      "Epoch 785: Loss 0.270936518907547\n",
      "Epoch 790: Loss 0.26764586567878723\n",
      "Epoch 795: Loss 0.2533768117427826\n",
      "Epoch 800: Loss 0.278900682926178\n",
      "Epoch 805: Loss 0.2762487530708313\n",
      "Epoch 810: Loss 0.2158784121274948\n",
      "Epoch 815: Loss 0.25115329027175903\n",
      "Epoch 820: Loss 0.25141850113868713\n",
      "Epoch 825: Loss 0.27236875891685486\n",
      "Epoch 830: Loss 0.2789691090583801\n",
      "Epoch 835: Loss 0.26610493659973145\n",
      "Epoch 840: Loss 0.26175573468208313\n",
      "Epoch 845: Loss 0.26749280095100403\n",
      "Epoch 850: Loss 0.28146421909332275\n",
      "Epoch 855: Loss 0.22414490580558777\n",
      "Epoch 860: Loss 0.2761314809322357\n",
      "Epoch 865: Loss 0.2598339021205902\n",
      "Epoch 870: Loss 0.2548014521598816\n",
      "Epoch 875: Loss 0.2589068114757538\n",
      "Epoch 880: Loss 0.23639963567256927\n",
      "Epoch 885: Loss 0.26230207085609436\n",
      "Epoch 890: Loss 0.2286207526922226\n",
      "Epoch 895: Loss 0.25431740283966064\n",
      "Epoch 900: Loss 0.29230064153671265\n",
      "Epoch 905: Loss 0.2606334090232849\n",
      "Epoch 910: Loss 0.28727853298187256\n",
      "Epoch 915: Loss 0.25643810629844666\n",
      "Epoch 920: Loss 0.26451191306114197\n",
      "Epoch 925: Loss 0.27021846175193787\n",
      "Epoch 930: Loss 0.2726239264011383\n",
      "Epoch 935: Loss 0.2617121934890747\n",
      "Epoch 940: Loss 0.2492005079984665\n",
      "Epoch 945: Loss 0.2589733302593231\n",
      "Epoch 950: Loss 0.27392148971557617\n",
      "Epoch 955: Loss 0.25818896293640137\n",
      "Epoch 960: Loss 0.25139808654785156\n",
      "Epoch 965: Loss 0.2544778883457184\n",
      "Epoch 970: Loss 0.2594553828239441\n",
      "Epoch 975: Loss 0.27671530842781067\n",
      "Epoch 980: Loss 0.23158623278141022\n",
      "Epoch 985: Loss 0.2775670886039734\n",
      "Epoch 990: Loss 0.27319809794425964\n",
      "Epoch 995: Loss 0.26227709650993347\n"
     ]
    }
   ],
   "source": [
    "model.train()\n",
    "\n",
    "losses = []\n",
    "\n",
    "for epoch in tqdm(range(epochs)):\n",
    "    for (X, y) in dataloader:\n",
    "        noise = torch.randn(X.shape)\n",
    "        timesteps = torch.randint(0, num_timesteps, (X.shape[0],)).long()\n",
    "\n",
    "        y = y * torch.pi / 180\n",
    "        sin = torch.sin(y)\n",
    "        cos = torch.cos(y)\n",
    "        angle = torch.cat([sin[:, None], cos[:, None]], dim=1)\n",
    "\n",
    "        noisy = add_noise(X, noise, alphas_cumprod, timesteps)\n",
    "\n",
    "        timesteps = timesteps.to(device)\n",
    "        angle = angle.to(device)\n",
    "        noisy = noisy.to(device)\n",
    "        noise = noise.to(device)\n",
    "\n",
    "        noise_pred = model(noisy, timesteps, angle)\n",
    "        loss = F.mse_loss(noise_pred, noise)\n",
    "        loss.backward()\n",
    "\n",
    "        nn.utils.clip_grad_norm_(model.parameters(), 1.0)\n",
    "        optimizer.step()\n",
    "        optimizer.zero_grad()\n",
    "    \n",
    "    if(epoch % 5 == 0):\n",
    "        print(f\"Epoch {epoch}: Loss {loss.item()}\")\n",
    "        losses.append(loss.item())\n",
    "\n",
    "torch.save(model.state_dict(), model_path)"
   ]
  },
  {
   "cell_type": "code",
   "execution_count": 13,
   "metadata": {},
   "outputs": [],
   "source": [
    "def generate(model, angle, betas):\n",
    "    betas = betas\n",
    "    a = torch.tensor([angle * np.pi / 180])\n",
    "    sin = torch.sin(a)\n",
    "    cos = torch.cos(a)\n",
    "    a = torch.cat([sin[None, :], cos[None, :]], dim=1)\n",
    "\n",
    "    sample = torch.randn(1, 33)\n",
    "    timesteps = list(range(1000))[::-1]\n",
    "    for i, t in enumerate(timesteps):\n",
    "        t = torch.from_numpy(np.repeat(t, 1)).long()\n",
    "        with torch.no_grad():\n",
    "            residual = model(sample, t, a)\n",
    "        sample = reconstruct_xt(residual, sample, t[0], betas)\n",
    "\n",
    "    return sample[0]"
   ]
  },
  {
   "cell_type": "code",
   "execution_count": 14,
   "metadata": {},
   "outputs": [
    {
     "data": {
      "application/vnd.jupyter.widget-view+json": {
       "model_id": "782c72b21f3e4731baf00e87c91fa8a3",
       "version_major": 2,
       "version_minor": 0
      },
      "text/plain": [
       "interactive(children=(IntSlider(value=180, description='angle', max=360), Output()), _dom_classes=('widget-int…"
      ]
     },
     "metadata": {},
     "output_type": "display_data"
    },
    {
     "data": {
      "text/plain": [
       "<function __main__.slider(angle)>"
      ]
     },
     "execution_count": 14,
     "metadata": {},
     "output_type": "execute_result"
    }
   ],
   "source": [
    "model = MLP()\n",
    "model.load_state_dict(torch.load(model_path))\n",
    "model.eval()\n",
    "\n",
    "angle = 22\n",
    "def slider(angle):\n",
    "    sample = generate(model, angle, betas)\n",
    "    X, y = get_moons_dataset()\n",
    "    X_rotated = rotate(X, angle)\n",
    "    plot_decision_boundary(sample, X_rotated, y)\n",
    "\n",
    "from ipywidgets import interact\n",
    "interact(slider, angle=(0, 360, 1))"
   ]
  },
  {
   "cell_type": "code",
   "execution_count": 42,
   "metadata": {},
   "outputs": [
    {
     "data": {
      "application/vnd.jupyter.widget-view+json": {
       "model_id": "e1bfde97c35e45d48322dfa3f2e643ab",
       "version_major": 2,
       "version_minor": 0
      },
      "text/plain": [
       "  0%|          | 0/8 [00:00<?, ?it/s]"
      ]
     },
     "metadata": {},
     "output_type": "display_data"
    },
    {
     "data": {
      "application/vnd.jupyter.widget-view+json": {
       "model_id": "552ff73a3dc849bcb1327a734bd81ee9",
       "version_major": 2,
       "version_minor": 0
      },
      "text/plain": [
       "  0%|          | 0/1000 [00:00<?, ?it/s]"
      ]
     },
     "metadata": {},
     "output_type": "display_data"
    },
    {
     "name": "stderr",
     "output_type": "stream",
     "text": [
      "C:\\Users\\JetFire\\AppData\\Local\\Temp\\ipykernel_9824\\2653714553.py:13: UserWarning: To copy construct from a tensor, it is recommended to use sourceTensor.clone().detach() or sourceTensor.clone().detach().requires_grad_(True), rather than torch.tensor(sourceTensor).\n",
      "  x = torch.tensor(x, dtype=torch.float32)\n"
     ]
    },
    {
     "data": {
      "application/vnd.jupyter.widget-view+json": {
       "model_id": "a31b7301021d4b22bf3c3e0b57cc46c3",
       "version_major": 2,
       "version_minor": 0
      },
      "text/plain": [
       "  0%|          | 0/1000 [00:00<?, ?it/s]"
      ]
     },
     "metadata": {},
     "output_type": "display_data"
    },
    {
     "data": {
      "application/vnd.jupyter.widget-view+json": {
       "model_id": "6c3d9b75aaa244eba08716d8cdc0aaf3",
       "version_major": 2,
       "version_minor": 0
      },
      "text/plain": [
       "  0%|          | 0/1000 [00:00<?, ?it/s]"
      ]
     },
     "metadata": {},
     "output_type": "display_data"
    },
    {
     "data": {
      "application/vnd.jupyter.widget-view+json": {
       "model_id": "ae7d34212bf34da18643eb0331014b48",
       "version_major": 2,
       "version_minor": 0
      },
      "text/plain": [
       "  0%|          | 0/1000 [00:00<?, ?it/s]"
      ]
     },
     "metadata": {},
     "output_type": "display_data"
    },
    {
     "data": {
      "application/vnd.jupyter.widget-view+json": {
       "model_id": "5f545ba42dd84193acc9e02ae7752aa0",
       "version_major": 2,
       "version_minor": 0
      },
      "text/plain": [
       "  0%|          | 0/1000 [00:00<?, ?it/s]"
      ]
     },
     "metadata": {},
     "output_type": "display_data"
    },
    {
     "data": {
      "application/vnd.jupyter.widget-view+json": {
       "model_id": "f3b2530e4d764616adadcc07e7a0097e",
       "version_major": 2,
       "version_minor": 0
      },
      "text/plain": [
       "  0%|          | 0/1000 [00:00<?, ?it/s]"
      ]
     },
     "metadata": {},
     "output_type": "display_data"
    },
    {
     "data": {
      "application/vnd.jupyter.widget-view+json": {
       "model_id": "a10834c333d34ea3a6a8fef14f43385c",
       "version_major": 2,
       "version_minor": 0
      },
      "text/plain": [
       "  0%|          | 0/1000 [00:00<?, ?it/s]"
      ]
     },
     "metadata": {},
     "output_type": "display_data"
    },
    {
     "data": {
      "application/vnd.jupyter.widget-view+json": {
       "model_id": "ab7999b03a0040f3ac8d7b2e6cd27c3f",
       "version_major": 2,
       "version_minor": 0
      },
      "text/plain": [
       "  0%|          | 0/1000 [00:00<?, ?it/s]"
      ]
     },
     "metadata": {},
     "output_type": "display_data"
    },
    {
     "name": "stdout",
     "output_type": "stream",
     "text": [
      "Mean accuracy: 94.81505\n"
     ]
    }
   ],
   "source": [
    "model = MLP()\n",
    "model.load_state_dict(torch.load(model_path))\n",
    "model\n",
    "model.eval()\n",
    "\n",
    "accuracies = []\n",
    "angles = [0, 45, 90, 135, 180, 225, 270, 315]\n",
    "X, y = get_moons_dataset()\n",
    "with torch.no_grad():\n",
    "    for angle in tqdm(angles):\n",
    "        for i in tqdm(range(1000)):\n",
    "            x = generate(model, angle, betas)\n",
    "            x = torch.tensor(x, dtype=torch.float32)\n",
    "\n",
    "            X_rotated = rotate(X, angle)\n",
    "            X_rotated = torch.tensor(X_rotated, dtype=torch.float32)\n",
    "\n",
    "            accuracy = get_accuracy(x, X_rotated, y)\n",
    "            accuracies.append(accuracy)\n",
    "    \n",
    "\n",
    "print(\"Mean accuracy:\", np.mean(accuracies))"
   ]
  },
  {
   "cell_type": "code",
   "execution_count": 45,
   "metadata": {},
   "outputs": [
    {
     "data": {
      "text/plain": [
       "<Axes: ylabel='Density'>"
      ]
     },
     "execution_count": 45,
     "metadata": {},
     "output_type": "execute_result"
    },
    {
     "data": {
      "image/png": "[encoded data removed]",
      "text/plain": [
       "<Figure size 640x480 with 1 Axes>"
      ]
     },
     "metadata": {},
     "output_type": "display_data"
    }
   ],
   "source": [
    "sns.kdeplot(accuracies, fill=True)"
   ]
  },
  {
   "cell_type": "code",
   "execution_count": null,
   "metadata": {},
   "outputs": [
    {
     "data": {
      "application/vnd.jupyter.widget-view+json": {
       "model_id": "3dbfb4d1fb804733be85df2812305899",
       "version_major": 2,
       "version_minor": 0
      },
      "text/plain": [
       "  0%|          | 0/8 [00:00<?, ?it/s]"
      ]
     },
     "metadata": {},
     "output_type": "display_data"
    },
    {
     "data": {
      "application/vnd.jupyter.widget-view+json": {
       "model_id": "7a051cdec7494d81bb4c5389714cf1f4",
       "version_major": 2,
       "version_minor": 0
      },
      "text/plain": [
       "  0%|          | 0/1000 [00:00<?, ?it/s]"
      ]
     },
     "metadata": {},
     "output_type": "display_data"
    },
    {
     "name": "stderr",
     "output_type": "stream",
     "text": [
      "C:\\Users\\JetFire\\AppData\\Local\\Temp\\ipykernel_9824\\438079878.py:13: UserWarning: To copy construct from a tensor, it is recommended to use sourceTensor.clone().detach() or sourceTensor.clone().detach().requires_grad_(True), rather than torch.tensor(sourceTensor).\n",
      "  x = torch.tensor(x, dtype=torch.float32)\n"
     ]
    },
    {
     "data": {
      "application/vnd.jupyter.widget-view+json": {
       "model_id": "782a8f57bbeb40a48f6c07726f1ec505",
       "version_major": 2,
       "version_minor": 0
      },
      "text/plain": [
       "  0%|          | 0/1000 [00:00<?, ?it/s]"
      ]
     },
     "metadata": {},
     "output_type": "display_data"
    },
    {
     "data": {
      "application/vnd.jupyter.widget-view+json": {
       "model_id": "25ef9e45213d4899be114391a58a94c8",
       "version_major": 2,
       "version_minor": 0
      },
      "text/plain": [
       "  0%|          | 0/1000 [00:00<?, ?it/s]"
      ]
     },
     "metadata": {},
     "output_type": "display_data"
    },
    {
     "data": {
      "application/vnd.jupyter.widget-view+json": {
       "model_id": "193851ee7219443bb5d97fc90c5eaab9",
       "version_major": 2,
       "version_minor": 0
      },
      "text/plain": [
       "  0%|          | 0/1000 [00:00<?, ?it/s]"
      ]
     },
     "metadata": {},
     "output_type": "display_data"
    },
    {
     "data": {
      "application/vnd.jupyter.widget-view+json": {
       "model_id": "e2f881055cc84071b9cbb78a6eb0ac62",
       "version_major": 2,
       "version_minor": 0
      },
      "text/plain": [
       "  0%|          | 0/1000 [00:00<?, ?it/s]"
      ]
     },
     "metadata": {},
     "output_type": "display_data"
    },
    {
     "data": {
      "application/vnd.jupyter.widget-view+json": {
       "model_id": "37450997644f4c9f9a53969b6e7620f0",
       "version_major": 2,
       "version_minor": 0
      },
      "text/plain": [
       "  0%|          | 0/1000 [00:00<?, ?it/s]"
      ]
     },
     "metadata": {},
     "output_type": "display_data"
    },
    {
     "data": {
      "application/vnd.jupyter.widget-view+json": {
       "model_id": "d0a7f4bde85c4fecbeced1ac0f156e90",
       "version_major": 2,
       "version_minor": 0
      },
      "text/plain": [
       "  0%|          | 0/1000 [00:00<?, ?it/s]"
      ]
     },
     "metadata": {},
     "output_type": "display_data"
    },
    {
     "data": {
      "application/vnd.jupyter.widget-view+json": {
       "model_id": "54277bc1b75c473da20b7cf254882328",
       "version_major": 2,
       "version_minor": 0
      },
      "text/plain": [
       "  0%|          | 0/1000 [00:00<?, ?it/s]"
      ]
     },
     "metadata": {},
     "output_type": "display_data"
    },
    {
     "name": "stdout",
     "output_type": "stream",
     "text": [
      "Mean accuracy: 94.47617499999998\n"
     ]
    }
   ],
   "source": [
    "model = MLP()\n",
    "model.load_state_dict(torch.load(model_path))\n",
    "model.eval()\n",
    "\n",
    "accuracies = []\n",
    "angles = [45/2, 135/2, 225/2, 315/2, 405/2, 495/2, 585/2, 675/2]\n",
    "X, y = get_moons_dataset()\n",
    "with torch.no_grad():\n",
    "    for angle in tqdm(angles):\n",
    "        for i in tqdm(range(1000)):\n",
    "            x = generate(model, angle, betas)\n",
    "            x = torch.tensor(x, dtype=torch.float32)\n",
    "\n",
    "            X_rotated = rotate(X, angle)\n",
    "            X_rotated = torch.tensor(X_rotated, dtype=torch.float32)\n",
    "\n",
    "            accuracy = get_accuracy(x, X_rotated, y)\n",
    "            accuracies.append(accuracy)\n",
    "    \n",
    "\n",
    "print(\"Mean accuracy:\", np.mean(accuracies))"
   ]
  },
  {
   "cell_type": "code",
   "execution_count": 47,
   "metadata": {},
   "outputs": [
    {
     "data": {
      "text/plain": [
       "<Axes: ylabel='Density'>"
      ]
     },
     "execution_count": 47,
     "metadata": {},
     "output_type": "execute_result"
    },
    {
     "data": {
      "image/png": "[encoded data removed]",
      "text/plain": [
       "<Figure size 640x480 with 1 Axes>"
      ]
     },
     "metadata": {},
     "output_type": "display_data"
    }
   ],
   "source": [
    "sns.kdeplot(accuracies, fill=True)"
   ]
  },
  {
   "cell_type": "markdown",
   "metadata": {},
   "source": [
    "## Parameters distribution"
   ]
  },
  {
   "cell_type": "code",
   "execution_count": 49,
   "metadata": {},
   "outputs": [
    {
     "data": {
      "application/vnd.jupyter.widget-view+json": {
       "model_id": "9ca6395c2c0a46f39b6d0dca983b5bb8",
       "version_major": 2,
       "version_minor": 0
      },
      "text/plain": [
       "  0%|          | 0/1000 [00:00<?, ?it/s]"
      ]
     },
     "metadata": {},
     "output_type": "display_data"
    },
    {
     "name": "stderr",
     "output_type": "stream",
     "text": [
      "C:\\Users\\JetFire\\AppData\\Local\\Temp\\ipykernel_9824\\1001082699.py:11: UserWarning: To copy construct from a tensor, it is recommended to use sourceTensor.clone().detach() or sourceTensor.clone().detach().requires_grad_(True), rather than torch.tensor(sourceTensor).\n",
      "  x = torch.tensor(x, dtype=torch.float32)\n"
     ]
    },
    {
     "name": "stdout",
     "output_type": "stream",
     "text": [
      "Mean accuracy: 95.9581\n"
     ]
    },
    {
     "ename": "AttributeError",
     "evalue": "'list' object has no attribute 'T'",
     "output_type": "error",
     "traceback": [
      "\u001b[1;31m---------------------------------------------------------------------------\u001b[0m",
      "\u001b[1;31mAttributeError\u001b[0m                            Traceback (most recent call last)",
      "Cell \u001b[1;32mIn[49], line 20\u001b[0m\n\u001b[0;32m     17\u001b[0m     accuracies\u001b[38;5;241m.\u001b[39mappend(accuracy)\n\u001b[0;32m     19\u001b[0m \u001b[38;5;28mprint\u001b[39m(\u001b[38;5;124m\"\u001b[39m\u001b[38;5;124mMean accuracy:\u001b[39m\u001b[38;5;124m\"\u001b[39m, np\u001b[38;5;241m.\u001b[39mmean(accuracies))\n\u001b[1;32m---> 20\u001b[0m plt\u001b[38;5;241m.\u001b[39mplot(\u001b[43mparameters\u001b[49m\u001b[38;5;241;43m.\u001b[39;49m\u001b[43mT\u001b[49m)\n\u001b[0;32m     21\u001b[0m plt\u001b[38;5;241m.\u001b[39mshow()\n",
      "\u001b[1;31mAttributeError\u001b[0m: 'list' object has no attribute 'T'"
     ]
    }
   ],
   "source": [
    "model = MLP()\n",
    "model.load_state_dict(torch.load(model_path))\n",
    "model.eval()\n",
    "\n",
    "angle = 0\n",
    "accuracies = []\n",
    "parameters = []\n",
    "for i in tqdm(range(1000)):\n",
    "    x = generate(model, angle, betas)\n",
    "    parameters.append(x)\n",
    "    x = torch.tensor(x, dtype=torch.float32)\n",
    "\n",
    "    X_rotated = rotate(X, angle)\n",
    "    X_rotated = torch.tensor(X_rotated, dtype=torch.float32)\n",
    "\n",
    "    accuracy = get_accuracy(x, X_rotated, y)\n",
    "    accuracies.append(accuracy)\n",
    "\n",
    "print(\"Mean accuracy:\", np.mean(accuracies))\n",
    "plt.plot(parameters.T)\n",
    "plt.show()"
   ]
  }
 ],
 "metadata": {
  "kernelspec": {
   "display_name": "venv",
   "language": "python",
   "name": "python3"
  },
  "language_info": {
   "codemirror_mode": {
    "name": "ipython",
    "version": 3
   },
   "file_extension": ".py",
   "mimetype": "text/x-python",
   "name": "python",
   "nbconvert_exporter": "python",
   "pygments_lexer": "ipython3",
   "version": "3.12.2"
  }
 },
 "nbformat": 4,
 "nbformat_minor": 2
}
