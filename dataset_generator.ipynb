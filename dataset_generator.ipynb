{
 "cells": [
  {
   "cell_type": "code",
   "execution_count": 1,
   "metadata": {},
   "outputs": [],
   "source": [
    "import torch\n",
    "import numpy as np\n",
    "\n",
    "from models import MLP\n",
    "from helpers import model_to_list\n",
    "\n",
    "from tqdm.notebook import tqdm\n",
    "import os\n",
    "import csv\n",
    "import yaml"
   ]
  },
  {
   "cell_type": "code",
   "execution_count": 2,
   "metadata": {},
   "outputs": [],
   "source": [
    "with open('config.yaml') as f:\n",
    "    config = yaml.load(f, Loader=yaml.FullLoader)\n",
    "\n",
    "datasets_path = config[\"directories\"][\"datasets_path\"]\n",
    "models_path = config[\"directories\"][\"models_path\"]"
   ]
  },
  {
   "cell_type": "code",
   "execution_count": 3,
   "metadata": {},
   "outputs": [],
   "source": [
    "def weights_to_csv(dataset_name: str) -> bool:\n",
    "    '''\n",
    "    Save all model weights from a dataset into single csv file.\n",
    "\n",
    "    Parameters:\n",
    "        dataset_name (str): name of the dataset.\n",
    "\n",
    "    Returns:\n",
    "        bool: True if the csv file was created, False otherwise.\n",
    "    '''\n",
    "\n",
    "    path = os.path.join(models_path, dataset_name)\n",
    "    if(os.path.exists(path)):\n",
    "        csv_path = os.path.join(datasets_path, f\"{dataset_name}.csv\")\n",
    "        with(open(csv_path, \"w\")) as f:\n",
    "            fieldnames = [f\"weight_{i}\" for i in range(0, 151)]\n",
    "            fieldnames.append(\"angle\")\n",
    "            writer = csv.writer(f, lineterminator = '\\n')\n",
    "            writer.writerow(fieldnames)\n",
    "\n",
    "            models = os.listdir(path)\n",
    "            for model in tqdm(models):\n",
    "                angle = int(model.split(\"_\")[1])\n",
    "                m = MLP()\n",
    "                m.load_state_dict(torch.load(f\"{path}/{model}\"))\n",
    "                weights = model_to_list(m)\n",
    "                row = weights.tolist()\n",
    "                row.append(angle)\n",
    "                writer.writerow(row)\n",
    "        return True\n",
    "    else:\n",
    "        print(\"No models for this dataset found!\")\n",
    "        return False"
   ]
  },
  {
   "cell_type": "code",
   "execution_count": 4,
   "metadata": {},
   "outputs": [
    {
     "data": {
      "application/vnd.jupyter.widget-view+json": {
       "model_id": "09121b3d9f8c48aa94decf90aad4ed0c",
       "version_major": 2,
       "version_minor": 0
      },
      "text/plain": [
       "  0%|          | 0/8000 [00:00<?, ?it/s]"
      ]
     },
     "metadata": {},
     "output_type": "display_data"
    },
    {
     "data": {
      "text/plain": [
       "True"
      ]
     },
     "execution_count": 4,
     "metadata": {},
     "output_type": "execute_result"
    }
   ],
   "source": [
    "weights_to_csv(\"four_angles\")"
   ]
  }
 ],
 "metadata": {
  "kernelspec": {
   "display_name": "venv",
   "language": "python",
   "name": "python3"
  },
  "language_info": {
   "codemirror_mode": {
    "name": "ipython",
    "version": 3
   },
   "file_extension": ".py",
   "mimetype": "text/x-python",
   "name": "python",
   "nbconvert_exporter": "python",
   "pygments_lexer": "ipython3",
   "version": "3.12.2"
  }
 },
 "nbformat": 4,
 "nbformat_minor": 2
}
